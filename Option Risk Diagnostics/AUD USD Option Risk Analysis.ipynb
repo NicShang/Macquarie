{
 "cells": [
  {
   "cell_type": "markdown",
   "metadata": {},
   "source": [
    "# **Project Overview**\n",
    "\n",
    "\n",
    "This project is a risk diagnostics tool designed to evaluate and visualize the risk sensitivities (Greeks) of European-style FX options on AUD/USD, using the Black-Scholes pricing framework.\n",
    "\n",
    "By simulating call and put options across various spot prices and expiry horizons (3M, 6M, 12M), the tool helps assess how volatility, time decay, and delta exposure evolve under changing market conditions, critical for traders managing directional and volatility risk in FX markets.\n"
   ]
  },
  {
   "cell_type": "markdown",
   "metadata": {},
   "source": [
    "## **Key Insights from Visualization:**\n",
    "\n",
    "**1) Vega vs Spot:**\n",
    "The Vega plot indicates that AUD/USD options exhibit the highest sensitivity to implied volatility near at-the-money (ATM) strikes. As time to expiry increases, Vega values rise across the board—highlighting that long-dated options carry greater exposure to volatility risk.\n",
    "\n",
    "**2) Theta vs Spot:**\n",
    "The Theta plot reveals that short-dated options experience the most rapid time decay near ATM levels. This emphasizes the significant impact of time decay on short-term trading strategies, particularly in high-frequency trading contexts.\n",
    "\n",
    "**3) Delta vs Spot across 3M, 6M, and 12M Tenors:**\n",
    "As Days to Expiry (DTE) increases, the shape of the Delta curve evolves, reflecting changing price sensitivity structures. This illustrates the differing risk exposures between linear and nonlinear derivatives across maturities."
   ]
  },
  {
   "cell_type": "code",
   "execution_count": 1,
   "metadata": {},
   "outputs": [],
   "source": [
    "import numpy as np\n",
    "import pandas as pd\n",
    "from typing import Tuple\n",
    "from scipy.stats import norm\n",
    "from quantmod.markets import getData\n",
    "\n",
    "# Plotting\n",
    "import matplotlib.pyplot as plt\n",
    "from tabulate import tabulate\n",
    "import plotly.graph_objects as go"
   ]
  },
  {
   "cell_type": "markdown",
   "metadata": {},
   "source": [
    "###  **Step 1: Define Black Scholes Model**"
   ]
  },
  {
   "cell_type": "code",
   "execution_count": 2,
   "metadata": {
    "scrolled": true
   },
   "outputs": [],
   "source": [
    "class BS:\n",
    "    def __init__(self, spot, strike, rate, dte, volatility):\n",
    "        self.S = spot\n",
    "        self.K = strike\n",
    "        self.r = rate\n",
    "        self.t = dte\n",
    "        self.sigma = volatility\n",
    "        \n",
    "        # Calculate common terms used across methods\n",
    "        self.time_sqrt = np.sqrt(self.t)\n",
    "        self.discount_factor = np.exp(-self.r * self.t)\n",
    "       \n",
    "        # Calculate d1 and d2 parameters\n",
    "        self.d1 = self._calculate_d1()\n",
    "        self.d2 = self.d1 - self.sigma * self.time_sqrt\n",
    "        \n",
    "        # Calculate all option Greeks and prices\n",
    "        self.call_price, self.put_price = self._price()\n",
    "        self.call_delta, self.put_delta = self._delta()\n",
    "        self.gamma = self._gamma()\n",
    "        self.vega = self._vega()\n",
    "        self.call_theta, self.put_theta = self._theta()\n",
    "        self.call_rho, self.put_rho = self._rho()\n",
    "       \n",
    "    def _calculate_d1(self) -> float:\n",
    "        return (np.log(self.S / self.K) + (self.r + (self.sigma**2) / 2) * self.t) / (\n",
    "            self.sigma * self.time_sqrt\n",
    "        )\n",
    "    \n",
    "    def _price(self) -> Tuple[float, float]:\n",
    "        d1_cdf = norm.cdf(self.d1)\n",
    "        d2_cdf = norm.cdf(self.d2)\n",
    "\n",
    "        call = self.S * d1_cdf - self.K * self.discount_factor * d2_cdf\n",
    "        put = self.K * self.discount_factor * norm.cdf(-self.d2) - self.S * norm.cdf(\n",
    "            -self.d1\n",
    "        )\n",
    "        return call, put\n",
    "    \n",
    "    def _delta(self) -> Tuple[float, float]:\n",
    "        d1_cdf = norm.cdf(self.d1)\n",
    "        return d1_cdf, d1_cdf - 1\n",
    "    \n",
    "    def _gamma(self) -> float:\n",
    "        return norm.pdf(self.d1) / (self.S * self.sigma * self.time_sqrt)\n",
    "    \n",
    "    def _vega(self) -> float:\n",
    "        return self.S * norm.pdf(self.d1) * self.time_sqrt / 100\n",
    "    \n",
    "    def _theta(self) -> Tuple[float, float]:\n",
    "        spot_term = -self.S * norm.pdf(self.d1) * self.sigma / (2 * self.time_sqrt)\n",
    "        call_rate_term = -self.r * self.K * self.discount_factor * norm.cdf(self.d2)\n",
    "        put_rate_term = self.r * self.K * self.discount_factor * norm.cdf(-self.d2)\n",
    "\n",
    "        return (spot_term + call_rate_term) / 365, (spot_term + put_rate_term) / 365\n",
    "    \n",
    "    def _rho(self) -> Tuple[float, float]:\n",
    "        call = self.K * self.t * self.discount_factor * norm.cdf(self.d2) / 100\n",
    "        put = -self.K * self.t * self.discount_factor * norm.cdf(-self.d2) / 100\n",
    "        return call, put"
   ]
  },
  {
   "cell_type": "markdown",
   "metadata": {},
   "source": [
    "### **Step 2: Get FX Data (AUD/USD)**"
   ]
  },
  {
   "cell_type": "code",
   "execution_count": 3,
   "metadata": {},
   "outputs": [
    {
     "data": {
      "text/plain": [
       "0.6523114442825317"
      ]
     },
     "execution_count": 3,
     "metadata": {},
     "output_type": "execute_result"
    }
   ],
   "source": [
    "df = getData('AUDUSD=X', period = 'YTD')\n",
    "spot = df.loc['2025-06-26', 'Close']  \n",
    "spot"
   ]
  },
  {
   "cell_type": "markdown",
   "metadata": {},
   "source": [
    "### **Step 3: Simulate AUD/USD Call and Put Option for 3m, 6m, 12m**"
   ]
  },
  {
   "cell_type": "code",
   "execution_count": 4,
   "metadata": {},
   "outputs": [],
   "source": [
    "strikes = np.round(np.linspace(spot * 0.95, spot * 1.05, 9), 5)\n",
    "dtes = [0.25, 0.5, 1.0] "
   ]
  },
  {
   "cell_type": "code",
   "execution_count": 5,
   "metadata": {
    "scrolled": true
   },
   "outputs": [
    {
     "name": "stdout",
     "output_type": "stream",
     "text": [
      "     Strike   DTE  Call Price     Delta      Gamma      Vega     Theta  \\\n",
      "0   0.61970  0.25    0.042457  0.858202   5.736310  0.000732 -0.000112   \n",
      "1   0.61970  0.50    0.052059  0.819118   4.755256  0.001214 -0.000099   \n",
      "2   0.61970  1.00    0.068800  0.805763   3.513811  0.001794 -0.000086   \n",
      "3   0.62785  0.25    0.035879  0.803590   7.075289  0.000903 -0.000120   \n",
      "4   0.62785  0.50    0.045898  0.775783   5.407724  0.001381 -0.000102   \n",
      "5   0.62785  1.00    0.062924  0.774427   3.836927  0.001959 -0.000087   \n",
      "6   0.63600  0.25    0.029807  0.738770   8.307737  0.001061 -0.000125   \n",
      "7   0.63600  0.50    0.040124  0.727753   5.998408  0.001531 -0.000104   \n",
      "8   0.63600  1.00    0.057324  0.740870   4.136628  0.002112 -0.000087   \n",
      "9   0.64416  0.25    0.024307  0.665341   9.304567  0.001188 -0.000129   \n",
      "10  0.64416  0.50    0.034762  0.675729   6.496476  0.001659 -0.000105   \n",
      "11  0.64416  1.00    0.052005  0.705330   4.405575  0.002250 -0.000087   \n",
      "12  0.65231  0.25    0.019446  0.586105   9.954694  0.001271 -0.000128   \n",
      "13  0.65231  0.50    0.029849  0.620813   6.874490  0.001755 -0.000104   \n",
      "14  0.65231  1.00    0.046994  0.668225   4.636397  0.002367 -0.000087   \n",
      "15  0.66047  0.25    0.015239  0.504125  10.192497  0.001301 -0.000124   \n",
      "16  0.66047  0.50    0.025387  0.563996   7.114635  0.001816 -0.000102   \n",
      "17  0.66047  1.00    0.042284  0.629836   4.824169  0.002463 -0.000086   \n",
      "18  0.66862  0.25    0.011696  0.423063  10.002901  0.001277 -0.000117   \n",
      "19  0.66862  0.50    0.021390  0.506611   7.206579  0.001840 -0.000099   \n",
      "20  0.66862  1.00    0.037893  0.590651   4.964376  0.002535 -0.000084   \n",
      "21  0.67677  0.25    0.008783  0.346056   9.424395  0.001203 -0.000106   \n",
      "22  0.67677  0.50    0.017849  0.449782   7.150392  0.001826 -0.000094   \n",
      "23  0.67677  1.00    0.033815  0.551027   5.054776  0.002581 -0.000083   \n",
      "24  0.68493  0.25    0.006448  0.275674   8.535646  0.001090 -0.000093   \n",
      "25  0.68493  0.50    0.014744  0.394558   6.954334  0.001775 -0.000088   \n",
      "26  0.68493  1.00    0.030044  0.511320   5.094469  0.002601 -0.000080   \n",
      "\n",
      "         Rho  \n",
      "0   0.001293  \n",
      "1   0.002411  \n",
      "2   0.004568  \n",
      "3   0.001221  \n",
      "4   0.002301  \n",
      "5   0.004422  \n",
      "6   0.001130  \n",
      "7   0.002173  \n",
      "8   0.004260  \n",
      "9   0.001024  \n",
      "10  0.002030  \n",
      "11  0.004081  \n",
      "12  0.000907  \n",
      "13  0.001876  \n",
      "14  0.003889  \n",
      "15  0.000784  \n",
      "16  0.001713  \n",
      "17  0.003686  \n",
      "18  0.000661  \n",
      "19  0.001545  \n",
      "20  0.003474  \n",
      "21  0.000542  \n",
      "22  0.001378  \n",
      "23  0.003256  \n",
      "24  0.000433  \n",
      "25  0.001213  \n",
      "26  0.003035  \n"
     ]
    }
   ],
   "source": [
    "# Call option \n",
    "\n",
    "call_results = []\n",
    "for k in strikes:\n",
    "    for t in dtes:\n",
    "        opt = BS(spot, k, rate=0.045, dte=t, volatility=0.12)\n",
    "        call_results.append({\n",
    "            \"Strike\": k,\n",
    "            \"DTE\": t,\n",
    "            \"Call Price\": opt.call_price,\n",
    "            \"Delta\": opt.call_delta,\n",
    "            \"Gamma\": opt.gamma,\n",
    "            \"Vega\": opt.vega,\n",
    "            \"Theta\": opt.call_theta,\n",
    "            \"Rho\": opt.call_rho\n",
    "        })\n",
    "\n",
    "call_results = pd.DataFrame(call_results)\n",
    "print(call_results)"
   ]
  },
  {
   "cell_type": "code",
   "execution_count": 6,
   "metadata": {
    "scrolled": true
   },
   "outputs": [
    {
     "name": "stdout",
     "output_type": "stream",
     "text": [
      "     Strike   DTE  Put Price     Delta      Gamma      Vega         Theta  \\\n",
      "0   0.61970  0.25   0.002913 -0.141798   5.736310  0.000732 -3.638562e-05   \n",
      "1   0.61970  0.50   0.005660 -0.180882   4.755256  0.001214 -2.466920e-05   \n",
      "2   0.61970  1.00   0.008920 -0.194237   3.513811  0.001794 -1.277297e-05   \n",
      "3   0.62785  0.25   0.004394 -0.196410   7.075289  0.000903 -4.304996e-05   \n",
      "4   0.62785  0.50   0.007467 -0.224217   5.407724  0.001381 -2.643780e-05   \n",
      "5   0.62785  1.00   0.010836 -0.225573   3.836927  0.001959 -1.272881e-05   \n",
      "6   0.63600  0.25   0.006380 -0.261230   8.307737  0.001061 -4.793684e-05   \n",
      "7   0.63600  0.50   0.009662 -0.272247   5.998408  0.001531 -2.726254e-05   \n",
      "8   0.63600  1.00   0.013027 -0.259130   4.136628  0.002112 -1.227555e-05   \n",
      "9   0.64416  0.25   0.008949 -0.334659   9.304567  0.001188 -5.008176e-05   \n",
      "10  0.64416  0.50   0.012279 -0.324271   6.496476  0.001659 -2.693663e-05   \n",
      "11  0.64416  1.00   0.015509 -0.294670   4.405575  0.002250 -1.136868e-05   \n",
      "12  0.65231  0.25   0.012147 -0.413895   9.954694  0.001271 -4.877215e-05   \n",
      "13  0.65231  0.50   0.015335 -0.379187   6.874490  0.001755 -2.531638e-05   \n",
      "14  0.65231  1.00   0.018289 -0.331775   4.636397  0.002367 -9.979431e-06   \n",
      "15  0.66047  0.25   0.016009 -0.495875  10.192497  0.001301 -4.369908e-05   \n",
      "16  0.66047  0.50   0.018851 -0.436004   7.114635  0.001816 -2.232919e-05   \n",
      "17  0.66047  1.00   0.021380 -0.370164   4.824169  0.002463 -8.087069e-06   \n",
      "18  0.66862  0.25   0.020525 -0.576937  10.002901  0.001277 -3.503182e-05   \n",
      "19  0.66862  0.50   0.022823 -0.493389   7.206579  0.001840 -1.799626e-05   \n",
      "20  0.66862  1.00   0.024780 -0.409349   4.964376  0.002535 -5.693322e-06   \n",
      "21  0.67677  0.25   0.025671 -0.653944   9.424395  0.001203 -2.334856e-05   \n",
      "22  0.67677  0.50   0.027250 -0.550218   7.150392  0.001826 -1.240856e-05   \n",
      "23  0.67677  1.00   0.028494 -0.448973   5.054776  0.002581 -2.807624e-06   \n",
      "24  0.68493  0.25   0.031404 -0.724326   8.535646  0.001090 -9.521536e-06   \n",
      "25  0.68493  0.50   0.032124 -0.605442   6.954334  0.001775 -5.720821e-06   \n",
      "26  0.68493  1.00   0.032524 -0.488680   5.094469  0.002601  5.493752e-07   \n",
      "\n",
      "         Rho  \n",
      "0  -0.000239  \n",
      "1  -0.000618  \n",
      "2  -0.001356  \n",
      "3  -0.000331  \n",
      "4  -0.000769  \n",
      "5  -0.001580  \n",
      "6  -0.000442  \n",
      "7  -0.000936  \n",
      "8  -0.001821  \n",
      "9  -0.000568  \n",
      "10 -0.001119  \n",
      "11 -0.002077  \n",
      "12 -0.000705  \n",
      "13 -0.001313  \n",
      "14 -0.002347  \n",
      "15 -0.000849  \n",
      "16 -0.001516  \n",
      "17 -0.002628  \n",
      "18 -0.000992  \n",
      "19 -0.001723  \n",
      "20 -0.002918  \n",
      "21 -0.001131  \n",
      "22 -0.001931  \n",
      "23 -0.003214  \n",
      "24 -0.001260  \n",
      "25 -0.002135  \n",
      "26 -0.003513  \n"
     ]
    }
   ],
   "source": [
    "# put option\n",
    "\n",
    "put_results = []\n",
    "for k in strikes:\n",
    "    for t in dtes:\n",
    "        opt = BS(spot, k, rate=0.045, dte=t, volatility=0.12)\n",
    "        put_results.append({\n",
    "            \"Strike\": k,\n",
    "            \"DTE\": t,\n",
    "            \"Put Price\": opt.put_price,\n",
    "            \"Delta\": opt.put_delta,\n",
    "            \"Gamma\": opt.gamma,\n",
    "            \"Vega\": opt.vega,\n",
    "            \"Theta\": opt.put_theta,\n",
    "            \"Rho\": opt.put_rho\n",
    "        })\n",
    "\n",
    "put_results = pd.DataFrame(put_results)\n",
    "print(put_results)"
   ]
  },
  {
   "cell_type": "code",
   "execution_count": 7,
   "metadata": {},
   "outputs": [
    {
     "name": "stdout",
     "output_type": "stream",
     "text": [
      "Type      Option Price     Delta    Gamma         Theta         Vega           Rho\n",
      "------  --------------  --------  -------  ------------  -----------  ------------\n",
      "Call        0.0424573   0.858202  5.73631  -0.000111932  0.000732258   0.00129339\n",
      "Put         0.00291328  0.141798  5.73631  -3.63856e-05  0.000732258  -0.000238524\n"
     ]
    }
   ],
   "source": [
    "# Results Comparison Call & Put Option\n",
    "\n",
    "header = ['Type', 'Option Price', 'Delta', 'Gamma', 'Theta', 'Vega', 'Rho']\n",
    "table = [\n",
    "    [\n",
    "        'Call',\n",
    "        call_results['Call Price'].iloc[0],\n",
    "        call_results['Delta'].iloc[0],\n",
    "        call_results['Gamma'].iloc[0],\n",
    "        call_results['Theta'].iloc[0],\n",
    "        call_results['Vega'].iloc[0],\n",
    "        call_results['Rho'].iloc[0],\n",
    "    ],\n",
    "    [\n",
    "        'Put',\n",
    "        put_results['Put Price'].iloc[0],  \n",
    "        -put_results['Delta'].iloc[0],       \n",
    "        put_results['Gamma'].iloc[0],        \n",
    "        put_results['Theta'].iloc[0],        \n",
    "        put_results['Vega'].iloc[0],         \n",
    "        put_results['Rho'].iloc[0],          \n",
    "    ],\n",
    "]\n",
    "\n",
    "print(tabulate(table, headers=header))"
   ]
  },
  {
   "cell_type": "markdown",
   "metadata": {},
   "source": [
    "### **Step 4: Greeks Sensitivity to Spot Price over Days to Expiry**"
   ]
  },
  {
   "cell_type": "code",
   "execution_count": 8,
   "metadata": {},
   "outputs": [],
   "source": [
    "# Parameters Assumption \n",
    "x = np.linspace(spot * 0.95, spot * 1.05, 100)  # ±5% Volatility\n",
    "\n",
    "d = {\n",
    "    '1D': 1/252,\n",
    "    '3M': 0.25,\n",
    "    '6M': 0.5,\n",
    "    '9M': 0.75,\n",
    "    '12M': 1.0\n",
    "}\n",
    "\n",
    "rate = 0.045\n",
    "vol = 0.12\n",
    "strike = spot"
   ]
  },
  {
   "cell_type": "markdown",
   "metadata": {},
   "source": [
    "####  1）Delta vs. Spot "
   ]
  },
  {
   "cell_type": "code",
   "execution_count": 9,
   "metadata": {},
   "outputs": [
    {
     "data": {
      "application/vnd.plotly.v1+json": {
       "config": {
        "plotlyServerURL": "https://plot.ly"
       },
       "data": [
        {
         "mode": "lines",
         "name": "1D",
         "type": "scatter",
         "x": {
          "bdata": "AAAAcIzU4z8IH3xA8tnjPxA++BBY3+M/F1104b3k4z8ffPCxI+rjPyebbIKJ7+M/L7roUu/04z822WQjVfrjPz744PO6/+M/RhddxCAF5D9ONtmUhgrkP1VVVWXsD+Q/XXTRNVIV5D9lk00GuBrkP22yydYdIOQ/dNFFp4Ml5D988MF36SrkP4QPPkhPMOQ/jC66GLU15D+TTTbpGjvkP5tssrmAQOQ/o4suiuZF5D+rqqpaTEvkP7LJJiuyUOQ/uuii+xdW5D/CBx/MfVvkP8omm5zjYOQ/0UUXbUlm5D/ZZJM9r2vkP+GDDw4VceQ/6aKL3np25D/wwQev4HvkP/jgg39GgeQ/AAAAUKyG5D8IH3wgEozkPxA++PB3keQ/F110wd2W5D8ffPCRQ5zkPyebbGKpoeQ/L7roMg+n5D822WQDdazkPz744NPaseQ/RhddpEC35D9ONtl0przkP1VVVUUMwuQ/XXTRFXLH5D9lk03m18zkP22yybY90uQ/dNFFh6PX5D988MFXCd3kP4QPPihv4uQ/jC66+NTn5D+TTTbJOu3kP5tsspmg8uQ/o4suagb45D+rqqo6bP3kP7LJJgvSAuU/uuii2zcI5T/CBx+snQ3lP8omm3wDE+U/0kUXTWkY5T/ZZJMdzx3lP+GDD+40I+U/6aKLvpoo5T/wwQePAC7lP/jgg19mM+U/AAAAMMw45T8IH3wAMj7lPxA++NCXQ+U/F110of1I5T8ffPBxY07lPyebbELJU+U/L7roEi9Z5T822WTjlF7lPz744LP6Y+U/RhddhGBp5T9ONtlUxm7lP1VVVSUsdOU/XXTR9ZF55T9lk03G937lP22yyZZdhOU/dNFFZ8OJ5T988ME3KY/lP4QPPgiPlOU/jC662PSZ5T+TTTapWp/lP5tssnnApOU/o4suSiaq5T+rqqoajK/lP7LJJuvxtOU/uuiiu1e65T/CBx+Mvb/lP8omm1wjxeU/0kUXLYnK5T/ZZJP97s/lP+GDD85U1eU/6aKLnrra5T/wwQdvIODlP/jggz+G5eU/AAAAEOzq5T8=",
          "dtype": "f8"
         },
         "y": [
          6.992454565297716e-12,
          1.826859395546771e-11,
          4.6767211554360255e-11,
          1.1732027042919375e-10,
          2.884260179296948e-10,
          6.94961014055763e-10,
          1.6412932859329293e-09,
          3.799680777393381e-09,
          8.623408682790483e-09,
          1.9187478815523677e-08,
          4.186012414255553e-08,
          8.954962879935716e-08,
          1.8786474028415595e-07,
          3.8652986413371203e-07,
          7.800380954213064e-07,
          1.5441266252095446e-06,
          2.9986407541817625e-06,
          5.713224510001025e-06,
          1.0680590003497043e-05,
          1.9593365853749704e-05,
          3.527495892578117e-05,
          6.233222617691101e-05,
          0.00010811692559147573,
          0.00018410151439534022,
          0.000307788872389199,
          0.000505279088811769,
          0.0008146019869412337,
          0.001289882933696881,
          0.002006333330787947,
          0.0030659400020910375,
          0.0046035685049589355,
          0.006793001156648958,
          0.009852218622008139,
          0.01404703313231172,
          0.019692031145575162,
          0.02714772934499203,
          0.036812935501415484,
          0.0491115697942907,
          0.06447365653802788,
          0.0833108241319368,
          0.10598739939693463,
          0.1327889626744006,
          0.1638909266109635,
          0.19933018845366324,
          0.23898306870232283,
          0.2825525096227722,
          0.3295668432914072,
          0.3793913968436775,
          0.4312528968832439,
          0.48427523404397366,
          0.5375238488140698,
          0.5900549916379976,
          0.6409655449843212,
          0.6894390562274186,
          0.7347841192593377,
          0.7764621794535684,
          0.8141030749159748,
          0.8475079826471834,
          0.8766407219642715,
          0.9016094165342836,
          0.9226412186581288,
          0.9400531064036342,
          0.9542216905562019,
          0.9655545810800844,
          0.9744652624765467,
          0.9813527270398728,
          0.9865864201663647,
          0.9904964461386256,
          0.9933685196731757,
          0.995442850052959,
          0.996916005634869,
          0.9979448019361654,
          0.9986513504062849,
          0.9991285586444394,
          0.9994455510447342,
          0.999652653943,
          0.9997857426775705,
          0.999869869699521,
          0.9999221803434846,
          0.9999541785843359,
          0.9999734345234268,
          0.9999848351014305,
          0.999991476102202,
          0.9999952824243001,
          0.9999974290862805,
          0.9999986204067891,
          0.9999992710172262,
          0.9999996206896974,
          0.9999998056465177,
          0.9999999019336289,
          0.9999999512709085,
          0.999999976154424,
          0.9999999885081502,
          0.9999999945456065,
          0.9999999974502973,
          0.9999999988260984,
          0.9999999994676639,
          0.9999999997622255,
          0.9999999998953876,
          0.9999999999546629
         ]
        },
        {
         "mode": "lines",
         "name": "3M",
         "type": "scatter",
         "x": {
          "bdata": "AAAAcIzU4z8IH3xA8tnjPxA++BBY3+M/F1104b3k4z8ffPCxI+rjPyebbIKJ7+M/L7roUu/04z822WQjVfrjPz744PO6/+M/RhddxCAF5D9ONtmUhgrkP1VVVWXsD+Q/XXTRNVIV5D9lk00GuBrkP22yydYdIOQ/dNFFp4Ml5D988MF36SrkP4QPPkhPMOQ/jC66GLU15D+TTTbpGjvkP5tssrmAQOQ/o4suiuZF5D+rqqpaTEvkP7LJJiuyUOQ/uuii+xdW5D/CBx/MfVvkP8omm5zjYOQ/0UUXbUlm5D/ZZJM9r2vkP+GDDw4VceQ/6aKL3np25D/wwQev4HvkP/jgg39GgeQ/AAAAUKyG5D8IH3wgEozkPxA++PB3keQ/F110wd2W5D8ffPCRQ5zkPyebbGKpoeQ/L7roMg+n5D822WQDdazkPz744NPaseQ/RhddpEC35D9ONtl0przkP1VVVUUMwuQ/XXTRFXLH5D9lk03m18zkP22yybY90uQ/dNFFh6PX5D988MFXCd3kP4QPPihv4uQ/jC66+NTn5D+TTTbJOu3kP5tsspmg8uQ/o4suagb45D+rqqo6bP3kP7LJJgvSAuU/uuii2zcI5T/CBx+snQ3lP8omm3wDE+U/0kUXTWkY5T/ZZJMdzx3lP+GDD+40I+U/6aKLvpoo5T/wwQePAC7lP/jgg19mM+U/AAAAMMw45T8IH3wAMj7lPxA++NCXQ+U/F110of1I5T8ffPBxY07lPyebbELJU+U/L7roEi9Z5T822WTjlF7lPz744LP6Y+U/RhddhGBp5T9ONtlUxm7lP1VVVSUsdOU/XXTR9ZF55T9lk03G937lP22yyZZdhOU/dNFFZ8OJ5T988ME3KY/lP4QPPgiPlOU/jC662PSZ5T+TTTapWp/lP5tssnnApOU/o4suSiaq5T+rqqoajK/lP7LJJuvxtOU/uuiiu1e65T/CBx+Mvb/lP8omm1wjxeU/0kUXLYnK5T/ZZJP97s/lP+GDD85U1eU/6aKLnrra5T/wwQdvIODlP/jggz+G5eU/AAAAEOzq5T8=",
          "dtype": "f8"
         },
         "y": [
          0.26193599335847173,
          0.2677353675486391,
          0.2735924837399275,
          0.2795060042594194,
          0.28547454797233396,
          0.29149669135932244,
          0.2975709696492869,
          0.30369587800602593,
          0.3098698727669386,
          0.3160913727318888,
          0.3223587605002811,
          0.32867038385428227,
          0.3350245571860606,
          0.3414195629668172,
          0.34785365325535,
          0.35432505124377645,
          0.3608319528380237,
          0.3673725282706068,
          0.3739449237431889,
          0.380547263096365,
          0.3871776495040652,
          0.3938341671899441,
          0.40051488316311223,
          0.4072178489705117,
          0.4139411024632682,
          0.42068266957427103,
          0.4274405661043268,
          0.4342127995141354,
          0.4409973707194162,
          0.4477922758864805,
          0.4545955082255938,
          0.46140505977948315,
          0.4682189232043685,
          0.4750350935409363,
          0.48185156997272577,
          0.48866635756941396,
          0.49547746901256795,
          0.5022829263014563,
          0.5090807624365825,
          0.5158690230786765,
          0.5226457681809178,
          0.5294090735922714,
          0.5361570326298406,
          0.5428877576182748,
          0.5495993813942982,
          0.5562900587745565,
          0.5629579679849969,
          0.5696013120501748,
          0.5762183201408814,
          0.5828072488786377,
          0.5893663835956618,
          0.5958940395490286,
          0.6023885630878358,
          0.6088483327722645,
          0.6152717604435497,
          0.6216572922439634,
          0.6280034095860069,
          0.6343086300701011,
          0.6405715083501788,
          0.6467906369466773,
          0.6529646470065146,
          0.6590922090097255,
          0.6651720334225688,
          0.6712028712969489,
          0.6771835148161351,
          0.6831127977868507,
          0.6889895960778456,
          0.6948128280052303,
          0.7005814546648507,
          0.7062944802121389,
          0.7119509520899174,
          0.7175499612046896,
          0.7230906420521002,
          0.7285721727922458,
          0.7339937752756165,
          0.7393547150205211,
          0.7446543011429081,
          0.7498918862395506,
          0.7550668662256168,
          0.7601786801277146,
          0.7652268098335471,
          0.7702107797993568,
          0.7751301567163791,
          0.7799845491375743,
          0.7847736070659574,
          0.7894970215058328,
          0.7941545239783414,
          0.7987458860026823,
          0.8032709185444615,
          0.807729471432584,
          0.8121214327461743,
          0.8164467281729824,
          0.8207053203407694,
          0.8248972081231725,
          0.8290224259215468,
          0.8330810429242845,
          0.8370731623451161,
          0.8409989206418993,
          0.8448584867173904,
          0.8486520611034637
         ]
        },
        {
         "mode": "lines",
         "name": "6M",
         "type": "scatter",
         "x": {
          "bdata": "AAAAcIzU4z8IH3xA8tnjPxA++BBY3+M/F1104b3k4z8ffPCxI+rjPyebbIKJ7+M/L7roUu/04z822WQjVfrjPz744PO6/+M/RhddxCAF5D9ONtmUhgrkP1VVVWXsD+Q/XXTRNVIV5D9lk00GuBrkP22yydYdIOQ/dNFFp4Ml5D988MF36SrkP4QPPkhPMOQ/jC66GLU15D+TTTbpGjvkP5tssrmAQOQ/o4suiuZF5D+rqqpaTEvkP7LJJiuyUOQ/uuii+xdW5D/CBx/MfVvkP8omm5zjYOQ/0UUXbUlm5D/ZZJM9r2vkP+GDDw4VceQ/6aKL3np25D/wwQev4HvkP/jgg39GgeQ/AAAAUKyG5D8IH3wgEozkPxA++PB3keQ/F110wd2W5D8ffPCRQ5zkPyebbGKpoeQ/L7roMg+n5D822WQDdazkPz744NPaseQ/RhddpEC35D9ONtl0przkP1VVVUUMwuQ/XXTRFXLH5D9lk03m18zkP22yybY90uQ/dNFFh6PX5D988MFXCd3kP4QPPihv4uQ/jC66+NTn5D+TTTbJOu3kP5tsspmg8uQ/o4suagb45D+rqqo6bP3kP7LJJgvSAuU/uuii2zcI5T/CBx+snQ3lP8omm3wDE+U/0kUXTWkY5T/ZZJMdzx3lP+GDD+40I+U/6aKLvpoo5T/wwQePAC7lP/jgg19mM+U/AAAAMMw45T8IH3wAMj7lPxA++NCXQ+U/F110of1I5T8ffPBxY07lPyebbELJU+U/L7roEi9Z5T822WTjlF7lPz744LP6Y+U/RhddhGBp5T9ONtlUxm7lP1VVVSUsdOU/XXTR9ZF55T9lk03G937lP22yyZZdhOU/dNFFZ8OJ5T988ME3KY/lP4QPPgiPlOU/jC662PSZ5T+TTTapWp/lP5tssnnApOU/o4suSiaq5T+rqqoajK/lP7LJJuvxtOU/uuiiu1e65T/CBx+Mvb/lP8omm1wjxeU/0kUXLYnK5T/ZZJP97s/lP+GDD85U1eU/6aKLnrra5T/wwQdvIODlP/jggz+G5eU/AAAAEOzq5T8=",
          "dtype": "f8"
         },
         "y": [
          0.3832692057071502,
          0.38805890644249225,
          0.39286058483248487,
          0.39767350511317945,
          0.402496928643124,
          0.4073301142556244,
          0.41217231861111814,
          0.4170227965493738,
          0.42188080144125606,
          0.4267455855397681,
          0.43161640033011983,
          0.4364924968785462,
          0.44137312617962043,
          0.44625753950179353,
          0.4511449887309218,
          0.45603472671151535,
          0.46092600758547375,
          0.465818087128057,
          0.4707102230808622,
          0.47560167548157367,
          0.48049170699025523,
          0.4853795832119618,
          0.4902645730154628,
          0.49514594884785473,
          0.5000229870448764,
          0.5048949681366968,
          0.5097611771490217,
          0.5146209038993009,
          0.5194734432878744,
          0.524318095583872,
          0.5291541667057084,
          0.5339809684960106,
          0.5387978189908221,
          0.543604042682935,
          0.5483989707792186,
          0.5531819414518016,
          0.5579523000829907,
          0.5627093995038025,
          0.5674526002259916,
          0.572181270667484,
          0.5768947873711026,
          0.5815925352165111,
          0.5862739076252744,
          0.590938306758976,
          0.5955851437103106,
          0.600213838687107,
          0.6048238211891971,
          0.6094145301781188,
          0.6139854142395835,
          0.6185359317386909,
          0.6230655509678515,
          0.6275737502874054,
          0.6320600182589249,
          0.6365238537711823,
          0.6409647661587894,
          0.645382275313518,
          0.6497759117883084,
          0.6541452168939812,
          0.6584897427886783,
          0.6628090525600703,
          0.6671027203003588,
          0.6713703311741086,
          0.6756114814789771,
          0.6798257786993711,
          0.6840128415530994,
          0.6881723000310906,
          0.6923037954302242,
          0.6964069803793733,
          0.7004815188587079,
          0.7045270862123658,
          0.7085433691545678,
          0.7125300657692524,
          0.7164868855033524,
          0.7204135491537942,
          0.7243097888483212,
          0.7281753480202504,
          0.7320099813772754,
          0.7358134548644225,
          0.7395855456212737,
          0.7433260419335757,
          0.7470347431793605,
          0.7507114597696978,
          0.7543560130841982,
          0.7579682354014022,
          0.76154796982419,
          0.7650950702003242,
          0.7686094010382855,
          0.7720908374185079,
          0.775539264900178,
          0.7789545794237074,
          0.7823366872090443,
          0.7856855046499417,
          0.7890009582043327,
          0.7922829842809549,
          0.7955315291223625,
          0.7987465486844647,
          0.8019280085127365,
          0.8050758836152427,
          0.8081901583326228,
          0.8112708262051568
         ]
        },
        {
         "mode": "lines",
         "name": "9M",
         "type": "scatter",
         "x": {
          "bdata": "AAAAcIzU4z8IH3xA8tnjPxA++BBY3+M/F1104b3k4z8ffPCxI+rjPyebbIKJ7+M/L7roUu/04z822WQjVfrjPz744PO6/+M/RhddxCAF5D9ONtmUhgrkP1VVVWXsD+Q/XXTRNVIV5D9lk00GuBrkP22yydYdIOQ/dNFFp4Ml5D988MF36SrkP4QPPkhPMOQ/jC66GLU15D+TTTbpGjvkP5tssrmAQOQ/o4suiuZF5D+rqqpaTEvkP7LJJiuyUOQ/uuii+xdW5D/CBx/MfVvkP8omm5zjYOQ/0UUXbUlm5D/ZZJM9r2vkP+GDDw4VceQ/6aKL3np25D/wwQev4HvkP/jgg39GgeQ/AAAAUKyG5D8IH3wgEozkPxA++PB3keQ/F110wd2W5D8ffPCRQ5zkPyebbGKpoeQ/L7roMg+n5D822WQDdazkPz744NPaseQ/RhddpEC35D9ONtl0przkP1VVVUUMwuQ/XXTRFXLH5D9lk03m18zkP22yybY90uQ/dNFFh6PX5D988MFXCd3kP4QPPihv4uQ/jC66+NTn5D+TTTbJOu3kP5tsspmg8uQ/o4suagb45D+rqqo6bP3kP7LJJgvSAuU/uuii2zcI5T/CBx+snQ3lP8omm3wDE+U/0kUXTWkY5T/ZZJMdzx3lP+GDD+40I+U/6aKLvpoo5T/wwQePAC7lP/jgg19mM+U/AAAAMMw45T8IH3wAMj7lPxA++NCXQ+U/F110of1I5T8ffPBxY07lPyebbELJU+U/L7roEi9Z5T822WTjlF7lPz744LP6Y+U/RhddhGBp5T9ONtlUxm7lP1VVVSUsdOU/XXTR9ZF55T9lk03G937lP22yyZZdhOU/dNFFZ8OJ5T988ME3KY/lP4QPPgiPlOU/jC662PSZ5T+TTTapWp/lP5tssnnApOU/o4suSiaq5T+rqqoajK/lP7LJJuvxtOU/uuiiu1e65T/CBx+Mvb/lP8omm1wjxeU/0kUXLYnK5T/ZZJP97s/lP+GDD85U1eU/6aKLnrra5T/wwQdvIODlP/jggz+G5eU/AAAAEOzq5T8=",
          "dtype": "f8"
         },
         "y": [
          0.4534898943973816,
          0.45754400570708514,
          0.46159822900444586,
          0.46565214137119987,
          0.469705321330428,
          0.4737573489721029,
          0.47780780607716195,
          0.48185627624004473,
          0.485902344989654,
          0.48994559990867403,
          0.4939856307512134,
          0.4980220295587144,
          0.5020543907740909,
          0.506082311354039,
          0.5101053908794955,
          0.5141232316641848,
          0.5181354388612306,
          0.52214162056778,
          0.5261413879276173,
          0.5301343552317264,
          0.5341201400167699,
          0.5380983631614511,
          0.5420686489807373,
          0.5460306253179057,
          0.5499839236344026,
          0.5539281790974642,
          0.5578630306655081,
          0.5617881211712507,
          0.5657030974025422,
          0.5696076101808955,
          0.573501314437697,
          0.577383869288085,
          0.5812549381024792,
          0.5851141885757483,
          0.5889612927940141,
          0.5927959272990746,
          0.5966177731504456,
          0.6004265159850131,
          0.6042218460742887,
          0.608003458379276,
          0.6117710526029346,
          0.6155243332402565,
          0.6192630096259399,
          0.6229867959796811,
          0.6266954114490749,
          0.630388580150146,
          0.6340660312054947,
          0.6377274987800943,
          0.641372722114729,
          0.6450014455570932,
          0.648613418590562,
          0.6522083958606472,
          0.6557861371991579,
          0.6593464076460747,
          0.6628889774691566,
          0.6664136221813063,
          0.6699201225557058,
          0.6734082646387437,
          0.6768778397607558,
          0.6803286445446062,
          0.6837604809121296,
          0.6871731560884516,
          0.6905664826042278,
          0.6939402782958133,
          0.6972943663033944,
          0.7006285750671193,
          0.7039427383212356,
          0.7072366950862894,
          0.7105102896593911,
          0.713763371602596,
          0.7169957957294295,
          0.72020742208957,
          0.7233981159517492,
          0.7265677477848853,
          0.7297161932374843,
          0.7328433331153459,
          0.7359490533576099,
          0.7390332450111758,
          0.7420958042035295,
          0.7451366321140107,
          0.7481556349435649,
          0.7511527238830106,
          0.7541278150798543,
          0.7570808296036943,
          0.7600116934102567,
          0.7629203373040818,
          0.7658066968999224,
          0.7686707125828666,
          0.7715123294672448,
          0.7743314973543389,
          0.777128170688948,
          0.7799023085148344,
          0.7826538744290952,
          0.7853828365354946,
          0.7880891673967974,
          0.7907728439861338,
          0.7934338476374385,
          0.7960721639950009,
          0.7986877829621655,
          0.8012806986492058
         ]
        },
        {
         "mode": "lines",
         "name": "12M",
         "type": "scatter",
         "x": {
          "bdata": "AAAAcIzU4z8IH3xA8tnjPxA++BBY3+M/F1104b3k4z8ffPCxI+rjPyebbIKJ7+M/L7roUu/04z822WQjVfrjPz744PO6/+M/RhddxCAF5D9ONtmUhgrkP1VVVWXsD+Q/XXTRNVIV5D9lk00GuBrkP22yydYdIOQ/dNFFp4Ml5D988MF36SrkP4QPPkhPMOQ/jC66GLU15D+TTTbpGjvkP5tssrmAQOQ/o4suiuZF5D+rqqpaTEvkP7LJJiuyUOQ/uuii+xdW5D/CBx/MfVvkP8omm5zjYOQ/0UUXbUlm5D/ZZJM9r2vkP+GDDw4VceQ/6aKL3np25D/wwQev4HvkP/jgg39GgeQ/AAAAUKyG5D8IH3wgEozkPxA++PB3keQ/F110wd2W5D8ffPCRQ5zkPyebbGKpoeQ/L7roMg+n5D822WQDdazkPz744NPaseQ/RhddpEC35D9ONtl0przkP1VVVUUMwuQ/XXTRFXLH5D9lk03m18zkP22yybY90uQ/dNFFh6PX5D988MFXCd3kP4QPPihv4uQ/jC66+NTn5D+TTTbJOu3kP5tsspmg8uQ/o4suagb45D+rqqo6bP3kP7LJJgvSAuU/uuii2zcI5T/CBx+snQ3lP8omm3wDE+U/0kUXTWkY5T/ZZJMdzx3lP+GDD+40I+U/6aKLvpoo5T/wwQePAC7lP/jgg19mM+U/AAAAMMw45T8IH3wAMj7lPxA++NCXQ+U/F110of1I5T8ffPBxY07lPyebbELJU+U/L7roEi9Z5T822WTjlF7lPz744LP6Y+U/RhddhGBp5T9ONtlUxm7lP1VVVSUsdOU/XXTR9ZF55T9lk03G937lP22yyZZdhOU/dNFFZ8OJ5T988ME3KY/lP4QPPgiPlOU/jC662PSZ5T+TTTapWp/lP5tssnnApOU/o4suSiaq5T+rqqoajK/lP7LJJuvxtOU/uuiiu1e65T/CBx+Mvb/lP8omm1wjxeU/0kUXLYnK5T/ZZJP97s/lP+GDD85U1eU/6aKLnrra5T/wwQdvIODlP/jggz+G5eU/AAAAEOzq5T8=",
          "dtype": "f8"
         },
         "y": [
          0.5030143313569725,
          0.5065470303412463,
          0.5100754666294376,
          0.5135993742382479,
          0.5171184890876247,
          0.5206325490521622,
          0.5241412940114836,
          0.5276444658995905,
          0.5311418087531754,
          0.5346330687588783,
          0.5381179942994886,
          0.541596335999077,
          0.5450678467670553,
          0.5485322818411487,
          0.5519893988292862,
          0.5554389577503916,
          0.5588807210740784,
          0.5623144537592362,
          0.5657399232915119,
          0.5691568997196789,
          0.5725651556908911,
          0.5759644664848165,
          0.5793546100466569,
          0.5827353670190415,
          0.5861065207728078,
          0.5894678574366483,
          0.5928191659256491,
          0.5961602379686999,
          0.5994908681347899,
          0.6028108538581823,
          0.6061199954624772,
          0.6094180961835629,
          0.6127049621914579,
          0.6159804026110465,
          0.6192442295417171,
          0.6224962580759018,
          0.6257363063165289,
          0.6289641953933878,
          0.6321797494784152,
          0.6353827957999101,
          0.6385731646556816,
          0.6417506894251419,
          0.6449152065803432,
          0.6480665556959766,
          0.6512045794583329,
          0.6543291236732451,
          0.6574400372730029,
          0.6605371723222713,
          0.6636203840230057,
          0.6666895307183835,
          0.6697444738957561,
          0.6727850781886345,
          0.6758112113777263,
          0.6788227443910212,
          0.681819551302947,
          0.6848015093326074,
          0.6877684988411106,
          0.6907204033280002,
          0.6936571094268031,
          0.6965785068997078,
          0.6994844886313861,
          0.7023749506219652,
          0.7052497919791745,
          0.7081089149096713,
          0.7109522247095601,
          0.7137796297541287,
          0.716591041486799,
          0.7193863744073249,
          0.7221655460592332,
          0.7249284770165365,
          0.7276750908697298,
          0.7304053142110716,
          0.7331190766191857,
          0.7358163106429858,
          0.7384969517849367,
          0.7411609384836699,
          0.7438082120959739,
          0.7464387168781651,
          0.7490523999668592,
          0.7516492113591569,
          0.7542291038922595,
          0.756792033222533,
          0.7593379578040274,
          0.7618668388664716,
          0.7643786403927644,
          0.7668733290959626,
          0.7693508743957986,
          0.7718112483947244,
          0.7742544258535153,
          0.7766803841664307,
          0.7790891033359635,
          0.78148056594718,
          0.7838547571416685,
          0.7862116645911186,
          0.7885512784705369,
          0.7908735914311159,
          0.7931785985727731,
          0.7954662974163723,
          0.7977366878756471,
          0.7999897722288256
         ]
        }
       ],
       "layout": {
        "template": {
         "data": {
          "bar": [
           {
            "error_x": {
             "color": "#2a3f5f"
            },
            "error_y": {
             "color": "#2a3f5f"
            },
            "marker": {
             "line": {
              "color": "white",
              "width": 0.5
             },
             "pattern": {
              "fillmode": "overlay",
              "size": 10,
              "solidity": 0.2
             }
            },
            "type": "bar"
           }
          ],
          "barpolar": [
           {
            "marker": {
             "line": {
              "color": "white",
              "width": 0.5
             },
             "pattern": {
              "fillmode": "overlay",
              "size": 10,
              "solidity": 0.2
             }
            },
            "type": "barpolar"
           }
          ],
          "carpet": [
           {
            "aaxis": {
             "endlinecolor": "#2a3f5f",
             "gridcolor": "#C8D4E3",
             "linecolor": "#C8D4E3",
             "minorgridcolor": "#C8D4E3",
             "startlinecolor": "#2a3f5f"
            },
            "baxis": {
             "endlinecolor": "#2a3f5f",
             "gridcolor": "#C8D4E3",
             "linecolor": "#C8D4E3",
             "minorgridcolor": "#C8D4E3",
             "startlinecolor": "#2a3f5f"
            },
            "type": "carpet"
           }
          ],
          "choropleth": [
           {
            "colorbar": {
             "outlinewidth": 0,
             "ticks": ""
            },
            "type": "choropleth"
           }
          ],
          "contour": [
           {
            "colorbar": {
             "outlinewidth": 0,
             "ticks": ""
            },
            "colorscale": [
             [
              0,
              "#0d0887"
             ],
             [
              0.1111111111111111,
              "#46039f"
             ],
             [
              0.2222222222222222,
              "#7201a8"
             ],
             [
              0.3333333333333333,
              "#9c179e"
             ],
             [
              0.4444444444444444,
              "#bd3786"
             ],
             [
              0.5555555555555556,
              "#d8576b"
             ],
             [
              0.6666666666666666,
              "#ed7953"
             ],
             [
              0.7777777777777778,
              "#fb9f3a"
             ],
             [
              0.8888888888888888,
              "#fdca26"
             ],
             [
              1,
              "#f0f921"
             ]
            ],
            "type": "contour"
           }
          ],
          "contourcarpet": [
           {
            "colorbar": {
             "outlinewidth": 0,
             "ticks": ""
            },
            "type": "contourcarpet"
           }
          ],
          "heatmap": [
           {
            "colorbar": {
             "outlinewidth": 0,
             "ticks": ""
            },
            "colorscale": [
             [
              0,
              "#0d0887"
             ],
             [
              0.1111111111111111,
              "#46039f"
             ],
             [
              0.2222222222222222,
              "#7201a8"
             ],
             [
              0.3333333333333333,
              "#9c179e"
             ],
             [
              0.4444444444444444,
              "#bd3786"
             ],
             [
              0.5555555555555556,
              "#d8576b"
             ],
             [
              0.6666666666666666,
              "#ed7953"
             ],
             [
              0.7777777777777778,
              "#fb9f3a"
             ],
             [
              0.8888888888888888,
              "#fdca26"
             ],
             [
              1,
              "#f0f921"
             ]
            ],
            "type": "heatmap"
           }
          ],
          "histogram": [
           {
            "marker": {
             "pattern": {
              "fillmode": "overlay",
              "size": 10,
              "solidity": 0.2
             }
            },
            "type": "histogram"
           }
          ],
          "histogram2d": [
           {
            "colorbar": {
             "outlinewidth": 0,
             "ticks": ""
            },
            "colorscale": [
             [
              0,
              "#0d0887"
             ],
             [
              0.1111111111111111,
              "#46039f"
             ],
             [
              0.2222222222222222,
              "#7201a8"
             ],
             [
              0.3333333333333333,
              "#9c179e"
             ],
             [
              0.4444444444444444,
              "#bd3786"
             ],
             [
              0.5555555555555556,
              "#d8576b"
             ],
             [
              0.6666666666666666,
              "#ed7953"
             ],
             [
              0.7777777777777778,
              "#fb9f3a"
             ],
             [
              0.8888888888888888,
              "#fdca26"
             ],
             [
              1,
              "#f0f921"
             ]
            ],
            "type": "histogram2d"
           }
          ],
          "histogram2dcontour": [
           {
            "colorbar": {
             "outlinewidth": 0,
             "ticks": ""
            },
            "colorscale": [
             [
              0,
              "#0d0887"
             ],
             [
              0.1111111111111111,
              "#46039f"
             ],
             [
              0.2222222222222222,
              "#7201a8"
             ],
             [
              0.3333333333333333,
              "#9c179e"
             ],
             [
              0.4444444444444444,
              "#bd3786"
             ],
             [
              0.5555555555555556,
              "#d8576b"
             ],
             [
              0.6666666666666666,
              "#ed7953"
             ],
             [
              0.7777777777777778,
              "#fb9f3a"
             ],
             [
              0.8888888888888888,
              "#fdca26"
             ],
             [
              1,
              "#f0f921"
             ]
            ],
            "type": "histogram2dcontour"
           }
          ],
          "mesh3d": [
           {
            "colorbar": {
             "outlinewidth": 0,
             "ticks": ""
            },
            "type": "mesh3d"
           }
          ],
          "parcoords": [
           {
            "line": {
             "colorbar": {
              "outlinewidth": 0,
              "ticks": ""
             }
            },
            "type": "parcoords"
           }
          ],
          "pie": [
           {
            "automargin": true,
            "type": "pie"
           }
          ],
          "scatter": [
           {
            "fillpattern": {
             "fillmode": "overlay",
             "size": 10,
             "solidity": 0.2
            },
            "type": "scatter"
           }
          ],
          "scatter3d": [
           {
            "line": {
             "colorbar": {
              "outlinewidth": 0,
              "ticks": ""
             }
            },
            "marker": {
             "colorbar": {
              "outlinewidth": 0,
              "ticks": ""
             }
            },
            "type": "scatter3d"
           }
          ],
          "scattercarpet": [
           {
            "marker": {
             "colorbar": {
              "outlinewidth": 0,
              "ticks": ""
             }
            },
            "type": "scattercarpet"
           }
          ],
          "scattergeo": [
           {
            "marker": {
             "colorbar": {
              "outlinewidth": 0,
              "ticks": ""
             }
            },
            "type": "scattergeo"
           }
          ],
          "scattergl": [
           {
            "marker": {
             "colorbar": {
              "outlinewidth": 0,
              "ticks": ""
             }
            },
            "type": "scattergl"
           }
          ],
          "scattermap": [
           {
            "marker": {
             "colorbar": {
              "outlinewidth": 0,
              "ticks": ""
             }
            },
            "type": "scattermap"
           }
          ],
          "scattermapbox": [
           {
            "marker": {
             "colorbar": {
              "outlinewidth": 0,
              "ticks": ""
             }
            },
            "type": "scattermapbox"
           }
          ],
          "scatterpolar": [
           {
            "marker": {
             "colorbar": {
              "outlinewidth": 0,
              "ticks": ""
             }
            },
            "type": "scatterpolar"
           }
          ],
          "scatterpolargl": [
           {
            "marker": {
             "colorbar": {
              "outlinewidth": 0,
              "ticks": ""
             }
            },
            "type": "scatterpolargl"
           }
          ],
          "scatterternary": [
           {
            "marker": {
             "colorbar": {
              "outlinewidth": 0,
              "ticks": ""
             }
            },
            "type": "scatterternary"
           }
          ],
          "surface": [
           {
            "colorbar": {
             "outlinewidth": 0,
             "ticks": ""
            },
            "colorscale": [
             [
              0,
              "#0d0887"
             ],
             [
              0.1111111111111111,
              "#46039f"
             ],
             [
              0.2222222222222222,
              "#7201a8"
             ],
             [
              0.3333333333333333,
              "#9c179e"
             ],
             [
              0.4444444444444444,
              "#bd3786"
             ],
             [
              0.5555555555555556,
              "#d8576b"
             ],
             [
              0.6666666666666666,
              "#ed7953"
             ],
             [
              0.7777777777777778,
              "#fb9f3a"
             ],
             [
              0.8888888888888888,
              "#fdca26"
             ],
             [
              1,
              "#f0f921"
             ]
            ],
            "type": "surface"
           }
          ],
          "table": [
           {
            "cells": {
             "fill": {
              "color": "#EBF0F8"
             },
             "line": {
              "color": "white"
             }
            },
            "header": {
             "fill": {
              "color": "#C8D4E3"
             },
             "line": {
              "color": "white"
             }
            },
            "type": "table"
           }
          ]
         },
         "layout": {
          "annotationdefaults": {
           "arrowcolor": "#2a3f5f",
           "arrowhead": 0,
           "arrowwidth": 1
          },
          "autotypenumbers": "strict",
          "coloraxis": {
           "colorbar": {
            "outlinewidth": 0,
            "ticks": ""
           }
          },
          "colorscale": {
           "diverging": [
            [
             0,
             "#8e0152"
            ],
            [
             0.1,
             "#c51b7d"
            ],
            [
             0.2,
             "#de77ae"
            ],
            [
             0.3,
             "#f1b6da"
            ],
            [
             0.4,
             "#fde0ef"
            ],
            [
             0.5,
             "#f7f7f7"
            ],
            [
             0.6,
             "#e6f5d0"
            ],
            [
             0.7,
             "#b8e186"
            ],
            [
             0.8,
             "#7fbc41"
            ],
            [
             0.9,
             "#4d9221"
            ],
            [
             1,
             "#276419"
            ]
           ],
           "sequential": [
            [
             0,
             "#0d0887"
            ],
            [
             0.1111111111111111,
             "#46039f"
            ],
            [
             0.2222222222222222,
             "#7201a8"
            ],
            [
             0.3333333333333333,
             "#9c179e"
            ],
            [
             0.4444444444444444,
             "#bd3786"
            ],
            [
             0.5555555555555556,
             "#d8576b"
            ],
            [
             0.6666666666666666,
             "#ed7953"
            ],
            [
             0.7777777777777778,
             "#fb9f3a"
            ],
            [
             0.8888888888888888,
             "#fdca26"
            ],
            [
             1,
             "#f0f921"
            ]
           ],
           "sequentialminus": [
            [
             0,
             "#0d0887"
            ],
            [
             0.1111111111111111,
             "#46039f"
            ],
            [
             0.2222222222222222,
             "#7201a8"
            ],
            [
             0.3333333333333333,
             "#9c179e"
            ],
            [
             0.4444444444444444,
             "#bd3786"
            ],
            [
             0.5555555555555556,
             "#d8576b"
            ],
            [
             0.6666666666666666,
             "#ed7953"
            ],
            [
             0.7777777777777778,
             "#fb9f3a"
            ],
            [
             0.8888888888888888,
             "#fdca26"
            ],
            [
             1,
             "#f0f921"
            ]
           ]
          },
          "colorway": [
           "#636efa",
           "#EF553B",
           "#00cc96",
           "#ab63fa",
           "#FFA15A",
           "#19d3f3",
           "#FF6692",
           "#B6E880",
           "#FF97FF",
           "#FECB52"
          ],
          "font": {
           "color": "#2a3f5f"
          },
          "geo": {
           "bgcolor": "white",
           "lakecolor": "white",
           "landcolor": "white",
           "showlakes": true,
           "showland": true,
           "subunitcolor": "#C8D4E3"
          },
          "hoverlabel": {
           "align": "left"
          },
          "hovermode": "closest",
          "mapbox": {
           "style": "light"
          },
          "paper_bgcolor": "white",
          "plot_bgcolor": "white",
          "polar": {
           "angularaxis": {
            "gridcolor": "#EBF0F8",
            "linecolor": "#EBF0F8",
            "ticks": ""
           },
           "bgcolor": "white",
           "radialaxis": {
            "gridcolor": "#EBF0F8",
            "linecolor": "#EBF0F8",
            "ticks": ""
           }
          },
          "scene": {
           "xaxis": {
            "backgroundcolor": "white",
            "gridcolor": "#DFE8F3",
            "gridwidth": 2,
            "linecolor": "#EBF0F8",
            "showbackground": true,
            "ticks": "",
            "zerolinecolor": "#EBF0F8"
           },
           "yaxis": {
            "backgroundcolor": "white",
            "gridcolor": "#DFE8F3",
            "gridwidth": 2,
            "linecolor": "#EBF0F8",
            "showbackground": true,
            "ticks": "",
            "zerolinecolor": "#EBF0F8"
           },
           "zaxis": {
            "backgroundcolor": "white",
            "gridcolor": "#DFE8F3",
            "gridwidth": 2,
            "linecolor": "#EBF0F8",
            "showbackground": true,
            "ticks": "",
            "zerolinecolor": "#EBF0F8"
           }
          },
          "shapedefaults": {
           "line": {
            "color": "#2a3f5f"
           }
          },
          "ternary": {
           "aaxis": {
            "gridcolor": "#DFE8F3",
            "linecolor": "#A2B1C6",
            "ticks": ""
           },
           "baxis": {
            "gridcolor": "#DFE8F3",
            "linecolor": "#A2B1C6",
            "ticks": ""
           },
           "bgcolor": "white",
           "caxis": {
            "gridcolor": "#DFE8F3",
            "linecolor": "#A2B1C6",
            "ticks": ""
           }
          },
          "title": {
           "x": 0.05
          },
          "xaxis": {
           "automargin": true,
           "gridcolor": "#EBF0F8",
           "linecolor": "#EBF0F8",
           "ticks": "",
           "title": {
            "standoff": 15
           },
           "zerolinecolor": "#EBF0F8",
           "zerolinewidth": 2
          },
          "yaxis": {
           "automargin": true,
           "gridcolor": "#EBF0F8",
           "linecolor": "#EBF0F8",
           "ticks": "",
           "title": {
            "standoff": 15
           },
           "zerolinecolor": "#EBF0F8",
           "zerolinewidth": 2
          }
         }
        },
        "title": {
         "font": {
          "family": "Arial Black",
          "size": 20
         },
         "text": "Call Delta vs Spot Price (AUD/USD)",
         "x": 0.5,
         "xanchor": "center"
        },
        "xaxis": {
         "title": {
          "text": "Spot Price"
         }
        },
        "yaxis": {
         "title": {
          "text": "Delta"
         }
        }
       }
      }
     },
     "metadata": {},
     "output_type": "display_data"
    }
   ],
   "source": [
    "# Call Delta vs Spot Price\n",
    "\n",
    "fig = go.Figure()\n",
    "\n",
    "for label, tau in d.items():\n",
    "    deltas = []\n",
    "    for s in x:\n",
    "        opt = BS(s, strike, rate, tau, vol)\n",
    "        deltas.append(opt.call_delta)\n",
    "    \n",
    "    fig.add_trace(go.Scatter(\n",
    "        x=x,\n",
    "        y=deltas,\n",
    "        mode='lines',\n",
    "        name=f\"{label}\"\n",
    "    ))\n",
    "\n",
    "fig.update_layout(\n",
    "title=dict(\n",
    "    text='Call Delta vs Spot Price (AUD/USD)',\n",
    "    x=0.5,\n",
    "    xanchor='center',\n",
    "    font=dict(size=20, family='Arial Black')\n",
    "),\n",
    "    xaxis_title=\"Spot Price\",\n",
    "    yaxis_title=\"Delta\",\n",
    "    template=\"plotly_white\"\n",
    ")\n",
    "\n",
    "fig.show()"
   ]
  },
  {
   "cell_type": "code",
   "execution_count": 10,
   "metadata": {},
   "outputs": [
    {
     "data": {
      "application/vnd.plotly.v1+json": {
       "config": {
        "plotlyServerURL": "https://plot.ly"
       },
       "data": [
        {
         "mode": "lines",
         "name": "1D",
         "type": "scatter",
         "x": {
          "bdata": "AAAAcIzU4z8IH3xA8tnjPxA++BBY3+M/F1104b3k4z8ffPCxI+rjPyebbIKJ7+M/L7roUu/04z822WQjVfrjPz744PO6/+M/RhddxCAF5D9ONtmUhgrkP1VVVWXsD+Q/XXTRNVIV5D9lk00GuBrkP22yydYdIOQ/dNFFp4Ml5D988MF36SrkP4QPPkhPMOQ/jC66GLU15D+TTTbpGjvkP5tssrmAQOQ/o4suiuZF5D+rqqpaTEvkP7LJJiuyUOQ/uuii+xdW5D/CBx/MfVvkP8omm5zjYOQ/0UUXbUlm5D/ZZJM9r2vkP+GDDw4VceQ/6aKL3np25D/wwQev4HvkP/jgg39GgeQ/AAAAUKyG5D8IH3wgEozkPxA++PB3keQ/F110wd2W5D8ffPCRQ5zkPyebbGKpoeQ/L7roMg+n5D822WQDdazkPz744NPaseQ/RhddpEC35D9ONtl0przkP1VVVUUMwuQ/XXTRFXLH5D9lk03m18zkP22yybY90uQ/dNFFh6PX5D988MFXCd3kP4QPPihv4uQ/jC66+NTn5D+TTTbJOu3kP5tsspmg8uQ/o4suagb45D+rqqo6bP3kP7LJJgvSAuU/uuii2zcI5T/CBx+snQ3lP8omm3wDE+U/0kUXTWkY5T/ZZJMdzx3lP+GDD+40I+U/6aKLvpoo5T/wwQePAC7lP/jgg19mM+U/AAAAMMw45T8IH3wAMj7lPxA++NCXQ+U/F110of1I5T8ffPBxY07lPyebbELJU+U/L7roEi9Z5T822WTjlF7lPz744LP6Y+U/RhddhGBp5T9ONtlUxm7lP1VVVSUsdOU/XXTR9ZF55T9lk03G937lP22yyZZdhOU/dNFFZ8OJ5T988ME3KY/lP4QPPgiPlOU/jC662PSZ5T+TTTapWp/lP5tssnnApOU/o4suSiaq5T+rqqoajK/lP7LJJuvxtOU/uuiiu1e65T/CBx+Mvb/lP8omm1wjxeU/0kUXLYnK5T/ZZJP97s/lP+GDD85U1eU/6aKLnrra5T/wwQdvIODlP/jggz+G5eU/AAAAEOzq5T8=",
          "dtype": "f8"
         },
         "y": [
          -0.9999999999930076,
          -0.9999999999817314,
          -0.9999999999532327,
          -0.9999999998826797,
          -0.9999999997115739,
          -0.999999999305039,
          -0.9999999983587067,
          -0.9999999962003192,
          -0.9999999913765913,
          -0.9999999808125212,
          -0.9999999581398759,
          -0.9999999104503712,
          -0.9999998121352597,
          -0.9999996134701359,
          -0.9999992199619046,
          -0.9999984558733748,
          -0.9999970013592459,
          -0.99999428677549,
          -0.9999893194099965,
          -0.9999804066341462,
          -0.9999647250410743,
          -0.9999376677738231,
          -0.9998918830744086,
          -0.9998158984856047,
          -0.9996922111276108,
          -0.9994947209111882,
          -0.9991853980130587,
          -0.9987101170663031,
          -0.9979936666692121,
          -0.996934059997909,
          -0.9953964314950411,
          -0.9932069988433511,
          -0.9901477813779919,
          -0.9859529668676883,
          -0.9803079688544248,
          -0.972852270655008,
          -0.9631870644985845,
          -0.9508884302057093,
          -0.9355263434619722,
          -0.9166891758680632,
          -0.8940126006030653,
          -0.8672110373255995,
          -0.8361090733890365,
          -0.8006698115463368,
          -0.7610169312976771,
          -0.7174474903772279,
          -0.6704331567085928,
          -0.6206086031563225,
          -0.5687471031167561,
          -0.5157247659560263,
          -0.4624761511859302,
          -0.4099450083620024,
          -0.35903445501567877,
          -0.31056094377258137,
          -0.26521588074066227,
          -0.22353782054643156,
          -0.18589692508402522,
          -0.1524920173528166,
          -0.12335927803572855,
          -0.09839058346571639,
          -0.07735878134187124,
          -0.05994689359636585,
          -0.045778309443798126,
          -0.034445418919915594,
          -0.025534737523453255,
          -0.018647272960127248,
          -0.013413579833635336,
          -0.009503553861374359,
          -0.006631480326824257,
          -0.004557149947041039,
          -0.00308399436513096,
          -0.0020551980638345846,
          -0.0013486495937150567,
          -0.0008714413555606093,
          -0.0005544489552657961,
          -0.00034734605700004195,
          -0.000214257322429523,
          -0.00013013030047903662,
          -7.78196565154321e-05,
          -4.582141566411568e-05,
          -2.656547657320374e-05,
          -1.5164898569453023e-05,
          -8.523897798040636e-06,
          -4.717575699864085e-06,
          -2.5709137194684928e-06,
          -1.379593210892871e-06,
          -7.289827738121701e-07,
          -3.7931030261173504e-07,
          -1.9435348230789629e-07,
          -9.806637113474181e-08,
          -4.872909153963434e-08,
          -2.3845575958247878e-08,
          -1.1491849805089771e-08,
          -5.454393492421161e-09,
          -2.5497026712173465e-09,
          -1.1739016425593718e-09,
          -5.323360641185104e-10,
          -2.3777446678252545e-10,
          -1.0461242982984231e-10,
          -4.533706743359289e-11
         ]
        },
        {
         "mode": "lines",
         "name": "3M",
         "type": "scatter",
         "x": {
          "bdata": "AAAAcIzU4z8IH3xA8tnjPxA++BBY3+M/F1104b3k4z8ffPCxI+rjPyebbIKJ7+M/L7roUu/04z822WQjVfrjPz744PO6/+M/RhddxCAF5D9ONtmUhgrkP1VVVWXsD+Q/XXTRNVIV5D9lk00GuBrkP22yydYdIOQ/dNFFp4Ml5D988MF36SrkP4QPPkhPMOQ/jC66GLU15D+TTTbpGjvkP5tssrmAQOQ/o4suiuZF5D+rqqpaTEvkP7LJJiuyUOQ/uuii+xdW5D/CBx/MfVvkP8omm5zjYOQ/0UUXbUlm5D/ZZJM9r2vkP+GDDw4VceQ/6aKL3np25D/wwQev4HvkP/jgg39GgeQ/AAAAUKyG5D8IH3wgEozkPxA++PB3keQ/F110wd2W5D8ffPCRQ5zkPyebbGKpoeQ/L7roMg+n5D822WQDdazkPz744NPaseQ/RhddpEC35D9ONtl0przkP1VVVUUMwuQ/XXTRFXLH5D9lk03m18zkP22yybY90uQ/dNFFh6PX5D988MFXCd3kP4QPPihv4uQ/jC66+NTn5D+TTTbJOu3kP5tsspmg8uQ/o4suagb45D+rqqo6bP3kP7LJJgvSAuU/uuii2zcI5T/CBx+snQ3lP8omm3wDE+U/0kUXTWkY5T/ZZJMdzx3lP+GDD+40I+U/6aKLvpoo5T/wwQePAC7lP/jgg19mM+U/AAAAMMw45T8IH3wAMj7lPxA++NCXQ+U/F110of1I5T8ffPBxY07lPyebbELJU+U/L7roEi9Z5T822WTjlF7lPz744LP6Y+U/RhddhGBp5T9ONtlUxm7lP1VVVSUsdOU/XXTR9ZF55T9lk03G937lP22yyZZdhOU/dNFFZ8OJ5T988ME3KY/lP4QPPgiPlOU/jC662PSZ5T+TTTapWp/lP5tssnnApOU/o4suSiaq5T+rqqoajK/lP7LJJuvxtOU/uuiiu1e65T/CBx+Mvb/lP8omm1wjxeU/0kUXLYnK5T/ZZJP97s/lP+GDD85U1eU/6aKLnrra5T/wwQdvIODlP/jggz+G5eU/AAAAEOzq5T8=",
          "dtype": "f8"
         },
         "y": [
          -0.7380640066415283,
          -0.7322646324513609,
          -0.7264075162600725,
          -0.7204939957405806,
          -0.714525452027666,
          -0.7085033086406776,
          -0.702429030350713,
          -0.6963041219939741,
          -0.6901301272330613,
          -0.6839086272681112,
          -0.6776412394997189,
          -0.6713296161457177,
          -0.6649754428139394,
          -0.6585804370331828,
          -0.65214634674465,
          -0.6456749487562236,
          -0.6391680471619763,
          -0.6326274717293932,
          -0.6260550762568111,
          -0.619452736903635,
          -0.6128223504959348,
          -0.6061658328100559,
          -0.5994851168368878,
          -0.5927821510294883,
          -0.5860588975367318,
          -0.579317330425729,
          -0.5725594338956732,
          -0.5657872004858646,
          -0.5590026292805839,
          -0.5522077241135195,
          -0.5454044917744062,
          -0.5385949402205168,
          -0.5317810767956315,
          -0.5249649064590637,
          -0.5181484300272743,
          -0.5113336424305861,
          -0.504522530987432,
          -0.4977170736985437,
          -0.4909192375634175,
          -0.48413097692132345,
          -0.4773542318190822,
          -0.4705909264077286,
          -0.4638429673701594,
          -0.4571122423817252,
          -0.4504006186057018,
          -0.4437099412254435,
          -0.43704203201500313,
          -0.43039868794982516,
          -0.42378167985911863,
          -0.41719275112136234,
          -0.41063361640433815,
          -0.40410596045097136,
          -0.39761143691216416,
          -0.39115166722773553,
          -0.3847282395564503,
          -0.3783427077560366,
          -0.37199659041399313,
          -0.3656913699298989,
          -0.35942849164982116,
          -0.35320936305332273,
          -0.3470353529934854,
          -0.34090779099027446,
          -0.3348279665774312,
          -0.3287971287030511,
          -0.32281648518386485,
          -0.31688720221314925,
          -0.3110104039221544,
          -0.30518717199476975,
          -0.29941854533514933,
          -0.2937055197878611,
          -0.28804904791008257,
          -0.2824500387953104,
          -0.27690935794789984,
          -0.27142782720775416,
          -0.2660062247243835,
          -0.2606452849794789,
          -0.2553456988570919,
          -0.2501081137604494,
          -0.2449331337743832,
          -0.2398213198722854,
          -0.23477319016645293,
          -0.22978922020064318,
          -0.22486984328362092,
          -0.2200154508624257,
          -0.21522639293404255,
          -0.21050297849416721,
          -0.2058454760216586,
          -0.20125411399731774,
          -0.19672908145553847,
          -0.192270528567416,
          -0.18787856725382568,
          -0.18355327182701764,
          -0.17929467965923063,
          -0.17510279187682753,
          -0.17097757407845315,
          -0.16691895707571547,
          -0.16292683765488392,
          -0.1590010793581007,
          -0.1551415132826096,
          -0.1513479388965363
         ]
        },
        {
         "mode": "lines",
         "name": "6M",
         "type": "scatter",
         "x": {
          "bdata": "AAAAcIzU4z8IH3xA8tnjPxA++BBY3+M/F1104b3k4z8ffPCxI+rjPyebbIKJ7+M/L7roUu/04z822WQjVfrjPz744PO6/+M/RhddxCAF5D9ONtmUhgrkP1VVVWXsD+Q/XXTRNVIV5D9lk00GuBrkP22yydYdIOQ/dNFFp4Ml5D988MF36SrkP4QPPkhPMOQ/jC66GLU15D+TTTbpGjvkP5tssrmAQOQ/o4suiuZF5D+rqqpaTEvkP7LJJiuyUOQ/uuii+xdW5D/CBx/MfVvkP8omm5zjYOQ/0UUXbUlm5D/ZZJM9r2vkP+GDDw4VceQ/6aKL3np25D/wwQev4HvkP/jgg39GgeQ/AAAAUKyG5D8IH3wgEozkPxA++PB3keQ/F110wd2W5D8ffPCRQ5zkPyebbGKpoeQ/L7roMg+n5D822WQDdazkPz744NPaseQ/RhddpEC35D9ONtl0przkP1VVVUUMwuQ/XXTRFXLH5D9lk03m18zkP22yybY90uQ/dNFFh6PX5D988MFXCd3kP4QPPihv4uQ/jC66+NTn5D+TTTbJOu3kP5tsspmg8uQ/o4suagb45D+rqqo6bP3kP7LJJgvSAuU/uuii2zcI5T/CBx+snQ3lP8omm3wDE+U/0kUXTWkY5T/ZZJMdzx3lP+GDD+40I+U/6aKLvpoo5T/wwQePAC7lP/jgg19mM+U/AAAAMMw45T8IH3wAMj7lPxA++NCXQ+U/F110of1I5T8ffPBxY07lPyebbELJU+U/L7roEi9Z5T822WTjlF7lPz744LP6Y+U/RhddhGBp5T9ONtlUxm7lP1VVVSUsdOU/XXTR9ZF55T9lk03G937lP22yyZZdhOU/dNFFZ8OJ5T988ME3KY/lP4QPPgiPlOU/jC662PSZ5T+TTTapWp/lP5tssnnApOU/o4suSiaq5T+rqqoajK/lP7LJJuvxtOU/uuiiu1e65T/CBx+Mvb/lP8omm1wjxeU/0kUXLYnK5T/ZZJP97s/lP+GDD85U1eU/6aKLnrra5T/wwQdvIODlP/jggz+G5eU/AAAAEOzq5T8=",
          "dtype": "f8"
         },
         "y": [
          -0.6167307942928498,
          -0.6119410935575078,
          -0.6071394151675151,
          -0.6023264948868206,
          -0.5975030713568761,
          -0.5926698857443756,
          -0.5878276813888819,
          -0.5829772034506262,
          -0.5781191985587439,
          -0.5732544144602318,
          -0.5683835996698802,
          -0.5635075031214538,
          -0.5586268738203796,
          -0.5537424604982064,
          -0.5488550112690782,
          -0.5439652732884847,
          -0.5390739924145262,
          -0.5341819128719429,
          -0.5292897769191378,
          -0.5243983245184263,
          -0.5195082930097448,
          -0.5146204167880382,
          -0.5097354269845372,
          -0.5048540511521453,
          -0.49997701295512365,
          -0.49510503186330324,
          -0.4902388228509783,
          -0.48537909610069907,
          -0.48052655671212563,
          -0.475681904416128,
          -0.47084583329429164,
          -0.4660190315039894,
          -0.46120218100917787,
          -0.45639595731706495,
          -0.4516010292207814,
          -0.44681805854819845,
          -0.4420476999170093,
          -0.4372906004961975,
          -0.43254739977400836,
          -0.42781872933251597,
          -0.42310521262889744,
          -0.4184074647834889,
          -0.4137260923747256,
          -0.40906169324102404,
          -0.40441485628968943,
          -0.399786161312893,
          -0.3951761788108029,
          -0.39058546982188125,
          -0.3860145857604165,
          -0.3814640682613091,
          -0.37693444903214846,
          -0.37242624971259464,
          -0.3679399817410751,
          -0.36347614622881774,
          -0.3590352338412106,
          -0.354617724686482,
          -0.3502240882116916,
          -0.3458547831060188,
          -0.34151025721132167,
          -0.3371909474399297,
          -0.3328972796996412,
          -0.3286296688258914,
          -0.3243885185210229,
          -0.3201742213006289,
          -0.3159871584469006,
          -0.31182769996890936,
          -0.30769620456977576,
          -0.3035930196206267,
          -0.2995184811412921,
          -0.2954729137876342,
          -0.29145663084543216,
          -0.2874699342307476,
          -0.2835131144966476,
          -0.2795864508462058,
          -0.2756902111516788,
          -0.2718246519797496,
          -0.26799001862272465,
          -0.2641865451355775,
          -0.26041445437872635,
          -0.25667395806642435,
          -0.25296525682063953,
          -0.24928854023030222,
          -0.2456439869158018,
          -0.24203176459859777,
          -0.23845203017580996,
          -0.2349049297996758,
          -0.23139059896171454,
          -0.22790916258149208,
          -0.224460735099822,
          -0.22104542057629262,
          -0.21766331279095574,
          -0.2143144953500583,
          -0.2109990417956673,
          -0.2077170157190451,
          -0.20446847087763753,
          -0.2012534513155353,
          -0.1980719914872635,
          -0.19492411638475726,
          -0.19180984166737725,
          -0.18872917379484322
         ]
        },
        {
         "mode": "lines",
         "name": "9M",
         "type": "scatter",
         "x": {
          "bdata": "AAAAcIzU4z8IH3xA8tnjPxA++BBY3+M/F1104b3k4z8ffPCxI+rjPyebbIKJ7+M/L7roUu/04z822WQjVfrjPz744PO6/+M/RhddxCAF5D9ONtmUhgrkP1VVVWXsD+Q/XXTRNVIV5D9lk00GuBrkP22yydYdIOQ/dNFFp4Ml5D988MF36SrkP4QPPkhPMOQ/jC66GLU15D+TTTbpGjvkP5tssrmAQOQ/o4suiuZF5D+rqqpaTEvkP7LJJiuyUOQ/uuii+xdW5D/CBx/MfVvkP8omm5zjYOQ/0UUXbUlm5D/ZZJM9r2vkP+GDDw4VceQ/6aKL3np25D/wwQev4HvkP/jgg39GgeQ/AAAAUKyG5D8IH3wgEozkPxA++PB3keQ/F110wd2W5D8ffPCRQ5zkPyebbGKpoeQ/L7roMg+n5D822WQDdazkPz744NPaseQ/RhddpEC35D9ONtl0przkP1VVVUUMwuQ/XXTRFXLH5D9lk03m18zkP22yybY90uQ/dNFFh6PX5D988MFXCd3kP4QPPihv4uQ/jC66+NTn5D+TTTbJOu3kP5tsspmg8uQ/o4suagb45D+rqqo6bP3kP7LJJgvSAuU/uuii2zcI5T/CBx+snQ3lP8omm3wDE+U/0kUXTWkY5T/ZZJMdzx3lP+GDD+40I+U/6aKLvpoo5T/wwQePAC7lP/jgg19mM+U/AAAAMMw45T8IH3wAMj7lPxA++NCXQ+U/F110of1I5T8ffPBxY07lPyebbELJU+U/L7roEi9Z5T822WTjlF7lPz744LP6Y+U/RhddhGBp5T9ONtlUxm7lP1VVVSUsdOU/XXTR9ZF55T9lk03G937lP22yyZZdhOU/dNFFZ8OJ5T988ME3KY/lP4QPPgiPlOU/jC662PSZ5T+TTTapWp/lP5tssnnApOU/o4suSiaq5T+rqqoajK/lP7LJJuvxtOU/uuiiu1e65T/CBx+Mvb/lP8omm1wjxeU/0kUXLYnK5T/ZZJP97s/lP+GDD85U1eU/6aKLnrra5T/wwQdvIODlP/jggz+G5eU/AAAAEOzq5T8=",
          "dtype": "f8"
         },
         "y": [
          -0.5465101056026185,
          -0.5424559942929148,
          -0.5384017709955542,
          -0.5343478586288002,
          -0.5302946786695719,
          -0.526242651027897,
          -0.522192193922838,
          -0.5181437237599553,
          -0.514097655010346,
          -0.510054400091326,
          -0.5060143692487866,
          -0.5019779704412857,
          -0.49794560922590914,
          -0.493917688645961,
          -0.48989460912050453,
          -0.48587676833581517,
          -0.4818645611387694,
          -0.47785837943222,
          -0.47385861207238267,
          -0.46986564476827364,
          -0.4658798599832301,
          -0.4619016368385489,
          -0.45793135101926274,
          -0.4539693746820943,
          -0.4500160763655974,
          -0.44607182090253583,
          -0.44213696933449187,
          -0.43821187882874935,
          -0.4342969025974578,
          -0.43039238981910455,
          -0.42649868556230297,
          -0.42261613071191495,
          -0.4187450618975208,
          -0.41488581142425174,
          -0.4110387072059859,
          -0.4072040727009254,
          -0.4033822268495544,
          -0.39957348401498693,
          -0.39577815392571125,
          -0.39199654162072395,
          -0.38822894739706537,
          -0.38447566675974354,
          -0.38073699037406006,
          -0.3770132040203189,
          -0.3733045885509251,
          -0.369611419849854,
          -0.36593396879450535,
          -0.36227250121990573,
          -0.35862727788527105,
          -0.35499855444290684,
          -0.351386581409438,
          -0.34779160413935284,
          -0.3442138628008421,
          -0.34065359235392534,
          -0.33711102253084335,
          -0.3335863778186937,
          -0.33007987744429423,
          -0.3265917353612563,
          -0.3231221602392442,
          -0.3196713554553938,
          -0.3162395190878704,
          -0.31282684391154836,
          -0.3094335173957722,
          -0.3060597217041867,
          -0.30270563369660564,
          -0.2993714249328807,
          -0.29605726167876445,
          -0.2927633049137106,
          -0.2894897103406089,
          -0.28623662839740405,
          -0.2830042042705705,
          -0.27979257791043,
          -0.2766018840482508,
          -0.2734322522151147,
          -0.27028380676251573,
          -0.2671566668846541,
          -0.26405094664239015,
          -0.26096675498882416,
          -0.2579041957964705,
          -0.2548633678859893,
          -0.25184436505643515,
          -0.24884727611698942,
          -0.24587218492014573,
          -0.24291917039630573,
          -0.23998830658974335,
          -0.23707966269591818,
          -0.23419330310007758,
          -0.23132928741713343,
          -0.2284876705327552,
          -0.22566850264566107,
          -0.22287182931105198,
          -0.22009769148516556,
          -0.21734612557090482,
          -0.21461716346450543,
          -0.21191083260320265,
          -0.2092271560138662,
          -0.20656615236256148,
          -0.20392783600499909,
          -0.20131221703783453,
          -0.1987193013507942
         ]
        },
        {
         "mode": "lines",
         "name": "12M",
         "type": "scatter",
         "x": {
          "bdata": "AAAAcIzU4z8IH3xA8tnjPxA++BBY3+M/F1104b3k4z8ffPCxI+rjPyebbIKJ7+M/L7roUu/04z822WQjVfrjPz744PO6/+M/RhddxCAF5D9ONtmUhgrkP1VVVWXsD+Q/XXTRNVIV5D9lk00GuBrkP22yydYdIOQ/dNFFp4Ml5D988MF36SrkP4QPPkhPMOQ/jC66GLU15D+TTTbpGjvkP5tssrmAQOQ/o4suiuZF5D+rqqpaTEvkP7LJJiuyUOQ/uuii+xdW5D/CBx/MfVvkP8omm5zjYOQ/0UUXbUlm5D/ZZJM9r2vkP+GDDw4VceQ/6aKL3np25D/wwQev4HvkP/jgg39GgeQ/AAAAUKyG5D8IH3wgEozkPxA++PB3keQ/F110wd2W5D8ffPCRQ5zkPyebbGKpoeQ/L7roMg+n5D822WQDdazkPz744NPaseQ/RhddpEC35D9ONtl0przkP1VVVUUMwuQ/XXTRFXLH5D9lk03m18zkP22yybY90uQ/dNFFh6PX5D988MFXCd3kP4QPPihv4uQ/jC66+NTn5D+TTTbJOu3kP5tsspmg8uQ/o4suagb45D+rqqo6bP3kP7LJJgvSAuU/uuii2zcI5T/CBx+snQ3lP8omm3wDE+U/0kUXTWkY5T/ZZJMdzx3lP+GDD+40I+U/6aKLvpoo5T/wwQePAC7lP/jgg19mM+U/AAAAMMw45T8IH3wAMj7lPxA++NCXQ+U/F110of1I5T8ffPBxY07lPyebbELJU+U/L7roEi9Z5T822WTjlF7lPz744LP6Y+U/RhddhGBp5T9ONtlUxm7lP1VVVSUsdOU/XXTR9ZF55T9lk03G937lP22yyZZdhOU/dNFFZ8OJ5T988ME3KY/lP4QPPgiPlOU/jC662PSZ5T+TTTapWp/lP5tssnnApOU/o4suSiaq5T+rqqoajK/lP7LJJuvxtOU/uuiiu1e65T/CBx+Mvb/lP8omm1wjxeU/0kUXLYnK5T/ZZJP97s/lP+GDD85U1eU/6aKLnrra5T/wwQdvIODlP/jggz+G5eU/AAAAEOzq5T8=",
          "dtype": "f8"
         },
         "y": [
          -0.4969856686430275,
          -0.49345296965875374,
          -0.4899245333705624,
          -0.48640062576175214,
          -0.4828815109123753,
          -0.47936745094783784,
          -0.47585870598851643,
          -0.47235553410040954,
          -0.4688581912468246,
          -0.4653669312411217,
          -0.4618820057005114,
          -0.45840366400092303,
          -0.45493215323294467,
          -0.45146771815885134,
          -0.4480106011707138,
          -0.44456104224960835,
          -0.4411192789259216,
          -0.43768554624076383,
          -0.4342600767084881,
          -0.43084310028032113,
          -0.42743484430910894,
          -0.4240355335151835,
          -0.4206453899533431,
          -0.4172646329809585,
          -0.4138934792271922,
          -0.4105321425633517,
          -0.4071808340743509,
          -0.4038397620313001,
          -0.4005091318652101,
          -0.39718914614181766,
          -0.3938800045375228,
          -0.3905819038164371,
          -0.38729503780854213,
          -0.3840195973889535,
          -0.3807557704582829,
          -0.3775037419240982,
          -0.3742636936834711,
          -0.37103580460661223,
          -0.36782025052158485,
          -0.3646172042000899,
          -0.3614268353443184,
          -0.3582493105748581,
          -0.3550847934196568,
          -0.3519334443040234,
          -0.3487954205416671,
          -0.34567087632675486,
          -0.34255996272699707,
          -0.33946282767772873,
          -0.3363796159769943,
          -0.33331046928161645,
          -0.3302555261042439,
          -0.32721492181136547,
          -0.32418878862227374,
          -0.3211772556089788,
          -0.318180448697053,
          -0.3151984906673926,
          -0.3122315011588894,
          -0.3092795966719998,
          -0.30634289057319686,
          -0.3034214931002922,
          -0.3005155113686139,
          -0.2976250493780348,
          -0.2947502080208255,
          -0.2918910850903287,
          -0.2890477752904399,
          -0.2862203702458713,
          -0.283408958513201,
          -0.2806136255926751,
          -0.2778344539407668,
          -0.2750715229834635,
          -0.2723249091302702,
          -0.2695946857889284,
          -0.26688092338081426,
          -0.2641836893570142,
          -0.2615030482150633,
          -0.25883906151633007,
          -0.2561917879040261,
          -0.2535612831218349,
          -0.25094760003314076,
          -0.24835078864084315,
          -0.2457708961077405,
          -0.24320796677746703,
          -0.24066204219597265,
          -0.23813316113352845,
          -0.23562135960723563,
          -0.23312667090403738,
          -0.23064912560420137,
          -0.22818875160527563,
          -0.22574557414648466,
          -0.2233196158335693,
          -0.22091089666403652,
          -0.21851943405282004,
          -0.21614524285833148,
          -0.21378833540888142,
          -0.21144872152946315,
          -0.2091264085688841,
          -0.20682140142722694,
          -0.20453370258362769,
          -0.2022633121243529,
          -0.2000102277711744
         ]
        }
       ],
       "layout": {
        "template": {
         "data": {
          "bar": [
           {
            "error_x": {
             "color": "#2a3f5f"
            },
            "error_y": {
             "color": "#2a3f5f"
            },
            "marker": {
             "line": {
              "color": "white",
              "width": 0.5
             },
             "pattern": {
              "fillmode": "overlay",
              "size": 10,
              "solidity": 0.2
             }
            },
            "type": "bar"
           }
          ],
          "barpolar": [
           {
            "marker": {
             "line": {
              "color": "white",
              "width": 0.5
             },
             "pattern": {
              "fillmode": "overlay",
              "size": 10,
              "solidity": 0.2
             }
            },
            "type": "barpolar"
           }
          ],
          "carpet": [
           {
            "aaxis": {
             "endlinecolor": "#2a3f5f",
             "gridcolor": "#C8D4E3",
             "linecolor": "#C8D4E3",
             "minorgridcolor": "#C8D4E3",
             "startlinecolor": "#2a3f5f"
            },
            "baxis": {
             "endlinecolor": "#2a3f5f",
             "gridcolor": "#C8D4E3",
             "linecolor": "#C8D4E3",
             "minorgridcolor": "#C8D4E3",
             "startlinecolor": "#2a3f5f"
            },
            "type": "carpet"
           }
          ],
          "choropleth": [
           {
            "colorbar": {
             "outlinewidth": 0,
             "ticks": ""
            },
            "type": "choropleth"
           }
          ],
          "contour": [
           {
            "colorbar": {
             "outlinewidth": 0,
             "ticks": ""
            },
            "colorscale": [
             [
              0,
              "#0d0887"
             ],
             [
              0.1111111111111111,
              "#46039f"
             ],
             [
              0.2222222222222222,
              "#7201a8"
             ],
             [
              0.3333333333333333,
              "#9c179e"
             ],
             [
              0.4444444444444444,
              "#bd3786"
             ],
             [
              0.5555555555555556,
              "#d8576b"
             ],
             [
              0.6666666666666666,
              "#ed7953"
             ],
             [
              0.7777777777777778,
              "#fb9f3a"
             ],
             [
              0.8888888888888888,
              "#fdca26"
             ],
             [
              1,
              "#f0f921"
             ]
            ],
            "type": "contour"
           }
          ],
          "contourcarpet": [
           {
            "colorbar": {
             "outlinewidth": 0,
             "ticks": ""
            },
            "type": "contourcarpet"
           }
          ],
          "heatmap": [
           {
            "colorbar": {
             "outlinewidth": 0,
             "ticks": ""
            },
            "colorscale": [
             [
              0,
              "#0d0887"
             ],
             [
              0.1111111111111111,
              "#46039f"
             ],
             [
              0.2222222222222222,
              "#7201a8"
             ],
             [
              0.3333333333333333,
              "#9c179e"
             ],
             [
              0.4444444444444444,
              "#bd3786"
             ],
             [
              0.5555555555555556,
              "#d8576b"
             ],
             [
              0.6666666666666666,
              "#ed7953"
             ],
             [
              0.7777777777777778,
              "#fb9f3a"
             ],
             [
              0.8888888888888888,
              "#fdca26"
             ],
             [
              1,
              "#f0f921"
             ]
            ],
            "type": "heatmap"
           }
          ],
          "histogram": [
           {
            "marker": {
             "pattern": {
              "fillmode": "overlay",
              "size": 10,
              "solidity": 0.2
             }
            },
            "type": "histogram"
           }
          ],
          "histogram2d": [
           {
            "colorbar": {
             "outlinewidth": 0,
             "ticks": ""
            },
            "colorscale": [
             [
              0,
              "#0d0887"
             ],
             [
              0.1111111111111111,
              "#46039f"
             ],
             [
              0.2222222222222222,
              "#7201a8"
             ],
             [
              0.3333333333333333,
              "#9c179e"
             ],
             [
              0.4444444444444444,
              "#bd3786"
             ],
             [
              0.5555555555555556,
              "#d8576b"
             ],
             [
              0.6666666666666666,
              "#ed7953"
             ],
             [
              0.7777777777777778,
              "#fb9f3a"
             ],
             [
              0.8888888888888888,
              "#fdca26"
             ],
             [
              1,
              "#f0f921"
             ]
            ],
            "type": "histogram2d"
           }
          ],
          "histogram2dcontour": [
           {
            "colorbar": {
             "outlinewidth": 0,
             "ticks": ""
            },
            "colorscale": [
             [
              0,
              "#0d0887"
             ],
             [
              0.1111111111111111,
              "#46039f"
             ],
             [
              0.2222222222222222,
              "#7201a8"
             ],
             [
              0.3333333333333333,
              "#9c179e"
             ],
             [
              0.4444444444444444,
              "#bd3786"
             ],
             [
              0.5555555555555556,
              "#d8576b"
             ],
             [
              0.6666666666666666,
              "#ed7953"
             ],
             [
              0.7777777777777778,
              "#fb9f3a"
             ],
             [
              0.8888888888888888,
              "#fdca26"
             ],
             [
              1,
              "#f0f921"
             ]
            ],
            "type": "histogram2dcontour"
           }
          ],
          "mesh3d": [
           {
            "colorbar": {
             "outlinewidth": 0,
             "ticks": ""
            },
            "type": "mesh3d"
           }
          ],
          "parcoords": [
           {
            "line": {
             "colorbar": {
              "outlinewidth": 0,
              "ticks": ""
             }
            },
            "type": "parcoords"
           }
          ],
          "pie": [
           {
            "automargin": true,
            "type": "pie"
           }
          ],
          "scatter": [
           {
            "fillpattern": {
             "fillmode": "overlay",
             "size": 10,
             "solidity": 0.2
            },
            "type": "scatter"
           }
          ],
          "scatter3d": [
           {
            "line": {
             "colorbar": {
              "outlinewidth": 0,
              "ticks": ""
             }
            },
            "marker": {
             "colorbar": {
              "outlinewidth": 0,
              "ticks": ""
             }
            },
            "type": "scatter3d"
           }
          ],
          "scattercarpet": [
           {
            "marker": {
             "colorbar": {
              "outlinewidth": 0,
              "ticks": ""
             }
            },
            "type": "scattercarpet"
           }
          ],
          "scattergeo": [
           {
            "marker": {
             "colorbar": {
              "outlinewidth": 0,
              "ticks": ""
             }
            },
            "type": "scattergeo"
           }
          ],
          "scattergl": [
           {
            "marker": {
             "colorbar": {
              "outlinewidth": 0,
              "ticks": ""
             }
            },
            "type": "scattergl"
           }
          ],
          "scattermap": [
           {
            "marker": {
             "colorbar": {
              "outlinewidth": 0,
              "ticks": ""
             }
            },
            "type": "scattermap"
           }
          ],
          "scattermapbox": [
           {
            "marker": {
             "colorbar": {
              "outlinewidth": 0,
              "ticks": ""
             }
            },
            "type": "scattermapbox"
           }
          ],
          "scatterpolar": [
           {
            "marker": {
             "colorbar": {
              "outlinewidth": 0,
              "ticks": ""
             }
            },
            "type": "scatterpolar"
           }
          ],
          "scatterpolargl": [
           {
            "marker": {
             "colorbar": {
              "outlinewidth": 0,
              "ticks": ""
             }
            },
            "type": "scatterpolargl"
           }
          ],
          "scatterternary": [
           {
            "marker": {
             "colorbar": {
              "outlinewidth": 0,
              "ticks": ""
             }
            },
            "type": "scatterternary"
           }
          ],
          "surface": [
           {
            "colorbar": {
             "outlinewidth": 0,
             "ticks": ""
            },
            "colorscale": [
             [
              0,
              "#0d0887"
             ],
             [
              0.1111111111111111,
              "#46039f"
             ],
             [
              0.2222222222222222,
              "#7201a8"
             ],
             [
              0.3333333333333333,
              "#9c179e"
             ],
             [
              0.4444444444444444,
              "#bd3786"
             ],
             [
              0.5555555555555556,
              "#d8576b"
             ],
             [
              0.6666666666666666,
              "#ed7953"
             ],
             [
              0.7777777777777778,
              "#fb9f3a"
             ],
             [
              0.8888888888888888,
              "#fdca26"
             ],
             [
              1,
              "#f0f921"
             ]
            ],
            "type": "surface"
           }
          ],
          "table": [
           {
            "cells": {
             "fill": {
              "color": "#EBF0F8"
             },
             "line": {
              "color": "white"
             }
            },
            "header": {
             "fill": {
              "color": "#C8D4E3"
             },
             "line": {
              "color": "white"
             }
            },
            "type": "table"
           }
          ]
         },
         "layout": {
          "annotationdefaults": {
           "arrowcolor": "#2a3f5f",
           "arrowhead": 0,
           "arrowwidth": 1
          },
          "autotypenumbers": "strict",
          "coloraxis": {
           "colorbar": {
            "outlinewidth": 0,
            "ticks": ""
           }
          },
          "colorscale": {
           "diverging": [
            [
             0,
             "#8e0152"
            ],
            [
             0.1,
             "#c51b7d"
            ],
            [
             0.2,
             "#de77ae"
            ],
            [
             0.3,
             "#f1b6da"
            ],
            [
             0.4,
             "#fde0ef"
            ],
            [
             0.5,
             "#f7f7f7"
            ],
            [
             0.6,
             "#e6f5d0"
            ],
            [
             0.7,
             "#b8e186"
            ],
            [
             0.8,
             "#7fbc41"
            ],
            [
             0.9,
             "#4d9221"
            ],
            [
             1,
             "#276419"
            ]
           ],
           "sequential": [
            [
             0,
             "#0d0887"
            ],
            [
             0.1111111111111111,
             "#46039f"
            ],
            [
             0.2222222222222222,
             "#7201a8"
            ],
            [
             0.3333333333333333,
             "#9c179e"
            ],
            [
             0.4444444444444444,
             "#bd3786"
            ],
            [
             0.5555555555555556,
             "#d8576b"
            ],
            [
             0.6666666666666666,
             "#ed7953"
            ],
            [
             0.7777777777777778,
             "#fb9f3a"
            ],
            [
             0.8888888888888888,
             "#fdca26"
            ],
            [
             1,
             "#f0f921"
            ]
           ],
           "sequentialminus": [
            [
             0,
             "#0d0887"
            ],
            [
             0.1111111111111111,
             "#46039f"
            ],
            [
             0.2222222222222222,
             "#7201a8"
            ],
            [
             0.3333333333333333,
             "#9c179e"
            ],
            [
             0.4444444444444444,
             "#bd3786"
            ],
            [
             0.5555555555555556,
             "#d8576b"
            ],
            [
             0.6666666666666666,
             "#ed7953"
            ],
            [
             0.7777777777777778,
             "#fb9f3a"
            ],
            [
             0.8888888888888888,
             "#fdca26"
            ],
            [
             1,
             "#f0f921"
            ]
           ]
          },
          "colorway": [
           "#636efa",
           "#EF553B",
           "#00cc96",
           "#ab63fa",
           "#FFA15A",
           "#19d3f3",
           "#FF6692",
           "#B6E880",
           "#FF97FF",
           "#FECB52"
          ],
          "font": {
           "color": "#2a3f5f"
          },
          "geo": {
           "bgcolor": "white",
           "lakecolor": "white",
           "landcolor": "white",
           "showlakes": true,
           "showland": true,
           "subunitcolor": "#C8D4E3"
          },
          "hoverlabel": {
           "align": "left"
          },
          "hovermode": "closest",
          "mapbox": {
           "style": "light"
          },
          "paper_bgcolor": "white",
          "plot_bgcolor": "white",
          "polar": {
           "angularaxis": {
            "gridcolor": "#EBF0F8",
            "linecolor": "#EBF0F8",
            "ticks": ""
           },
           "bgcolor": "white",
           "radialaxis": {
            "gridcolor": "#EBF0F8",
            "linecolor": "#EBF0F8",
            "ticks": ""
           }
          },
          "scene": {
           "xaxis": {
            "backgroundcolor": "white",
            "gridcolor": "#DFE8F3",
            "gridwidth": 2,
            "linecolor": "#EBF0F8",
            "showbackground": true,
            "ticks": "",
            "zerolinecolor": "#EBF0F8"
           },
           "yaxis": {
            "backgroundcolor": "white",
            "gridcolor": "#DFE8F3",
            "gridwidth": 2,
            "linecolor": "#EBF0F8",
            "showbackground": true,
            "ticks": "",
            "zerolinecolor": "#EBF0F8"
           },
           "zaxis": {
            "backgroundcolor": "white",
            "gridcolor": "#DFE8F3",
            "gridwidth": 2,
            "linecolor": "#EBF0F8",
            "showbackground": true,
            "ticks": "",
            "zerolinecolor": "#EBF0F8"
           }
          },
          "shapedefaults": {
           "line": {
            "color": "#2a3f5f"
           }
          },
          "ternary": {
           "aaxis": {
            "gridcolor": "#DFE8F3",
            "linecolor": "#A2B1C6",
            "ticks": ""
           },
           "baxis": {
            "gridcolor": "#DFE8F3",
            "linecolor": "#A2B1C6",
            "ticks": ""
           },
           "bgcolor": "white",
           "caxis": {
            "gridcolor": "#DFE8F3",
            "linecolor": "#A2B1C6",
            "ticks": ""
           }
          },
          "title": {
           "x": 0.05
          },
          "xaxis": {
           "automargin": true,
           "gridcolor": "#EBF0F8",
           "linecolor": "#EBF0F8",
           "ticks": "",
           "title": {
            "standoff": 15
           },
           "zerolinecolor": "#EBF0F8",
           "zerolinewidth": 2
          },
          "yaxis": {
           "automargin": true,
           "gridcolor": "#EBF0F8",
           "linecolor": "#EBF0F8",
           "ticks": "",
           "title": {
            "standoff": 15
           },
           "zerolinecolor": "#EBF0F8",
           "zerolinewidth": 2
          }
         }
        },
        "title": {
         "font": {
          "family": "Arial Black",
          "size": 20
         },
         "text": "Put Delta vs Spot Price (AUD/USD)",
         "x": 0.5,
         "xanchor": "center"
        },
        "xaxis": {
         "title": {
          "text": "Spot Price"
         }
        },
        "yaxis": {
         "title": {
          "text": "Delta"
         }
        }
       }
      }
     },
     "metadata": {},
     "output_type": "display_data"
    }
   ],
   "source": [
    "# Put Delta vs Spot Price\n",
    "\n",
    "fig = go.Figure()\n",
    "\n",
    "for label, tau in d.items():\n",
    "    deltas = []\n",
    "    for s in x:\n",
    "        opt = BS(s, strike, rate, tau, vol)\n",
    "        deltas.append(opt.put_delta)\n",
    "\n",
    "    \n",
    "    fig.add_trace(go.Scatter(\n",
    "        x=x,\n",
    "        y=deltas,\n",
    "        mode='lines',\n",
    "        name=f\"{label}\"\n",
    "    ))\n",
    "\n",
    "fig.update_layout(\n",
    "    title=dict(\n",
    "        text='Put Delta vs Spot Price (AUD/USD)',\n",
    "        x=0.5,\n",
    "        xanchor='center',\n",
    "        font=dict(size=20, family='Arial Black')\n",
    "    ),\n",
    "    xaxis_title=\"Spot Price\",\n",
    "    yaxis_title=\"Delta\",\n",
    "    template=\"plotly_white\"\n",
    ")\n",
    "\n",
    "fig.show()"
   ]
  },
  {
   "cell_type": "markdown",
   "metadata": {},
   "source": [
    "#### 2）Gamma vs. Spot "
   ]
  },
  {
   "cell_type": "code",
   "execution_count": 11,
   "metadata": {},
   "outputs": [
    {
     "data": {
      "application/vnd.plotly.v1+json": {
       "config": {
        "plotlyServerURL": "https://plot.ly"
       },
       "data": [
        {
         "mode": "lines",
         "name": "1D",
         "type": "scatter",
         "x": {
          "bdata": "AAAAcIzU4z8IH3xA8tnjPxA++BBY3+M/F1104b3k4z8ffPCxI+rjPyebbIKJ7+M/L7roUu/04z822WQjVfrjPz744PO6/+M/RhddxCAF5D9ONtmUhgrkP1VVVWXsD+Q/XXTRNVIV5D9lk00GuBrkP22yydYdIOQ/dNFFp4Ml5D988MF36SrkP4QPPkhPMOQ/jC66GLU15D+TTTbpGjvkP5tssrmAQOQ/o4suiuZF5D+rqqpaTEvkP7LJJiuyUOQ/uuii+xdW5D/CBx/MfVvkP8omm5zjYOQ/0UUXbUlm5D/ZZJM9r2vkP+GDDw4VceQ/6aKL3np25D/wwQev4HvkP/jgg39GgeQ/AAAAUKyG5D8IH3wgEozkPxA++PB3keQ/F110wd2W5D8ffPCRQ5zkPyebbGKpoeQ/L7roMg+n5D822WQDdazkPz744NPaseQ/RhddpEC35D9ONtl0przkP1VVVUUMwuQ/XXTRFXLH5D9lk03m18zkP22yybY90uQ/dNFFh6PX5D988MFXCd3kP4QPPihv4uQ/jC66+NTn5D+TTTbJOu3kP5tsspmg8uQ/o4suagb45D+rqqo6bP3kP7LJJgvSAuU/uuii2zcI5T/CBx+snQ3lP8omm3wDE+U/0kUXTWkY5T/ZZJMdzx3lP+GDD+40I+U/6aKLvpoo5T/wwQePAC7lP/jgg19mM+U/AAAAMMw45T8IH3wAMj7lPxA++NCXQ+U/F110of1I5T8ffPBxY07lPyebbELJU+U/L7roEi9Z5T822WTjlF7lPz744LP6Y+U/RhddhGBp5T9ONtlUxm7lP1VVVSUsdOU/XXTR9ZF55T9lk03G937lP22yyZZdhOU/dNFFZ8OJ5T988ME3KY/lP4QPPgiPlOU/jC662PSZ5T+TTTapWp/lP5tssnnApOU/o4suSiaq5T+rqqoajK/lP7LJJuvxtOU/uuiiu1e65T/CBx+Mvb/lP8omm1wjxeU/0kUXLYnK5T/ZZJP97s/lP+GDD85U1eU/6aKLnrra5T/wwQdvIODlP/jggz+G5eU/AAAAEOzq5T8=",
          "dtype": "f8"
         },
         "y": [
          1.0299822373216157e-08,
          2.6344082310425502e-08,
          6.599849475273328e-08,
          1.619611226918329e-07,
          3.893510816416223e-07,
          9.169672187476758e-07,
          2.1158062861573125e-06,
          4.7833857819925615e-06,
          1.0596439494629407e-05,
          2.300260897978562e-05,
          4.893439645909329e-05,
          0.00010202314343831611,
          0.0002084767868358773,
          0.0004175594918090867,
          0.0008197995477449547,
          0.0015778021774721651,
          0.002977006561343874,
          0.00550701292613497,
          0.00998821910521842,
          0.017763239947110113,
          0.03097739234594049,
          0.05297639210970685,
          0.08885071809878527,
          0.14615263344989324,
          0.2358009137660772,
          0.3731671078384666,
          0.5793033826912595,
          0.8822248982110563,
          1.3181010325570137,
          1.9321451259973885,
          2.7789315798003127,
          3.921826249606589,
          5.431208192998001,
          7.381205336309386,
          9.84477717799484,
          12.887159446241705,
          16.557930886753958,
          20.882247301665355,
          25.852072754316023,
          31.418470410380312,
          37.48613941019819,
          43.91134995466366,
          50.50420625397132,
          57.03575608802579,
          63.24990266736403,
          68.87943069598252,
          73.66483148343411,
          77.37410873119497,
          79.82146334483647,
          80.882757021468,
          80.50595837974045,
          78.71534684537622,
          75.6090046763084,
          71.34994919263761,
          66.15201692266045,
          60.262193534573036,
          53.941406947324154,
          47.44583251333813,
          41.01051614912404,
          34.83666499072689,
          29.083375400584067,
          23.863964256736633,
          19.246531518690812,
          15.257976561794868,
          11.89045272188059,
          9.109176780960123,
          6.86058889924448,
          5.08004242847509,
          3.6984438632227836,
          2.6475151975412157,
          1.8635778588883953,
          1.2899358198630166,
          0.8780553547193689,
          0.5878013697748066,
          0.3870043005490814,
          0.25061035037672114,
          0.1596252791221987,
          0.10001039665183979,
          0.06163831065332163,
          0.03737142077915167,
          0.022291173143424083,
          0.013081324820878135,
          0.007552956802585913,
          0.0042909123310186665,
          0.0023986698650857834,
          0.0013194722672396505,
          0.0007142655146794433,
          0.0003805128530799327,
          0.0001995031433353842,
          0.00010294882033568364,
          5.2288310595612616e-05,
          2.6140853367830543e-05,
          1.2864326833459166e-05,
          6.231989163554139e-06,
          2.9720679064256274e-06,
          1.3954144113744314e-06,
          6.45030230023306e-07,
          2.9356833076161235e-07,
          1.3155592665740963e-07,
          5.8050164192703555e-08
         ]
        },
        {
         "mode": "lines",
         "name": "3M",
         "type": "scatter",
         "x": {
          "bdata": "AAAAcIzU4z8IH3xA8tnjPxA++BBY3+M/F1104b3k4z8ffPCxI+rjPyebbIKJ7+M/L7roUu/04z822WQjVfrjPz744PO6/+M/RhddxCAF5D9ONtmUhgrkP1VVVWXsD+Q/XXTRNVIV5D9lk00GuBrkP22yydYdIOQ/dNFFp4Ml5D988MF36SrkP4QPPkhPMOQ/jC66GLU15D+TTTbpGjvkP5tssrmAQOQ/o4suiuZF5D+rqqpaTEvkP7LJJiuyUOQ/uuii+xdW5D/CBx/MfVvkP8omm5zjYOQ/0UUXbUlm5D/ZZJM9r2vkP+GDDw4VceQ/6aKL3np25D/wwQev4HvkP/jgg39GgeQ/AAAAUKyG5D8IH3wgEozkPxA++PB3keQ/F110wd2W5D8ffPCRQ5zkPyebbGKpoeQ/L7roMg+n5D822WQDdazkPz744NPaseQ/RhddpEC35D9ONtl0przkP1VVVUUMwuQ/XXTRFXLH5D9lk03m18zkP22yybY90uQ/dNFFh6PX5D988MFXCd3kP4QPPihv4uQ/jC66+NTn5D+TTTbJOu3kP5tsspmg8uQ/o4suagb45D+rqqo6bP3kP7LJJgvSAuU/uuii2zcI5T/CBx+snQ3lP8omm3wDE+U/0kUXTWkY5T/ZZJMdzx3lP+GDD+40I+U/6aKLvpoo5T/wwQePAC7lP/jgg19mM+U/AAAAMMw45T8IH3wAMj7lPxA++NCXQ+U/F110of1I5T8ffPBxY07lPyebbELJU+U/L7roEi9Z5T822WTjlF7lPz744LP6Y+U/RhddhGBp5T9ONtlUxm7lP1VVVSUsdOU/XXTR9ZF55T9lk03G937lP22yyZZdhOU/dNFFZ8OJ5T988ME3KY/lP4QPPgiPlOU/jC662PSZ5T+TTTapWp/lP5tssnnApOU/o4suSiaq5T+rqqoajK/lP7LJJuvxtOU/uuiiu1e65T/CBx+Mvb/lP8omm1wjxeU/0kUXLYnK5T/ZZJP97s/lP+GDD85U1eU/6aKLnrra5T/wwQdvIODlP/jggz+G5eU/AAAAEOzq5T8=",
          "dtype": "f8"
         },
         "y": [
          8.75711707413119,
          8.845743652616738,
          8.9323735757848,
          9.016940093631368,
          9.099378048204803,
          9.179623959090087,
          9.257616106413545,
          9.33329461121506,
          9.406601513041124,
          9.477480844617928,
          9.54587870347091,
          9.611743320363848,
          9.675025124437925,
          9.735676804938642,
          9.79365336942645,
          9.84891219837456,
          9.901413096065884,
          9.951118337709126,
          9.99799271270266,
          10.042003563983348,
          10.083120823406036,
          10.121317043108261,
          10.156567422823553,
          10.188849833115237,
          10.218144834511834,
          10.244435692533337,
          10.267708388607,
          10.287951626879309,
          10.305156836939686,
          10.319318172479713,
          10.330432505920015,
          10.338499419044945,
          10.343521189693204,
          10.345502774560181,
          10.34445178817537,
          10.340378478125373,
          10.333295696600132,
          10.323218868346624,
          10.310165955120867,
          10.294157416735132,
          10.275216168803134,
          10.253367537291574,
          10.228639209991558,
          10.201061185028273,
          10.170665716531916,
          10.137487257596938,
          10.101562400660665,
          10.06292981543555,
          10.021630184532718,
          9.977706136916945,
          9.931202179335791,
          9.882164625867457,
          9.830641525733569,
          9.776682589524583,
          9.72033911398619,
          9.661663905515681,
          9.600711202517603,
          9.537536596767797,
          9.472196953934482,
          9.404750333404111,
          9.335255907558818,
          9.263773880650833,
          9.19036540741721,
          9.115092511576615,
          9.038018004347407,
          8.959205403123422,
          8.878718850441778,
          8.79662303337294,
          8.712983103461053,
          8.627864597338078,
          8.54133335813208,
          8.453455457786374,
          8.364297120401126,
          8.273924646705858,
          8.182404339766386,
          8.08980243202524,
          7.996185013769888,
          7.901617963118572,
          7.806166877608596,
          7.709897007467033,
          7.612873190638605,
          7.515159789640851,
          7.41682063031145,
          7.317918942507513,
          7.218517302811265,
          7.118677579292322,
          7.018460878370425,
          6.917927493818875,
          6.817136857942546,
          6.716147494960688,
          6.615016976618658,
          6.51380188004897,
          6.4125577478966385,
          6.3113390507192975,
          6.210199151668217,
          6.109190273451874,
          6.008363467579328,
          5.907768585876371,
          5.807454254263513,
          5.707467848781403
         ]
        },
        {
         "mode": "lines",
         "name": "6M",
         "type": "scatter",
         "x": {
          "bdata": "AAAAcIzU4z8IH3xA8tnjPxA++BBY3+M/F1104b3k4z8ffPCxI+rjPyebbIKJ7+M/L7roUu/04z822WQjVfrjPz744PO6/+M/RhddxCAF5D9ONtmUhgrkP1VVVWXsD+Q/XXTRNVIV5D9lk00GuBrkP22yydYdIOQ/dNFFp4Ml5D988MF36SrkP4QPPkhPMOQ/jC66GLU15D+TTTbpGjvkP5tssrmAQOQ/o4suiuZF5D+rqqpaTEvkP7LJJiuyUOQ/uuii+xdW5D/CBx/MfVvkP8omm5zjYOQ/0UUXbUlm5D/ZZJM9r2vkP+GDDw4VceQ/6aKL3np25D/wwQev4HvkP/jgg39GgeQ/AAAAUKyG5D8IH3wgEozkPxA++PB3keQ/F110wd2W5D8ffPCRQ5zkPyebbGKpoeQ/L7roMg+n5D822WQDdazkPz744NPaseQ/RhddpEC35D9ONtl0przkP1VVVUUMwuQ/XXTRFXLH5D9lk03m18zkP22yybY90uQ/dNFFh6PX5D988MFXCd3kP4QPPihv4uQ/jC66+NTn5D+TTTbJOu3kP5tsspmg8uQ/o4suagb45D+rqqo6bP3kP7LJJgvSAuU/uuii2zcI5T/CBx+snQ3lP8omm3wDE+U/0kUXTWkY5T/ZZJMdzx3lP+GDD+40I+U/6aKLvpoo5T/wwQePAC7lP/jgg19mM+U/AAAAMMw45T8IH3wAMj7lPxA++NCXQ+U/F110of1I5T8ffPBxY07lPyebbELJU+U/L7roEi9Z5T822WTjlF7lPz744LP6Y+U/RhddhGBp5T9ONtlUxm7lP1VVVSUsdOU/XXTR9ZF55T9lk03G937lP22yyZZdhOU/dNFFZ8OJ5T988ME3KY/lP4QPPgiPlOU/jC662PSZ5T+TTTapWp/lP5tssnnApOU/o4suSiaq5T+rqqoajK/lP7LJJuvxtOU/uuiiu1e65T/CBx+Mvb/lP8omm1wjxeU/0kUXLYnK5T/ZZJP97s/lP+GDD85U1eU/6aKLnrra5T/wwQdvIODlP/jggz+G5eU/AAAAEOzq5T8=",
          "dtype": "f8"
         },
         "y": [
          7.259772628878457,
          7.278507613020473,
          7.296128304618542,
          7.312630069389191,
          7.328008807451463,
          7.3422609536996495,
          7.355383477756022,
          7.367373883506758,
          7.378230208224615,
          7.387951021282361,
          7.396535422461395,
          7.40398303986033,
          7.410294027408781,
          7.415469061991901,
          7.419509340191644,
          7.422416574651046,
          7.42419299006815,
          7.4248413188266,
          7.424364796270141,
          7.422767155628697,
          7.420052622603851,
          7.416225909621961,
          7.411292209763322,
          7.405257190376074,
          7.398126986383787,
          7.389908193295891,
          7.380607859930298,
          7.370233480857793,
          7.358792988577929,
          7.346294745436349,
          7.3327475352935965,
          7.318160554955599,
          7.302543405376182,
          7.285906082642053,
          7.268258968750752,
          7.249612822192229,
          7.229978768344723,
          7.20936828969566,
          7.1877932158983935,
          7.1652657136755575,
          7.141798276579885,
          7.117403714623273,
          7.092095143784982,
          7.065885975409669,
          7.03878990550608,
          7.010820903957021,
          6.981993203651371,
          6.952321289548573,
          6.9218198876861585,
          6.890503954140696,
          6.858388663952424,
          6.825489400023765,
          6.791821742001691,
          6.757401455153954,
          6.72224447924889,
          6.686366917448358,
          6.649785025223336,
          6.612515199301408,
          6.574573966655291,
          6.5359779735412085,
          6.496743974595906,
          6.456888822000882,
          6.416429454721975,
          6.375382887832578,
          6.333766201928329,
          6.291596532640782,
          6.2488910602577965,
          6.2056669994574944,
          6.161941589163084,
          6.117732082525038,
          6.073055737037164,
          6.0279298047930014,
          5.9823715228882275,
          5.936398103975021,
          5.890026726973848,
          5.843274527947907,
          5.796158591145144,
          5.7486959402126585,
          5.700903529587954,
          5.6527982360712805,
          5.604396850582945,
          5.555716070109385,
          5.506772489841475,
          5.457582595508259,
          5.408162755908969,
          5.358529215646271,
          5.308698088062904,
          5.258685348384251,
          5.208506827068496,
          5.158178203366447,
          5.1077149990921855,
          5.0571325726061085,
          5.006446113011249,
          4.955670634563708,
          4.904820971297818,
          4.853911771866436,
          4.8029574945965425,
          4.751972402760034,
          4.70097056005945,
          4.649965826328452
         ]
        },
        {
         "mode": "lines",
         "name": "9M",
         "type": "scatter",
         "x": {
          "bdata": "AAAAcIzU4z8IH3xA8tnjPxA++BBY3+M/F1104b3k4z8ffPCxI+rjPyebbIKJ7+M/L7roUu/04z822WQjVfrjPz744PO6/+M/RhddxCAF5D9ONtmUhgrkP1VVVWXsD+Q/XXTRNVIV5D9lk00GuBrkP22yydYdIOQ/dNFFp4Ml5D988MF36SrkP4QPPkhPMOQ/jC66GLU15D+TTTbpGjvkP5tssrmAQOQ/o4suiuZF5D+rqqpaTEvkP7LJJiuyUOQ/uuii+xdW5D/CBx/MfVvkP8omm5zjYOQ/0UUXbUlm5D/ZZJM9r2vkP+GDDw4VceQ/6aKL3np25D/wwQev4HvkP/jgg39GgeQ/AAAAUKyG5D8IH3wgEozkPxA++PB3keQ/F110wd2W5D8ffPCRQ5zkPyebbGKpoeQ/L7roMg+n5D822WQDdazkPz744NPaseQ/RhddpEC35D9ONtl0przkP1VVVUUMwuQ/XXTRFXLH5D9lk03m18zkP22yybY90uQ/dNFFh6PX5D988MFXCd3kP4QPPihv4uQ/jC66+NTn5D+TTTbJOu3kP5tsspmg8uQ/o4suagb45D+rqqo6bP3kP7LJJgvSAuU/uuii2zcI5T/CBx+snQ3lP8omm3wDE+U/0kUXTWkY5T/ZZJMdzx3lP+GDD+40I+U/6aKLvpoo5T/wwQePAC7lP/jgg19mM+U/AAAAMMw45T8IH3wAMj7lPxA++NCXQ+U/F110of1I5T8ffPBxY07lPyebbELJU+U/L7roEi9Z5T822WTjlF7lPz744LP6Y+U/RhddhGBp5T9ONtlUxm7lP1VVVSUsdOU/XXTR9ZF55T9lk03G937lP22yyZZdhOU/dNFFZ8OJ5T988ME3KY/lP4QPPgiPlOU/jC662PSZ5T+TTTapWp/lP5tssnnApOU/o4suSiaq5T+rqqoajK/lP7LJJuvxtOU/uuiiu1e65T/CBx+Mvb/lP8omm1wjxeU/0kUXLYnK5T/ZZJP97s/lP+GDD85U1eU/6aKLnrra5T/wwQdvIODlP/jggz+G5eU/AAAAEOzq5T8=",
          "dtype": "f8"
         },
         "y": [
          6.152544008276901,
          6.1530355780793835,
          6.152884263622132,
          6.152092156404803,
          6.150661539564587,
          6.148594885674327,
          6.145894854458463,
          6.142564290429131,
          6.138606220444622,
          6.134023851192612,
          6.1288205666004,
          6.1229999251746134,
          6.116565657272719,
          6.109521662308794,
          6.101872005895961,
          6.093620916927975,
          6.084772784602389,
          6.075332155387841,
          6.065303729937871,
          6.054692359953867,
          6.043503044999543,
          6.031740929269552,
          6.01941129831469,
          6.00651957572621,
          5.9930713197817695,
          5.979072220055515,
          5.96452809399479,
          5.9494448834659615,
          5.933828651271836,
          5.917685577643158,
          5.9010219567066216,
          5.883844192931817,
          5.866158797559568,
          5.847972385014037,
          5.829291669300981,
          5.810123460394506,
          5.7904746606146675,
          5.770352260998197,
          5.749763337664671,
          5.728715048180329,
          5.707214627921798,
          5.685269386441859,
          5.662886703839487,
          5.640074027136214,
          5.616838866660946,
          5.593188792445231,
          5.569131430631091,
          5.544674459893267,
          5.519825607877902,
          5.494592647659509,
          5.468983394218131,
          5.443005700938436,
          5.41666745613255,
          5.389976579588372,
          5.362941019145047,
          5.335568747297179,
          5.307867757829461,
          5.279846062483204,
          5.251511687656331,
          5.222872671138198,
          5.19393705888073,
          5.16471290180723,
          5.1352082526600995,
          5.105431162888834,
          5.075389679579465,
          5.04509184242657,
          5.014545680749114,
          4.983759210551013,
          4.952740431627635,
          4.921497324719072,
          4.890037848711137,
          4.858369937885137,
          4.826501499216981,
          4.794440409726627,
          4.762194513878541,
          4.729771621033872,
          4.697179502954975,
          4.664425891362881,
          4.6315184755483285,
          4.5984649000368405,
          4.565272762308263,
          4.5319496105712656,
          4.498502941593149,
          4.464940198585345,
          4.431268769144777,
          4.397495983251528,
          4.363629111322816,
          4.329675362323665,
          4.295641881934186,
          4.26153575077376,
          4.227363982682004,
          4.193133523056666,
          4.158851247248374,
          4.12452395901215,
          4.090158389015628,
          4.055761193403871,
          4.021338952420598,
          3.9868981690855883,
          3.952445267928048,
          3.917986593775805
         ]
        },
        {
         "mode": "lines",
         "name": "12M",
         "type": "scatter",
         "x": {
          "bdata": "AAAAcIzU4z8IH3xA8tnjPxA++BBY3+M/F1104b3k4z8ffPCxI+rjPyebbIKJ7+M/L7roUu/04z822WQjVfrjPz744PO6/+M/RhddxCAF5D9ONtmUhgrkP1VVVWXsD+Q/XXTRNVIV5D9lk00GuBrkP22yydYdIOQ/dNFFp4Ml5D988MF36SrkP4QPPkhPMOQ/jC66GLU15D+TTTbpGjvkP5tssrmAQOQ/o4suiuZF5D+rqqpaTEvkP7LJJiuyUOQ/uuii+xdW5D/CBx/MfVvkP8omm5zjYOQ/0UUXbUlm5D/ZZJM9r2vkP+GDDw4VceQ/6aKL3np25D/wwQev4HvkP/jgg39GgeQ/AAAAUKyG5D8IH3wgEozkPxA++PB3keQ/F110wd2W5D8ffPCRQ5zkPyebbGKpoeQ/L7roMg+n5D822WQDdazkPz744NPaseQ/RhddpEC35D9ONtl0przkP1VVVUUMwuQ/XXTRFXLH5D9lk03m18zkP22yybY90uQ/dNFFh6PX5D988MFXCd3kP4QPPihv4uQ/jC66+NTn5D+TTTbJOu3kP5tsspmg8uQ/o4suagb45D+rqqo6bP3kP7LJJgvSAuU/uuii2zcI5T/CBx+snQ3lP8omm3wDE+U/0kUXTWkY5T/ZZJMdzx3lP+GDD+40I+U/6aKLvpoo5T/wwQePAC7lP/jgg19mM+U/AAAAMMw45T8IH3wAMj7lPxA++NCXQ+U/F110of1I5T8ffPBxY07lPyebbELJU+U/L7roEi9Z5T822WTjlF7lPz744LP6Y+U/RhddhGBp5T9ONtlUxm7lP1VVVSUsdOU/XXTR9ZF55T9lk03G937lP22yyZZdhOU/dNFFZ8OJ5T988ME3KY/lP4QPPgiPlOU/jC662PSZ5T+TTTapWp/lP5tssnnApOU/o4suSiaq5T+rqqoajK/lP7LJJuvxtOU/uuiiu1e65T/CBx+Mvb/lP8omm1wjxeU/0kUXLYnK5T/ZZJP97s/lP+GDD85U1eU/6aKLnrra5T/wwQdvIODlP/jggz+G5eU/AAAAEOzq5T8=",
          "dtype": "f8"
         },
         "y": [
          5.36460585578465,
          5.358339229198666,
          5.351667507221383,
          5.3445935388535135,
          5.33712025187522,
          5.3292506513064035,
          5.320987817850261,
          5.312334906321116,
          5.303295144057379,
          5.2938718293206515,
          5.284068329681818,
          5.273888080395102,
          5.263334582760955,
          5.252411402478757,
          5.2411221679901425,
          5.2294705688139285,
          5.217460353873468,
          5.205095329817397,
          5.192379359334547,
          5.179316359463968,
          5.165910299900887,
          5.152165201299457,
          5.138085133573143,
          5.123674214193549,
          5.1089366064885295,
          5.093876517940407,
          5.078498198485036,
          5.062805938812559,
          5.0468040686706,
          5.030496955170651,
          5.013889001098437,
          4.9969846432289335,
          4.979788350646827,
          4.9623046230730985,
          4.944537989198411,
          4.926493005024026,
          4.908174252210884,
          4.889586336437506,
          4.8707338857674065,
          4.851621549026573,
          4.832253994191683,
          4.812635906789615,
          4.792771988308882,
          4.772666954623517,
          4.7523255344299855,
          4.731752467697634,
          4.710952504133271,
          4.6899304016602885,
          4.668690924912894,
          4.647238843745887,
          4.6255789317604865,
          4.6037159648466055,
          4.5816547197420165,
          4.559399972608863,
          4.536956497627876,
          4.514329065610684,
          4.491522442630597,
          4.468541388672215,
          4.445390656300225,
          4.4220749893476405,
          4.3985991216238665,
          4.374967775642854,
          4.351185661371599,
          4.327257474999289,
          4.303187897727342,
          4.2789815945805,
          4.254643213239334,
          4.2301773828942,
          4.2055887131209895,
          4.180881792778745,
          4.156061188929307,
          4.131131445779267,
          4.106097083644166,
          4.080962597935197,
          4.0557324581684755,
          4.030411106997001,
          4.005002959265313,
          3.9795124010869922,
          3.9539437889450237,
          3.9283014488150867,
          3.9025896753117575,
          3.8768127308576794,
          3.8509748448757075,
          3.825080213004031,
          3.7991329963341762,
          3.7731373206720162,
          3.747097275821556,
          3.72101691489164,
          3.6949002536253435,
          3.668751269752129,
          3.6425739023625567,
          3.6163720513055524,
          3.590149576608109,
          3.5639102979172708,
          3.537657993964317,
          3.5113964020510267,
          3.485129217557885,
          3.4588600934740463,
          3.432592639948908,
          3.406330423865248
         ]
        }
       ],
       "layout": {
        "template": {
         "data": {
          "bar": [
           {
            "error_x": {
             "color": "#2a3f5f"
            },
            "error_y": {
             "color": "#2a3f5f"
            },
            "marker": {
             "line": {
              "color": "white",
              "width": 0.5
             },
             "pattern": {
              "fillmode": "overlay",
              "size": 10,
              "solidity": 0.2
             }
            },
            "type": "bar"
           }
          ],
          "barpolar": [
           {
            "marker": {
             "line": {
              "color": "white",
              "width": 0.5
             },
             "pattern": {
              "fillmode": "overlay",
              "size": 10,
              "solidity": 0.2
             }
            },
            "type": "barpolar"
           }
          ],
          "carpet": [
           {
            "aaxis": {
             "endlinecolor": "#2a3f5f",
             "gridcolor": "#C8D4E3",
             "linecolor": "#C8D4E3",
             "minorgridcolor": "#C8D4E3",
             "startlinecolor": "#2a3f5f"
            },
            "baxis": {
             "endlinecolor": "#2a3f5f",
             "gridcolor": "#C8D4E3",
             "linecolor": "#C8D4E3",
             "minorgridcolor": "#C8D4E3",
             "startlinecolor": "#2a3f5f"
            },
            "type": "carpet"
           }
          ],
          "choropleth": [
           {
            "colorbar": {
             "outlinewidth": 0,
             "ticks": ""
            },
            "type": "choropleth"
           }
          ],
          "contour": [
           {
            "colorbar": {
             "outlinewidth": 0,
             "ticks": ""
            },
            "colorscale": [
             [
              0,
              "#0d0887"
             ],
             [
              0.1111111111111111,
              "#46039f"
             ],
             [
              0.2222222222222222,
              "#7201a8"
             ],
             [
              0.3333333333333333,
              "#9c179e"
             ],
             [
              0.4444444444444444,
              "#bd3786"
             ],
             [
              0.5555555555555556,
              "#d8576b"
             ],
             [
              0.6666666666666666,
              "#ed7953"
             ],
             [
              0.7777777777777778,
              "#fb9f3a"
             ],
             [
              0.8888888888888888,
              "#fdca26"
             ],
             [
              1,
              "#f0f921"
             ]
            ],
            "type": "contour"
           }
          ],
          "contourcarpet": [
           {
            "colorbar": {
             "outlinewidth": 0,
             "ticks": ""
            },
            "type": "contourcarpet"
           }
          ],
          "heatmap": [
           {
            "colorbar": {
             "outlinewidth": 0,
             "ticks": ""
            },
            "colorscale": [
             [
              0,
              "#0d0887"
             ],
             [
              0.1111111111111111,
              "#46039f"
             ],
             [
              0.2222222222222222,
              "#7201a8"
             ],
             [
              0.3333333333333333,
              "#9c179e"
             ],
             [
              0.4444444444444444,
              "#bd3786"
             ],
             [
              0.5555555555555556,
              "#d8576b"
             ],
             [
              0.6666666666666666,
              "#ed7953"
             ],
             [
              0.7777777777777778,
              "#fb9f3a"
             ],
             [
              0.8888888888888888,
              "#fdca26"
             ],
             [
              1,
              "#f0f921"
             ]
            ],
            "type": "heatmap"
           }
          ],
          "histogram": [
           {
            "marker": {
             "pattern": {
              "fillmode": "overlay",
              "size": 10,
              "solidity": 0.2
             }
            },
            "type": "histogram"
           }
          ],
          "histogram2d": [
           {
            "colorbar": {
             "outlinewidth": 0,
             "ticks": ""
            },
            "colorscale": [
             [
              0,
              "#0d0887"
             ],
             [
              0.1111111111111111,
              "#46039f"
             ],
             [
              0.2222222222222222,
              "#7201a8"
             ],
             [
              0.3333333333333333,
              "#9c179e"
             ],
             [
              0.4444444444444444,
              "#bd3786"
             ],
             [
              0.5555555555555556,
              "#d8576b"
             ],
             [
              0.6666666666666666,
              "#ed7953"
             ],
             [
              0.7777777777777778,
              "#fb9f3a"
             ],
             [
              0.8888888888888888,
              "#fdca26"
             ],
             [
              1,
              "#f0f921"
             ]
            ],
            "type": "histogram2d"
           }
          ],
          "histogram2dcontour": [
           {
            "colorbar": {
             "outlinewidth": 0,
             "ticks": ""
            },
            "colorscale": [
             [
              0,
              "#0d0887"
             ],
             [
              0.1111111111111111,
              "#46039f"
             ],
             [
              0.2222222222222222,
              "#7201a8"
             ],
             [
              0.3333333333333333,
              "#9c179e"
             ],
             [
              0.4444444444444444,
              "#bd3786"
             ],
             [
              0.5555555555555556,
              "#d8576b"
             ],
             [
              0.6666666666666666,
              "#ed7953"
             ],
             [
              0.7777777777777778,
              "#fb9f3a"
             ],
             [
              0.8888888888888888,
              "#fdca26"
             ],
             [
              1,
              "#f0f921"
             ]
            ],
            "type": "histogram2dcontour"
           }
          ],
          "mesh3d": [
           {
            "colorbar": {
             "outlinewidth": 0,
             "ticks": ""
            },
            "type": "mesh3d"
           }
          ],
          "parcoords": [
           {
            "line": {
             "colorbar": {
              "outlinewidth": 0,
              "ticks": ""
             }
            },
            "type": "parcoords"
           }
          ],
          "pie": [
           {
            "automargin": true,
            "type": "pie"
           }
          ],
          "scatter": [
           {
            "fillpattern": {
             "fillmode": "overlay",
             "size": 10,
             "solidity": 0.2
            },
            "type": "scatter"
           }
          ],
          "scatter3d": [
           {
            "line": {
             "colorbar": {
              "outlinewidth": 0,
              "ticks": ""
             }
            },
            "marker": {
             "colorbar": {
              "outlinewidth": 0,
              "ticks": ""
             }
            },
            "type": "scatter3d"
           }
          ],
          "scattercarpet": [
           {
            "marker": {
             "colorbar": {
              "outlinewidth": 0,
              "ticks": ""
             }
            },
            "type": "scattercarpet"
           }
          ],
          "scattergeo": [
           {
            "marker": {
             "colorbar": {
              "outlinewidth": 0,
              "ticks": ""
             }
            },
            "type": "scattergeo"
           }
          ],
          "scattergl": [
           {
            "marker": {
             "colorbar": {
              "outlinewidth": 0,
              "ticks": ""
             }
            },
            "type": "scattergl"
           }
          ],
          "scattermap": [
           {
            "marker": {
             "colorbar": {
              "outlinewidth": 0,
              "ticks": ""
             }
            },
            "type": "scattermap"
           }
          ],
          "scattermapbox": [
           {
            "marker": {
             "colorbar": {
              "outlinewidth": 0,
              "ticks": ""
             }
            },
            "type": "scattermapbox"
           }
          ],
          "scatterpolar": [
           {
            "marker": {
             "colorbar": {
              "outlinewidth": 0,
              "ticks": ""
             }
            },
            "type": "scatterpolar"
           }
          ],
          "scatterpolargl": [
           {
            "marker": {
             "colorbar": {
              "outlinewidth": 0,
              "ticks": ""
             }
            },
            "type": "scatterpolargl"
           }
          ],
          "scatterternary": [
           {
            "marker": {
             "colorbar": {
              "outlinewidth": 0,
              "ticks": ""
             }
            },
            "type": "scatterternary"
           }
          ],
          "surface": [
           {
            "colorbar": {
             "outlinewidth": 0,
             "ticks": ""
            },
            "colorscale": [
             [
              0,
              "#0d0887"
             ],
             [
              0.1111111111111111,
              "#46039f"
             ],
             [
              0.2222222222222222,
              "#7201a8"
             ],
             [
              0.3333333333333333,
              "#9c179e"
             ],
             [
              0.4444444444444444,
              "#bd3786"
             ],
             [
              0.5555555555555556,
              "#d8576b"
             ],
             [
              0.6666666666666666,
              "#ed7953"
             ],
             [
              0.7777777777777778,
              "#fb9f3a"
             ],
             [
              0.8888888888888888,
              "#fdca26"
             ],
             [
              1,
              "#f0f921"
             ]
            ],
            "type": "surface"
           }
          ],
          "table": [
           {
            "cells": {
             "fill": {
              "color": "#EBF0F8"
             },
             "line": {
              "color": "white"
             }
            },
            "header": {
             "fill": {
              "color": "#C8D4E3"
             },
             "line": {
              "color": "white"
             }
            },
            "type": "table"
           }
          ]
         },
         "layout": {
          "annotationdefaults": {
           "arrowcolor": "#2a3f5f",
           "arrowhead": 0,
           "arrowwidth": 1
          },
          "autotypenumbers": "strict",
          "coloraxis": {
           "colorbar": {
            "outlinewidth": 0,
            "ticks": ""
           }
          },
          "colorscale": {
           "diverging": [
            [
             0,
             "#8e0152"
            ],
            [
             0.1,
             "#c51b7d"
            ],
            [
             0.2,
             "#de77ae"
            ],
            [
             0.3,
             "#f1b6da"
            ],
            [
             0.4,
             "#fde0ef"
            ],
            [
             0.5,
             "#f7f7f7"
            ],
            [
             0.6,
             "#e6f5d0"
            ],
            [
             0.7,
             "#b8e186"
            ],
            [
             0.8,
             "#7fbc41"
            ],
            [
             0.9,
             "#4d9221"
            ],
            [
             1,
             "#276419"
            ]
           ],
           "sequential": [
            [
             0,
             "#0d0887"
            ],
            [
             0.1111111111111111,
             "#46039f"
            ],
            [
             0.2222222222222222,
             "#7201a8"
            ],
            [
             0.3333333333333333,
             "#9c179e"
            ],
            [
             0.4444444444444444,
             "#bd3786"
            ],
            [
             0.5555555555555556,
             "#d8576b"
            ],
            [
             0.6666666666666666,
             "#ed7953"
            ],
            [
             0.7777777777777778,
             "#fb9f3a"
            ],
            [
             0.8888888888888888,
             "#fdca26"
            ],
            [
             1,
             "#f0f921"
            ]
           ],
           "sequentialminus": [
            [
             0,
             "#0d0887"
            ],
            [
             0.1111111111111111,
             "#46039f"
            ],
            [
             0.2222222222222222,
             "#7201a8"
            ],
            [
             0.3333333333333333,
             "#9c179e"
            ],
            [
             0.4444444444444444,
             "#bd3786"
            ],
            [
             0.5555555555555556,
             "#d8576b"
            ],
            [
             0.6666666666666666,
             "#ed7953"
            ],
            [
             0.7777777777777778,
             "#fb9f3a"
            ],
            [
             0.8888888888888888,
             "#fdca26"
            ],
            [
             1,
             "#f0f921"
            ]
           ]
          },
          "colorway": [
           "#636efa",
           "#EF553B",
           "#00cc96",
           "#ab63fa",
           "#FFA15A",
           "#19d3f3",
           "#FF6692",
           "#B6E880",
           "#FF97FF",
           "#FECB52"
          ],
          "font": {
           "color": "#2a3f5f"
          },
          "geo": {
           "bgcolor": "white",
           "lakecolor": "white",
           "landcolor": "white",
           "showlakes": true,
           "showland": true,
           "subunitcolor": "#C8D4E3"
          },
          "hoverlabel": {
           "align": "left"
          },
          "hovermode": "closest",
          "mapbox": {
           "style": "light"
          },
          "paper_bgcolor": "white",
          "plot_bgcolor": "white",
          "polar": {
           "angularaxis": {
            "gridcolor": "#EBF0F8",
            "linecolor": "#EBF0F8",
            "ticks": ""
           },
           "bgcolor": "white",
           "radialaxis": {
            "gridcolor": "#EBF0F8",
            "linecolor": "#EBF0F8",
            "ticks": ""
           }
          },
          "scene": {
           "xaxis": {
            "backgroundcolor": "white",
            "gridcolor": "#DFE8F3",
            "gridwidth": 2,
            "linecolor": "#EBF0F8",
            "showbackground": true,
            "ticks": "",
            "zerolinecolor": "#EBF0F8"
           },
           "yaxis": {
            "backgroundcolor": "white",
            "gridcolor": "#DFE8F3",
            "gridwidth": 2,
            "linecolor": "#EBF0F8",
            "showbackground": true,
            "ticks": "",
            "zerolinecolor": "#EBF0F8"
           },
           "zaxis": {
            "backgroundcolor": "white",
            "gridcolor": "#DFE8F3",
            "gridwidth": 2,
            "linecolor": "#EBF0F8",
            "showbackground": true,
            "ticks": "",
            "zerolinecolor": "#EBF0F8"
           }
          },
          "shapedefaults": {
           "line": {
            "color": "#2a3f5f"
           }
          },
          "ternary": {
           "aaxis": {
            "gridcolor": "#DFE8F3",
            "linecolor": "#A2B1C6",
            "ticks": ""
           },
           "baxis": {
            "gridcolor": "#DFE8F3",
            "linecolor": "#A2B1C6",
            "ticks": ""
           },
           "bgcolor": "white",
           "caxis": {
            "gridcolor": "#DFE8F3",
            "linecolor": "#A2B1C6",
            "ticks": ""
           }
          },
          "title": {
           "x": 0.05
          },
          "xaxis": {
           "automargin": true,
           "gridcolor": "#EBF0F8",
           "linecolor": "#EBF0F8",
           "ticks": "",
           "title": {
            "standoff": 15
           },
           "zerolinecolor": "#EBF0F8",
           "zerolinewidth": 2
          },
          "yaxis": {
           "automargin": true,
           "gridcolor": "#EBF0F8",
           "linecolor": "#EBF0F8",
           "ticks": "",
           "title": {
            "standoff": 15
           },
           "zerolinecolor": "#EBF0F8",
           "zerolinewidth": 2
          }
         }
        },
        "title": {
         "font": {
          "family": "Arial Black",
          "size": 20
         },
         "text": "Gamma vs Spot Price (AUD/USD)",
         "x": 0.5,
         "xanchor": "center"
        },
        "xaxis": {
         "title": {
          "text": "Spot Price"
         }
        },
        "yaxis": {
         "title": {
          "text": "Gamma"
         }
        }
       }
      }
     },
     "metadata": {},
     "output_type": "display_data"
    }
   ],
   "source": [
    "fig = go.Figure()\n",
    "\n",
    "for label, tau in d.items():\n",
    "    gammas = []\n",
    "    for s in x:\n",
    "        opt = BS(s, strike, rate, tau, vol)\n",
    "        gammas.append(opt.gamma)\n",
    "\n",
    "    fig.add_trace(go.Scatter(\n",
    "        x=x,\n",
    "        y=gammas,\n",
    "        mode='lines',\n",
    "        name=f\"{label}\"\n",
    "    ))\n",
    "\n",
    "fig.update_layout(\n",
    "    title=dict(\n",
    "        text='Gamma vs Spot Price (AUD/USD)',\n",
    "        x=0.5,\n",
    "        xanchor='center',\n",
    "        font=dict(size=20, family='Arial Black')\n",
    "    ),\n",
    "    xaxis_title=\"Spot Price\",\n",
    "    yaxis_title=\"Gamma\",\n",
    "    template=\"plotly_white\"\n",
    ")\n",
    "\n",
    "fig.show()"
   ]
  },
  {
   "cell_type": "markdown",
   "metadata": {},
   "source": [
    "#### 3) Vega vs. Spot"
   ]
  },
  {
   "cell_type": "code",
   "execution_count": 12,
   "metadata": {},
   "outputs": [
    {
     "data": {
      "application/vnd.plotly.v1+json": {
       "config": {
        "plotlyServerURL": "https://plot.ly"
       },
       "data": [
        {
         "mode": "lines",
         "name": "1D",
         "type": "scatter",
         "x": {
          "bdata": "AAAAcIzU4z8IH3xA8tnjPxA++BBY3+M/F1104b3k4z8ffPCxI+rjPyebbIKJ7+M/L7roUu/04z822WQjVfrjPz744PO6/+M/RhddxCAF5D9ONtmUhgrkP1VVVWXsD+Q/XXTRNVIV5D9lk00GuBrkP22yydYdIOQ/dNFFp4Ml5D988MF36SrkP4QPPkhPMOQ/jC66GLU15D+TTTbpGjvkP5tssrmAQOQ/o4suiuZF5D+rqqpaTEvkP7LJJiuyUOQ/uuii+xdW5D/CBx/MfVvkP8omm5zjYOQ/0UUXbUlm5D/ZZJM9r2vkP+GDDw4VceQ/6aKL3np25D/wwQev4HvkP/jgg39GgeQ/AAAAUKyG5D8IH3wgEozkPxA++PB3keQ/F110wd2W5D8ffPCRQ5zkPyebbGKpoeQ/L7roMg+n5D822WQDdazkPz744NPaseQ/RhddpEC35D9ONtl0przkP1VVVUUMwuQ/XXTRFXLH5D9lk03m18zkP22yybY90uQ/dNFFh6PX5D988MFXCd3kP4QPPihv4uQ/jC66+NTn5D+TTTbJOu3kP5tsspmg8uQ/o4suagb45D+rqqo6bP3kP7LJJgvSAuU/uuii2zcI5T/CBx+snQ3lP8omm3wDE+U/0kUXTWkY5T/ZZJMdzx3lP+GDD+40I+U/6aKLvpoo5T/wwQePAC7lP/jgg19mM+U/AAAAMMw45T8IH3wAMj7lPxA++NCXQ+U/F110of1I5T8ffPBxY07lPyebbELJU+U/L7roEi9Z5T822WTjlF7lPz744LP6Y+U/RhddhGBp5T9ONtlUxm7lP1VVVSUsdOU/XXTR9ZF55T9lk03G937lP22yyZZdhOU/dNFFZ8OJ5T988ME3KY/lP4QPPgiPlOU/jC662PSZ5T+TTTapWp/lP5tssnnApOU/o4suSiaq5T+rqqoajK/lP7LJJuvxtOU/uuiiu1e65T/CBx+Mvb/lP8omm1wjxeU/0kUXLYnK5T/ZZJP97s/lP+GDD85U1eU/6aKLnrra5T/wwQdvIODlP/jggz+G5eU/AAAAEOzq5T8=",
          "dtype": "f8"
         },
         "y": [
          1.8835087704657283e-14,
          4.827741804674041e-14,
          1.2120403000990428e-13,
          2.9806768840779456e-13,
          7.180680805981847e-13,
          1.6947170094566153e-12,
          3.9186588073426746e-12,
          8.877979902099788e-12,
          1.9708562324221014e-11,
          4.287334286069422e-11,
          9.139844155478732e-11,
          1.9095744607953734e-10,
          3.9102811597996927e-10,
          7.848380807348875e-10,
          1.5441157464493507e-09,
          2.9780655024277458e-09,
          5.630799359144656e-09,
          1.0437920219959767e-08,
          1.8971104093769318e-08,
          3.380900988564596e-08,
          5.908264190267268e-08,
          1.0125145364168662e-07,
          1.7016989483686348e-07,
          2.8049840432751777e-07,
          4.534926573328505e-07,
          7.191644727880434e-07,
          1.1187423874045426e-06,
          1.707267486527775e-06,
          2.5560436278106276e-06,
          3.7545308963130287e-06,
          5.4111459200323375e-06,
          7.652340228705764e-06,
          1.0619302268073487e-05,
          1.4461705415047841e-05,
          1.932813230681491e-05,
          2.535315790209986e-05,
          3.264155747406304e-05,
          4.1250676831698726e-05,
          5.11725832736541e-05,
          6.231810382861008e-05,
          7.450513808205276e-05,
          8.745360337255136e-05,
          0.00010078896372749097,
          0.00011405550284421907,
          0.0001267393905555515,
          0.00013830029870044307,
          0.0001482090388407505,
          0.00015598763729852874,
          0.0001612476316440126,
          0.00016372230695386067,
          0.00016328913788713582,
          0.00015997980476937723,
          0.00015397664899984042,
          0.00014559609366449004,
          0.00013526111928535052,
          0.00012346611322495415,
          0.00011073813063592074,
          9.759873576124212e-05,
          8.453015894903094e-05,
          7.194862207950791e-05,
          6.0186530248535864e-05,
          4.948400123649007e-05,
          3.998909261760224e-05,
          3.176523034952301e-05,
          2.4803820772090395e-05,
          1.903985305512054e-05,
          1.436842835065169e-05,
          1.0660504580408436e-05,
          7.776624839619032e-06,
          5.577908942511363e-06,
          3.93405556474903e-06,
          2.7284763195017103e-06,
          1.8609395737520532e-06,
          1.248240909131237e-06,
          8.234556349409824e-07,
          5.342926146479782e-07,
          3.409861564216012e-07,
          2.1405939689427479e-07,
          1.3218832694937704e-07,
          8.0303482802992e-08,
          4.799314997153605e-08,
          2.821946549980095e-08,
          1.6325404327954093e-08,
          9.292779822499283e-09,
          5.204927882523159e-09,
          2.8687447492332007e-09,
          1.555958114673229e-09,
          8.305261364305294e-10,
          4.362934034925787e-10,
          2.2557677758414022e-10,
          1.1479445603367937e-10,
          5.7501415741661955e-11,
          2.835224792647264e-11,
          1.3761569359991536e-11,
          6.57567030273112e-12,
          3.0933119712778175e-12,
          1.4326463365879694e-12,
          6.532895723617285e-13,
          2.9332138821098456e-13,
          1.2967992532175308e-13
         ]
        },
        {
         "mode": "lines",
         "name": "3M",
         "type": "scatter",
         "x": {
          "bdata": "AAAAcIzU4z8IH3xA8tnjPxA++BBY3+M/F1104b3k4z8ffPCxI+rjPyebbIKJ7+M/L7roUu/04z822WQjVfrjPz744PO6/+M/RhddxCAF5D9ONtmUhgrkP1VVVWXsD+Q/XXTRNVIV5D9lk00GuBrkP22yydYdIOQ/dNFFp4Ml5D988MF36SrkP4QPPkhPMOQ/jC66GLU15D+TTTbpGjvkP5tssrmAQOQ/o4suiuZF5D+rqqpaTEvkP7LJJiuyUOQ/uuii+xdW5D/CBx/MfVvkP8omm5zjYOQ/0UUXbUlm5D/ZZJM9r2vkP+GDDw4VceQ/6aKL3np25D/wwQev4HvkP/jgg39GgeQ/AAAAUKyG5D8IH3wgEozkPxA++PB3keQ/F110wd2W5D8ffPCRQ5zkPyebbGKpoeQ/L7roMg+n5D822WQDdazkPz744NPaseQ/RhddpEC35D9ONtl0przkP1VVVUUMwuQ/XXTRFXLH5D9lk03m18zkP22yybY90uQ/dNFFh6PX5D988MFXCd3kP4QPPihv4uQ/jC66+NTn5D+TTTbJOu3kP5tsspmg8uQ/o4suagb45D+rqqo6bP3kP7LJJgvSAuU/uuii2zcI5T/CBx+snQ3lP8omm3wDE+U/0kUXTWkY5T/ZZJMdzx3lP+GDD+40I+U/6aKLvpoo5T/wwQePAC7lP/jgg19mM+U/AAAAMMw45T8IH3wAMj7lPxA++NCXQ+U/F110of1I5T8ffPBxY07lPyebbELJU+U/L7roEi9Z5T822WTjlF7lPz744LP6Y+U/RhddhGBp5T9ONtlUxm7lP1VVVSUsdOU/XXTR9ZF55T9lk03G937lP22yyZZdhOU/dNFFZ8OJ5T988ME3KY/lP4QPPgiPlOU/jC662PSZ5T+TTTapWp/lP5tssnnApOU/o4suSiaq5T+rqqoajK/lP7LJJuvxtOU/uuiiu1e65T/CBx+Mvb/lP8omm1wjxeU/0kUXLYnK5T/ZZJP97s/lP+GDD85U1eU/6aKLnrra5T/wwQdvIODlP/jggz+G5eU/AAAAEOzq5T8=",
          "dtype": "f8"
         },
         "y": [
          0.00100888024237079,
          0.0010212589123747393,
          0.0010334523503407382,
          0.0010454514149426484,
          0.0010572470810566016,
          0.001068830451500006,
          0.001080192768613859,
          0.0010913254256666516,
          0.0011022199780585911,
          0.0011128681543052274,
          0.0011232618667801543,
          0.0011333932221969053,
          0.0011432545318108113,
          0.0011528383213221603,
          0.0011621373404627432,
          0.0011711445722485073,
          0.0011798532418818538,
          0.0011882568252878601,
          0.0011963490572695775,
          0.0012041239392683706,
          0.0012115757467161786,
          0.0012186990359674729,
          0.0012254886507996458,
          0.001231939728471497,
          0.0012380477053304992,
          0.0012438083219604573,
          0.0012492176278622667,
          0.0012542719856614122,
          0.0012589680748369312,
          0.0012633028949675556,
          0.0012672737684918118,
          0.0012708783429798635,
          0.0012741145929159163,
          0.0012769808209910272,
          0.0012794756589071742,
          0.0012815980676944322,
          0.0012833473375440981,
          0.0012847230871615685,
          0.0012857252626437307,
          0.0012863541358865483,
          0.0012866103025294426,
          0.0012864946794439317,
          0.0012860085017748592,
          0.0012851533195433612,
          0.001283930993821507,
          0.0012823436924893179,
          0.0012803938855855943,
          0.0012780843402646527,
          0.001275418115371757,
          0.0012723985556506124,
          0.0012690292855968887,
          0.0012653142029722655,
          0.0012612574719939754,
          0.0012568635162153044,
          0.0012521370111128914,
          0.0012470828763970433,
          0.0012417062680616184,
          0.001236012570190316,
          0.001230007386536435,
          0.0012236965318933727,
          0.0012170860232732885,
          0.001210182070911497,
          0.0012029910691141634,
          0.0011955195869669845,
          0.0011877743589224843,
          0.0011797622752834896,
          0.001171490372600337,
          0.001162965823999137,
          0.001154195929458373,
          0.001145188106050811,
          0.0011359498781675248,
          0.0011264888677406171,
          0.0011168127844807967,
          0.0011069294161457697,
          0.0010968466188550127,
          0.0010865723074660826,
          0.0010761144460272392,
          0.0010654810383207284,
          0.0010546801185106179,
          0.0010437197419086034,
          0.001032607975870684,
          0.0010213528908371362,
          0.0010099625515276756,
          0.0009984450083031456,
          0.000986808288704488,
          0.0009750603891792904,
          0.0009632092670054748,
          0.0009512628324212802,
          0.0009392289409699388,
          0.0009271153860670114,
          0.0009149298917975981,
          0.0009026801059501821,
          0.0008903735932931769,
          0.0008780178290996735,
          0.0008656201929253031,
          0.0008531879626435569,
          0.0008407283087422837,
          0.0008282482888845237,
          0.0008157548427362649,
          0.0008032547870632288
         ]
        },
        {
         "mode": "lines",
         "name": "6M",
         "type": "scatter",
         "x": {
          "bdata": "AAAAcIzU4z8IH3xA8tnjPxA++BBY3+M/F1104b3k4z8ffPCxI+rjPyebbIKJ7+M/L7roUu/04z822WQjVfrjPz744PO6/+M/RhddxCAF5D9ONtmUhgrkP1VVVWXsD+Q/XXTRNVIV5D9lk00GuBrkP22yydYdIOQ/dNFFp4Ml5D988MF36SrkP4QPPkhPMOQ/jC66GLU15D+TTTbpGjvkP5tssrmAQOQ/o4suiuZF5D+rqqpaTEvkP7LJJiuyUOQ/uuii+xdW5D/CBx/MfVvkP8omm5zjYOQ/0UUXbUlm5D/ZZJM9r2vkP+GDDw4VceQ/6aKL3np25D/wwQev4HvkP/jgg39GgeQ/AAAAUKyG5D8IH3wgEozkPxA++PB3keQ/F110wd2W5D8ffPCRQ5zkPyebbGKpoeQ/L7roMg+n5D822WQDdazkPz744NPaseQ/RhddpEC35D9ONtl0przkP1VVVUUMwuQ/XXTRFXLH5D9lk03m18zkP22yybY90uQ/dNFFh6PX5D988MFXCd3kP4QPPihv4uQ/jC66+NTn5D+TTTbJOu3kP5tsspmg8uQ/o4suagb45D+rqqo6bP3kP7LJJgvSAuU/uuii2zcI5T/CBx+snQ3lP8omm3wDE+U/0kUXTWkY5T/ZZJMdzx3lP+GDD+40I+U/6aKLvpoo5T/wwQePAC7lP/jgg19mM+U/AAAAMMw45T8IH3wAMj7lPxA++NCXQ+U/F110of1I5T8ffPBxY07lPyebbELJU+U/L7roEi9Z5T822WTjlF7lPz744LP6Y+U/RhddhGBp5T9ONtlUxm7lP1VVVSUsdOU/XXTR9ZF55T9lk03G937lP22yyZZdhOU/dNFFZ8OJ5T988ME3KY/lP4QPPgiPlOU/jC662PSZ5T+TTTapWp/lP5tssnnApOU/o4suSiaq5T+rqqoajK/lP7LJJuvxtOU/uuiiu1e65T/CBx+Mvb/lP8omm1wjxeU/0kUXLYnK5T/ZZJP97s/lP+GDD85U1eU/6aKLnrra5T/wwQdvIODlP/jggz+G5eU/AAAAEOzq5T8=",
          "dtype": "f8"
         },
         "y": [
          0.0016727516846875951,
          0.0016806367130898386,
          0.0016882860710700032,
          0.001695697070981923,
          0.0017028671367629615,
          0.0017097938053121605,
          0.0017164747277756678,
          0.001722907670738719,
          0.0017290905173235893,
          0.001735021268192998,
          0.0017406980424585997,
          0.0017461190784942599,
          0.0017512827346539538,
          0.0017561874898941938,
          0.0017608319443010395,
          0.0017652148195218063,
          0.0017693349591017115,
          0.0017731913287257932,
          0.001776783016366533,
          0.0017801092323377165,
          0.0017831693092551545,
          0.0017859627019049804,
          0.0017884889870203478,
          0.001790747862967414,
          0.001792739149341617,
          0.001794462786475301,
          0.0017959188348578695,
          0.0017971074744696945,
          0.0017980290040310984,
          0.0017986838401678187,
          0.0017990725164944048,
          0.0017991956826171078,
          0.0017990541030578496,
          0.0017986486561009712,
          0.0017979803325644716,
          0.0017970502344975558,
          0.0017958595738063318,
          0.0017944096708095746,
          0.0017927019527265115,
          0.0017907379520986377,
          0.0017885193051476226,
          0.0017860477500713887,
          0.001783325125280513,
          0.0017803533675771108,
          0.001777134510278417,
          0.001773670681287281,
          0.0017699641011118669,
          0.0017660170808368085,
          0.0017618320200481566,
          0.0017574114047144214,
          0.001752757805026067,
          0.001747873873195796,
          0.0017427623412219892,
          0.001737426018617674,
          0.0017318677901073895,
          0.00172609061329431,
          0.0017200975163000102,
          0.001713891595379228,
          0.0017074760125119952,
          0.0017008539929754631,
          0.001694028822897764,
          0.0016870038467962575,
          0.0016797824651024105,
          0.001672368131675637,
          0.0016647643513083546,
          0.0016569746772244535,
          0.0016490027085734505,
          0.0016408520879224466,
          0.0016325264987480947,
          0.0016240296629306521,
          0.0016153653382522096,
          0.001606537315901189,
          0.0015975494179850504,
          0.0015884054950532195,
          0.001579109423632168,
          0.0015696651037745226,
          0.001560076456624038,
          0.0015503474219982422,
          0.0015404819559905133,
          0.0015304840285932843,
          0.001520357621344022,
          0.0015101067249955924,
          0.0014997353372125872,
          0.0014892474602950971,
          0.0014786470989313677,
          0.0014679382579807934,
          0.0014571249402885276,
          0.0014462111445330687,
          0.0014352008631079972,
          0.001424098080039119,
          0.0014129067689380727,
          0.0014016308909935347,
          0.0013902743930010173,
          0.0013788412054322229,
          0.0013673352405448654,
          0.0013557603905338328,
          0.001344120525724475,
          0.001332419492808766,
          0.0013206611131250084,
          0.0013088491809818018
         ]
        },
        {
         "mode": "lines",
         "name": "9M",
         "type": "scatter",
         "x": {
          "bdata": "AAAAcIzU4z8IH3xA8tnjPxA++BBY3+M/F1104b3k4z8ffPCxI+rjPyebbIKJ7+M/L7roUu/04z822WQjVfrjPz744PO6/+M/RhddxCAF5D9ONtmUhgrkP1VVVWXsD+Q/XXTRNVIV5D9lk00GuBrkP22yydYdIOQ/dNFFp4Ml5D988MF36SrkP4QPPkhPMOQ/jC66GLU15D+TTTbpGjvkP5tssrmAQOQ/o4suiuZF5D+rqqpaTEvkP7LJJiuyUOQ/uuii+xdW5D/CBx/MfVvkP8omm5zjYOQ/0UUXbUlm5D/ZZJM9r2vkP+GDDw4VceQ/6aKL3np25D/wwQev4HvkP/jgg39GgeQ/AAAAUKyG5D8IH3wgEozkPxA++PB3keQ/F110wd2W5D8ffPCRQ5zkPyebbGKpoeQ/L7roMg+n5D822WQDdazkPz744NPaseQ/RhddpEC35D9ONtl0przkP1VVVUUMwuQ/XXTRFXLH5D9lk03m18zkP22yybY90uQ/dNFFh6PX5D988MFXCd3kP4QPPihv4uQ/jC66+NTn5D+TTTbJOu3kP5tsspmg8uQ/o4suagb45D+rqqo6bP3kP7LJJgvSAuU/uuii2zcI5T/CBx+snQ3lP8omm3wDE+U/0kUXTWkY5T/ZZJMdzx3lP+GDD+40I+U/6aKLvpoo5T/wwQePAC7lP/jgg19mM+U/AAAAMMw45T8IH3wAMj7lPxA++NCXQ+U/F110of1I5T8ffPBxY07lPyebbELJU+U/L7roEi9Z5T822WTjlF7lPz744LP6Y+U/RhddhGBp5T9ONtlUxm7lP1VVVSUsdOU/XXTR9ZF55T9lk03G937lP22yyZZdhOU/dNFFZ8OJ5T988ME3KY/lP4QPPgiPlOU/jC662PSZ5T+TTTapWp/lP5tssnnApOU/o4suSiaq5T+rqqoajK/lP7LJJuvxtOU/uuiiu1e65T/CBx+Mvb/lP8omm1wjxeU/0kUXLYnK5T/ZZJP97s/lP+GDD85U1eU/6aKLnrra5T/wwQdvIODlP/jggz+G5eU/AAAAEOzq5T8=",
          "dtype": "f8"
         },
         "y": [
          0.0021264464221690824,
          0.0021311410331499533,
          0.0021356180357882614,
          0.0021398767374467753,
          0.0021439165154440464,
          0.002147736817009224,
          0.002151337159200604,
          0.0021547171287882366,
          0.002157876382100939,
          0.00216081464483809,
          0.0021635317118466084,
          0.0021660274468635198,
          0.0021683017822245686,
          0.0021703547185393133,
          0.002172186324333209,
          0.0021737967356571506,
          0.0021751861556650177,
          0.0021763548541597366,
          0.0021773031671084267,
          0.002178031496127194,
          0.0021785403079361567,
          0.0021788301337853045,
          0.002178901568851811,
          0.002178755271609425,
          0.002178391963170578,
          0.0021778124266018774,
          0.0021770175062136373,
          0.0021760081068241365,
          0.002174785192999285,
          0.0021733497882684017,
          0.0021717029743168123,
          0.0021698458901559777,
          0.0021677797312718854,
          0.0021655057487524254,
          0.002163025248394496,
          0.0021603395897915804,
          0.002157450185402537,
          0.0021543584996023615,
          0.00215106604771568,
          0.002147574395033719,
          0.0021438851558155314,
          0.002139999992274224,
          0.0021359206135489646,
          0.002131648774663528,
          0.002127186275472145,
          0.002122534959593413,
          0.00211769671333305,
          0.0021126734645962237,
          0.0021074671817902417,
          0.002102079872718333,
          0.002096513583465297,
          0.0020907703972757475,
          0.002084852433425696,
          0.002078761846088226,
          0.002072500823193978,
          0.002066071585287169,
          0.002059476384377866,
          0.0020527175027912404,
          0.0020457972520144824,
          0.002038717971542094,
          0.002031482027720217,
          0.0020240918125907295,
          0.0020165497427357105,
          0.002008858258122988,
          0.0020010198209534026,
          0.001993036914510402,
          0.0019849120420126465,
          0.0019766477254701824,
          0.0019682465045448507,
          0.001959710935415479,
          0.0019510435896484429,
          0.0019422470530742288,
          0.001933323924670464,
          0.0019242768154520216,
          0.001915108347368727,
          0.0019058211522111745,
          0.00189641787052516,
          0.0018869011505352248,
          0.001877273647077809,
          0.0018675380205444637,
          0.001857696935835571,
          0.0018477530613250207,
          0.001837709067836275,
          0.0018275676276302306,
          0.0018173314134052434,
          0.0018070030973097641,
          0.0017965853499678796,
          0.0017860808395181818,
          0.0017754922306662437,
          0.0017648221837510936,
          0.0017540733538259261,
          0.0017432483897534179,
          0.00173234993331589,
          0.0017213806183405925,
          0.0017103430698403674,
          0.0016992399031699474,
          0.0016880737231981038,
          0.0016768471234958498,
          0.0016655626855408925,
          0.0016542229779385861
         ]
        },
        {
         "mode": "lines",
         "name": "12M",
         "type": "scatter",
         "x": {
          "bdata": "AAAAcIzU4z8IH3xA8tnjPxA++BBY3+M/F1104b3k4z8ffPCxI+rjPyebbIKJ7+M/L7roUu/04z822WQjVfrjPz744PO6/+M/RhddxCAF5D9ONtmUhgrkP1VVVWXsD+Q/XXTRNVIV5D9lk00GuBrkP22yydYdIOQ/dNFFp4Ml5D988MF36SrkP4QPPkhPMOQ/jC66GLU15D+TTTbpGjvkP5tssrmAQOQ/o4suiuZF5D+rqqpaTEvkP7LJJiuyUOQ/uuii+xdW5D/CBx/MfVvkP8omm5zjYOQ/0UUXbUlm5D/ZZJM9r2vkP+GDDw4VceQ/6aKL3np25D/wwQev4HvkP/jgg39GgeQ/AAAAUKyG5D8IH3wgEozkPxA++PB3keQ/F110wd2W5D8ffPCRQ5zkPyebbGKpoeQ/L7roMg+n5D822WQDdazkPz744NPaseQ/RhddpEC35D9ONtl0przkP1VVVUUMwuQ/XXTRFXLH5D9lk03m18zkP22yybY90uQ/dNFFh6PX5D988MFXCd3kP4QPPihv4uQ/jC66+NTn5D+TTTbJOu3kP5tsspmg8uQ/o4suagb45D+rqqo6bP3kP7LJJgvSAuU/uuii2zcI5T/CBx+snQ3lP8omm3wDE+U/0kUXTWkY5T/ZZJMdzx3lP+GDD+40I+U/6aKLvpoo5T/wwQePAC7lP/jgg19mM+U/AAAAMMw45T8IH3wAMj7lPxA++NCXQ+U/F110of1I5T8ffPBxY07lPyebbELJU+U/L7roEi9Z5T822WTjlF7lPz744LP6Y+U/RhddhGBp5T9ONtlUxm7lP1VVVSUsdOU/XXTR9ZF55T9lk03G937lP22yyZZdhOU/dNFFZ8OJ5T988ME3KY/lP4QPPgiPlOU/jC662PSZ5T+TTTapWp/lP5tssnnApOU/o4suSiaq5T+rqqoajK/lP7LJJuvxtOU/uuiiu1e65T/CBx+Mvb/lP8omm1wjxeU/0kUXLYnK5T/ZZJP97s/lP+GDD85U1eU/6aKLnrra5T/wwQdvIODlP/jggz+G5eU/AAAAEOzq5T8=",
          "dtype": "f8"
         },
         "y": [
          0.0024721582731813533,
          0.0024745242042945857,
          0.0024766959494723862,
          0.0024786736163121157,
          0.002480457357701004,
          0.0024820473715165712,
          0.002483443900311386,
          0.0024846472309824393,
          0.0024856576944254365,
          0.0024864756651743,
          0.00248710156102619,
          0.0024875358426523545,
          0.0024877790131951133,
          0.0024878316178513064,
          0.002487694243442515,
          0.0024873675179723966,
          0.0024868521101714448,
          0.002486148729029526,
          0.0024852581233165134,
          0.002484181081091363,
          0.002482918429199974,
          0.002481471032762173,
          0.0024798397946481725,
          0.0024780256549448436,
          0.002476029590412158,
          0.0024738526139301523,
          0.002471495773936747,
          0.0024689601538568024,
          0.0024662468715227395,
          0.0024633570785870837,
          0.0024602919599273003,
          0.002457052733043251,
          0.00245364064744764,
          0.0024500569840498064,
          0.0024463030545331934,
          0.0024423802007268757,
          0.0024382897939714617,
          0.0024340332344797455,
          0.0024296119506924474,
          0.0024250273986293805,
          0.0024202810612364016,
          0.0024153744477284685,
          0.002410309092929168,
          0.002405086556607029,
          0.0023997084228089692,
          0.002394176299191192,
          0.0023884918163478894,
          0.0023826566271380424,
          0.0023766724060106685,
          0.0023705408483288186,
          0.002364263669692654,
          0.0023578426052618994,
          0.002351279409077985,
          0.002344575853386195,
          0.0023377337279581055,
          0.002330754839414617,
          0.0023236410105498613,
          0.0023163940796562974,
          0.002309015899851251,
          0.0023015083384051865,
          0.002293873276071984,
          0.0022861126064215053,
          0.002278228235174682,
          0.002270222079541409,
          0.0022620960675615045,
          0.0022538521374489452,
          0.0022454922369396753,
          0.0022370183226431764,
          0.002228432359398077,
          0.0022197363196319988,
          0.0022109321827258528,
          0.00220202193438287,
          0.002193007566002486,
          0.0021838910740593427,
          0.002174674459487604,
          0.0021653597270707716,
          0.002155948884837183,
          0.0021464439434613837,
          0.002136846915671562,
          0.002127159815663209,
          0.002117384658519163,
          0.0021075234596362093,
          0.0020975782341583968,
          0.0020875509964172236,
          0.0020774437593787973,
          0.002067258534098183,
          0.002056997329180981,
          0.0020466621502523603,
          0.0020362549994335684,
          0.002025777874826135,
          0.0020152327700037904,
          0.0020046216735122636,
          0.001993946568377049,
          0.0019832094316192144,
          0.00197241223377935,
          0.0019615569384497625,
          0.0019506455018149743,
          0.0019396798722005953,
          0.0019286619896306289,
          0.0019175937853933398
         ]
        }
       ],
       "layout": {
        "template": {
         "data": {
          "bar": [
           {
            "error_x": {
             "color": "#2a3f5f"
            },
            "error_y": {
             "color": "#2a3f5f"
            },
            "marker": {
             "line": {
              "color": "white",
              "width": 0.5
             },
             "pattern": {
              "fillmode": "overlay",
              "size": 10,
              "solidity": 0.2
             }
            },
            "type": "bar"
           }
          ],
          "barpolar": [
           {
            "marker": {
             "line": {
              "color": "white",
              "width": 0.5
             },
             "pattern": {
              "fillmode": "overlay",
              "size": 10,
              "solidity": 0.2
             }
            },
            "type": "barpolar"
           }
          ],
          "carpet": [
           {
            "aaxis": {
             "endlinecolor": "#2a3f5f",
             "gridcolor": "#C8D4E3",
             "linecolor": "#C8D4E3",
             "minorgridcolor": "#C8D4E3",
             "startlinecolor": "#2a3f5f"
            },
            "baxis": {
             "endlinecolor": "#2a3f5f",
             "gridcolor": "#C8D4E3",
             "linecolor": "#C8D4E3",
             "minorgridcolor": "#C8D4E3",
             "startlinecolor": "#2a3f5f"
            },
            "type": "carpet"
           }
          ],
          "choropleth": [
           {
            "colorbar": {
             "outlinewidth": 0,
             "ticks": ""
            },
            "type": "choropleth"
           }
          ],
          "contour": [
           {
            "colorbar": {
             "outlinewidth": 0,
             "ticks": ""
            },
            "colorscale": [
             [
              0,
              "#0d0887"
             ],
             [
              0.1111111111111111,
              "#46039f"
             ],
             [
              0.2222222222222222,
              "#7201a8"
             ],
             [
              0.3333333333333333,
              "#9c179e"
             ],
             [
              0.4444444444444444,
              "#bd3786"
             ],
             [
              0.5555555555555556,
              "#d8576b"
             ],
             [
              0.6666666666666666,
              "#ed7953"
             ],
             [
              0.7777777777777778,
              "#fb9f3a"
             ],
             [
              0.8888888888888888,
              "#fdca26"
             ],
             [
              1,
              "#f0f921"
             ]
            ],
            "type": "contour"
           }
          ],
          "contourcarpet": [
           {
            "colorbar": {
             "outlinewidth": 0,
             "ticks": ""
            },
            "type": "contourcarpet"
           }
          ],
          "heatmap": [
           {
            "colorbar": {
             "outlinewidth": 0,
             "ticks": ""
            },
            "colorscale": [
             [
              0,
              "#0d0887"
             ],
             [
              0.1111111111111111,
              "#46039f"
             ],
             [
              0.2222222222222222,
              "#7201a8"
             ],
             [
              0.3333333333333333,
              "#9c179e"
             ],
             [
              0.4444444444444444,
              "#bd3786"
             ],
             [
              0.5555555555555556,
              "#d8576b"
             ],
             [
              0.6666666666666666,
              "#ed7953"
             ],
             [
              0.7777777777777778,
              "#fb9f3a"
             ],
             [
              0.8888888888888888,
              "#fdca26"
             ],
             [
              1,
              "#f0f921"
             ]
            ],
            "type": "heatmap"
           }
          ],
          "histogram": [
           {
            "marker": {
             "pattern": {
              "fillmode": "overlay",
              "size": 10,
              "solidity": 0.2
             }
            },
            "type": "histogram"
           }
          ],
          "histogram2d": [
           {
            "colorbar": {
             "outlinewidth": 0,
             "ticks": ""
            },
            "colorscale": [
             [
              0,
              "#0d0887"
             ],
             [
              0.1111111111111111,
              "#46039f"
             ],
             [
              0.2222222222222222,
              "#7201a8"
             ],
             [
              0.3333333333333333,
              "#9c179e"
             ],
             [
              0.4444444444444444,
              "#bd3786"
             ],
             [
              0.5555555555555556,
              "#d8576b"
             ],
             [
              0.6666666666666666,
              "#ed7953"
             ],
             [
              0.7777777777777778,
              "#fb9f3a"
             ],
             [
              0.8888888888888888,
              "#fdca26"
             ],
             [
              1,
              "#f0f921"
             ]
            ],
            "type": "histogram2d"
           }
          ],
          "histogram2dcontour": [
           {
            "colorbar": {
             "outlinewidth": 0,
             "ticks": ""
            },
            "colorscale": [
             [
              0,
              "#0d0887"
             ],
             [
              0.1111111111111111,
              "#46039f"
             ],
             [
              0.2222222222222222,
              "#7201a8"
             ],
             [
              0.3333333333333333,
              "#9c179e"
             ],
             [
              0.4444444444444444,
              "#bd3786"
             ],
             [
              0.5555555555555556,
              "#d8576b"
             ],
             [
              0.6666666666666666,
              "#ed7953"
             ],
             [
              0.7777777777777778,
              "#fb9f3a"
             ],
             [
              0.8888888888888888,
              "#fdca26"
             ],
             [
              1,
              "#f0f921"
             ]
            ],
            "type": "histogram2dcontour"
           }
          ],
          "mesh3d": [
           {
            "colorbar": {
             "outlinewidth": 0,
             "ticks": ""
            },
            "type": "mesh3d"
           }
          ],
          "parcoords": [
           {
            "line": {
             "colorbar": {
              "outlinewidth": 0,
              "ticks": ""
             }
            },
            "type": "parcoords"
           }
          ],
          "pie": [
           {
            "automargin": true,
            "type": "pie"
           }
          ],
          "scatter": [
           {
            "fillpattern": {
             "fillmode": "overlay",
             "size": 10,
             "solidity": 0.2
            },
            "type": "scatter"
           }
          ],
          "scatter3d": [
           {
            "line": {
             "colorbar": {
              "outlinewidth": 0,
              "ticks": ""
             }
            },
            "marker": {
             "colorbar": {
              "outlinewidth": 0,
              "ticks": ""
             }
            },
            "type": "scatter3d"
           }
          ],
          "scattercarpet": [
           {
            "marker": {
             "colorbar": {
              "outlinewidth": 0,
              "ticks": ""
             }
            },
            "type": "scattercarpet"
           }
          ],
          "scattergeo": [
           {
            "marker": {
             "colorbar": {
              "outlinewidth": 0,
              "ticks": ""
             }
            },
            "type": "scattergeo"
           }
          ],
          "scattergl": [
           {
            "marker": {
             "colorbar": {
              "outlinewidth": 0,
              "ticks": ""
             }
            },
            "type": "scattergl"
           }
          ],
          "scattermap": [
           {
            "marker": {
             "colorbar": {
              "outlinewidth": 0,
              "ticks": ""
             }
            },
            "type": "scattermap"
           }
          ],
          "scattermapbox": [
           {
            "marker": {
             "colorbar": {
              "outlinewidth": 0,
              "ticks": ""
             }
            },
            "type": "scattermapbox"
           }
          ],
          "scatterpolar": [
           {
            "marker": {
             "colorbar": {
              "outlinewidth": 0,
              "ticks": ""
             }
            },
            "type": "scatterpolar"
           }
          ],
          "scatterpolargl": [
           {
            "marker": {
             "colorbar": {
              "outlinewidth": 0,
              "ticks": ""
             }
            },
            "type": "scatterpolargl"
           }
          ],
          "scatterternary": [
           {
            "marker": {
             "colorbar": {
              "outlinewidth": 0,
              "ticks": ""
             }
            },
            "type": "scatterternary"
           }
          ],
          "surface": [
           {
            "colorbar": {
             "outlinewidth": 0,
             "ticks": ""
            },
            "colorscale": [
             [
              0,
              "#0d0887"
             ],
             [
              0.1111111111111111,
              "#46039f"
             ],
             [
              0.2222222222222222,
              "#7201a8"
             ],
             [
              0.3333333333333333,
              "#9c179e"
             ],
             [
              0.4444444444444444,
              "#bd3786"
             ],
             [
              0.5555555555555556,
              "#d8576b"
             ],
             [
              0.6666666666666666,
              "#ed7953"
             ],
             [
              0.7777777777777778,
              "#fb9f3a"
             ],
             [
              0.8888888888888888,
              "#fdca26"
             ],
             [
              1,
              "#f0f921"
             ]
            ],
            "type": "surface"
           }
          ],
          "table": [
           {
            "cells": {
             "fill": {
              "color": "#EBF0F8"
             },
             "line": {
              "color": "white"
             }
            },
            "header": {
             "fill": {
              "color": "#C8D4E3"
             },
             "line": {
              "color": "white"
             }
            },
            "type": "table"
           }
          ]
         },
         "layout": {
          "annotationdefaults": {
           "arrowcolor": "#2a3f5f",
           "arrowhead": 0,
           "arrowwidth": 1
          },
          "autotypenumbers": "strict",
          "coloraxis": {
           "colorbar": {
            "outlinewidth": 0,
            "ticks": ""
           }
          },
          "colorscale": {
           "diverging": [
            [
             0,
             "#8e0152"
            ],
            [
             0.1,
             "#c51b7d"
            ],
            [
             0.2,
             "#de77ae"
            ],
            [
             0.3,
             "#f1b6da"
            ],
            [
             0.4,
             "#fde0ef"
            ],
            [
             0.5,
             "#f7f7f7"
            ],
            [
             0.6,
             "#e6f5d0"
            ],
            [
             0.7,
             "#b8e186"
            ],
            [
             0.8,
             "#7fbc41"
            ],
            [
             0.9,
             "#4d9221"
            ],
            [
             1,
             "#276419"
            ]
           ],
           "sequential": [
            [
             0,
             "#0d0887"
            ],
            [
             0.1111111111111111,
             "#46039f"
            ],
            [
             0.2222222222222222,
             "#7201a8"
            ],
            [
             0.3333333333333333,
             "#9c179e"
            ],
            [
             0.4444444444444444,
             "#bd3786"
            ],
            [
             0.5555555555555556,
             "#d8576b"
            ],
            [
             0.6666666666666666,
             "#ed7953"
            ],
            [
             0.7777777777777778,
             "#fb9f3a"
            ],
            [
             0.8888888888888888,
             "#fdca26"
            ],
            [
             1,
             "#f0f921"
            ]
           ],
           "sequentialminus": [
            [
             0,
             "#0d0887"
            ],
            [
             0.1111111111111111,
             "#46039f"
            ],
            [
             0.2222222222222222,
             "#7201a8"
            ],
            [
             0.3333333333333333,
             "#9c179e"
            ],
            [
             0.4444444444444444,
             "#bd3786"
            ],
            [
             0.5555555555555556,
             "#d8576b"
            ],
            [
             0.6666666666666666,
             "#ed7953"
            ],
            [
             0.7777777777777778,
             "#fb9f3a"
            ],
            [
             0.8888888888888888,
             "#fdca26"
            ],
            [
             1,
             "#f0f921"
            ]
           ]
          },
          "colorway": [
           "#636efa",
           "#EF553B",
           "#00cc96",
           "#ab63fa",
           "#FFA15A",
           "#19d3f3",
           "#FF6692",
           "#B6E880",
           "#FF97FF",
           "#FECB52"
          ],
          "font": {
           "color": "#2a3f5f"
          },
          "geo": {
           "bgcolor": "white",
           "lakecolor": "white",
           "landcolor": "white",
           "showlakes": true,
           "showland": true,
           "subunitcolor": "#C8D4E3"
          },
          "hoverlabel": {
           "align": "left"
          },
          "hovermode": "closest",
          "mapbox": {
           "style": "light"
          },
          "paper_bgcolor": "white",
          "plot_bgcolor": "white",
          "polar": {
           "angularaxis": {
            "gridcolor": "#EBF0F8",
            "linecolor": "#EBF0F8",
            "ticks": ""
           },
           "bgcolor": "white",
           "radialaxis": {
            "gridcolor": "#EBF0F8",
            "linecolor": "#EBF0F8",
            "ticks": ""
           }
          },
          "scene": {
           "xaxis": {
            "backgroundcolor": "white",
            "gridcolor": "#DFE8F3",
            "gridwidth": 2,
            "linecolor": "#EBF0F8",
            "showbackground": true,
            "ticks": "",
            "zerolinecolor": "#EBF0F8"
           },
           "yaxis": {
            "backgroundcolor": "white",
            "gridcolor": "#DFE8F3",
            "gridwidth": 2,
            "linecolor": "#EBF0F8",
            "showbackground": true,
            "ticks": "",
            "zerolinecolor": "#EBF0F8"
           },
           "zaxis": {
            "backgroundcolor": "white",
            "gridcolor": "#DFE8F3",
            "gridwidth": 2,
            "linecolor": "#EBF0F8",
            "showbackground": true,
            "ticks": "",
            "zerolinecolor": "#EBF0F8"
           }
          },
          "shapedefaults": {
           "line": {
            "color": "#2a3f5f"
           }
          },
          "ternary": {
           "aaxis": {
            "gridcolor": "#DFE8F3",
            "linecolor": "#A2B1C6",
            "ticks": ""
           },
           "baxis": {
            "gridcolor": "#DFE8F3",
            "linecolor": "#A2B1C6",
            "ticks": ""
           },
           "bgcolor": "white",
           "caxis": {
            "gridcolor": "#DFE8F3",
            "linecolor": "#A2B1C6",
            "ticks": ""
           }
          },
          "title": {
           "x": 0.05
          },
          "xaxis": {
           "automargin": true,
           "gridcolor": "#EBF0F8",
           "linecolor": "#EBF0F8",
           "ticks": "",
           "title": {
            "standoff": 15
           },
           "zerolinecolor": "#EBF0F8",
           "zerolinewidth": 2
          },
          "yaxis": {
           "automargin": true,
           "gridcolor": "#EBF0F8",
           "linecolor": "#EBF0F8",
           "ticks": "",
           "title": {
            "standoff": 15
           },
           "zerolinecolor": "#EBF0F8",
           "zerolinewidth": 2
          }
         }
        },
        "title": {
         "font": {
          "family": "Arial Black",
          "size": 20
         },
         "text": "Vega vs Spot Price (AUD/USD)",
         "x": 0.5,
         "xanchor": "center"
        },
        "xaxis": {
         "title": {
          "text": "Spot Price"
         }
        },
        "yaxis": {
         "title": {
          "text": "Vega (per 1% vol change)"
         }
        }
       }
      }
     },
     "metadata": {},
     "output_type": "display_data"
    }
   ],
   "source": [
    "fig = go.Figure()\n",
    "\n",
    "for label, tau in d.items():\n",
    "    vegas = []\n",
    "    for s in x:\n",
    "        opt = BS(s, strike, rate, tau, vol)\n",
    "        vegas.append(opt.vega)  \n",
    "\n",
    "    fig.add_trace(go.Scatter(\n",
    "        x=x,\n",
    "        y=vegas,\n",
    "        mode='lines',\n",
    "        name=f\"{label}\"\n",
    "    ))\n",
    "\n",
    "fig.update_layout(\n",
    "    title=dict(\n",
    "        text='Vega vs Spot Price (AUD/USD)',\n",
    "        x=0.5,\n",
    "        xanchor='center',\n",
    "        font=dict(size=20, family='Arial Black')\n",
    "    ),\n",
    "    xaxis_title=\"Spot Price\",\n",
    "    yaxis_title=\"Vega (per 1% vol change)\",\n",
    "    template=\"plotly_white\"\n",
    ")\n",
    "\n",
    "fig.show()"
   ]
  },
  {
   "cell_type": "markdown",
   "metadata": {},
   "source": [
    "#### 4) Theta vs. Spot "
   ]
  },
  {
   "cell_type": "code",
   "execution_count": 13,
   "metadata": {},
   "outputs": [
    {
     "data": {
      "application/vnd.plotly.v1+json": {
       "config": {
        "plotlyServerURL": "https://plot.ly"
       },
       "data": [
        {
         "mode": "lines",
         "name": "1D",
         "type": "scatter",
         "x": {
          "bdata": "AAAAcIzU4z8IH3xA8tnjPxA++BBY3+M/F1104b3k4z8ffPCxI+rjPyebbIKJ7+M/L7roUu/04z822WQjVfrjPz744PO6/+M/RhddxCAF5D9ONtmUhgrkP1VVVWXsD+Q/XXTRNVIV5D9lk00GuBrkP22yydYdIOQ/dNFFp4Ml5D988MF36SrkP4QPPkhPMOQ/jC66GLU15D+TTTbpGjvkP5tssrmAQOQ/o4suiuZF5D+rqqpaTEvkP7LJJiuyUOQ/uuii+xdW5D/CBx/MfVvkP8omm5zjYOQ/0UUXbUlm5D/ZZJM9r2vkP+GDDw4VceQ/6aKL3np25D/wwQev4HvkP/jgg39GgeQ/AAAAUKyG5D8IH3wgEozkPxA++PB3keQ/F110wd2W5D8ffPCRQ5zkPyebbGKpoeQ/L7roMg+n5D822WQDdazkPz744NPaseQ/RhddpEC35D9ONtl0przkP1VVVUUMwuQ/XXTRFXLH5D9lk03m18zkP22yybY90uQ/dNFFh6PX5D988MFXCd3kP4QPPihv4uQ/jC66+NTn5D+TTTbJOu3kP5tsspmg8uQ/o4suagb45D+rqqo6bP3kP7LJJgvSAuU/uuii2zcI5T/CBx+snQ3lP8omm3wDE+U/0kUXTWkY5T/ZZJMdzx3lP+GDD+40I+U/6aKLvpoo5T/wwQePAC7lP/jgg19mM+U/AAAAMMw45T8IH3wAMj7lPxA++NCXQ+U/F110of1I5T8ffPBxY07lPyebbELJU+U/L7roEi9Z5T822WTjlF7lPz744LP6Y+U/RhddhGBp5T9ONtlUxm7lP1VVVSUsdOU/XXTR9ZF55T9lk03G937lP22yyZZdhOU/dNFFZ8OJ5T988ME3KY/lP4QPPgiPlOU/jC662PSZ5T+TTTapWp/lP5tssnnApOU/o4suSiaq5T+rqqoajK/lP7LJJuvxtOU/uuiiu1e65T/CBx+Mvb/lP8omm1wjxeU/0kUXLYnK5T/ZZJP97s/lP+GDD85U1eU/6aKLnrra5T/wwQdvIODlP/jggz+G5eU/AAAAEOzq5T8=",
          "dtype": "f8"
         },
         "y": [
          -7.855736205512178e-14,
          -2.0138324256728715e-13,
          -5.056602012742043e-13,
          -1.2437169148017923e-12,
          -2.9966764336042096e-12,
          -7.07362173635057e-12,
          -1.6358953173977892e-11,
          -3.706882509060854e-11,
          -8.230564340546257e-11,
          -1.7907940676384856e-10,
          -3.818427876738879e-10,
          -7.979469857552528e-10,
          -1.6343365599845968e-09,
          -3.2810616952317914e-09,
          -6.456841118871521e-09,
          -1.2456209274967941e-08,
          -2.3558032191549114e-08,
          -4.3682412027263945e-08,
          -7.941742649125016e-08,
          -1.415773157864491e-07,
          -2.47495457513495e-07,
          -4.2429067082362937e-07,
          -7.1336106786241e-07,
          -1.176337565333643e-06,
          -1.9026466732440886e-06,
          -3.018665157145394e-06,
          -4.698177191937968e-06,
          -7.17345862366186e-06,
          -1.0745824598816993e-05,
          -1.5793927838931147e-05,
          -2.277756354629192e-05,
          -3.22343384883671e-05,
          -4.476643887522509e-05,
          -6.101503324678472e-05,
          -8.162069568974142e-05,
          -0.00010716968842580268,
          -0.00013812795318553182,
          -0.00017476704691939297,
          -0.0002170887007028644,
          -0.00026475675219350626,
          -0.00031704642474538364,
          -0.00037282086680752853,
          -0.0004305432383059166,
          -0.0004883293940891336,
          -0.0005440416275521999,
          -0.0005954185618712657,
          -0.0006402309080274443,
          -0.0006764483481161161,
          -0.0007024000830394391,
          -0.0007169111984856097,
          -0.0007193991666864231,
          -0.0007099192843241884,
          -0.000689154001063021,
          -0.0006583479664420395,
          -0.0006191971389032476,
          -0.0005737054636297823,
          -0.0005240257043702761,
          -0.000472301665577086,
          -0.0004205273495525839,
          -0.0003704350225535226,
          -0.0003234194380477415,
          -0.0002805004118427603,
          -0.00024232133445205298,
          -0.00020917763016418112,
          -0.00018106696277076133,
          -0.00015775220736525183,
          -0.00013882868682239948,
          -0.00012378858327890163,
          -0.00011207738143395285,
          -0.00010313929478716013,
          -9.645055244658834e-05,
          -9.154097201340274e-05,
          -8.800531364349953e-05,
          -8.550649874776594e-05,
          -8.377295056861914e-05,
          -8.259217827017736e-05,
          -8.180239683463143e-05,
          -8.128355699283064e-05,
          -8.094873462693571e-05,
          -8.07364520715553e-05,
          -8.060420308492236e-05,
          -8.052323679973244e-05,
          -8.047451737966011e-05,
          -8.044570127461324e-05,
          -8.04289460473165e-05,
          -8.04193676793961e-05,
          -8.041398372906971e-05,
          -8.041100782280816e-05,
          -8.040939017194426e-05,
          -8.040852533375879e-05,
          -8.04080705496771e-05,
          -8.040783529916224e-05,
          -8.040771558533384e-05,
          -8.040765565055157e-05,
          -8.040762612717957e-05,
          -8.040761181729639e-05,
          -8.040760499203591e-05,
          -8.040760178838952e-05,
          -8.040760030846131e-05,
          -8.04075996355848e-05
         ]
        },
        {
         "mode": "lines",
         "name": "3M",
         "type": "scatter",
         "x": {
          "bdata": "AAAAcIzU4z8IH3xA8tnjPxA++BBY3+M/F1104b3k4z8ffPCxI+rjPyebbIKJ7+M/L7roUu/04z822WQjVfrjPz744PO6/+M/RhddxCAF5D9ONtmUhgrkP1VVVWXsD+Q/XXTRNVIV5D9lk00GuBrkP22yydYdIOQ/dNFFp4Ml5D988MF36SrkP4QPPkhPMOQ/jC66GLU15D+TTTbpGjvkP5tssrmAQOQ/o4suiuZF5D+rqqpaTEvkP7LJJiuyUOQ/uuii+xdW5D/CBx/MfVvkP8omm5zjYOQ/0UUXbUlm5D/ZZJM9r2vkP+GDDw4VceQ/6aKL3np25D/wwQev4HvkP/jgg39GgeQ/AAAAUKyG5D8IH3wgEozkPxA++PB3keQ/F110wd2W5D8ffPCRQ5zkPyebbGKpoeQ/L7roMg+n5D822WQDdazkPz744NPaseQ/RhddpEC35D9ONtl0przkP1VVVUUMwuQ/XXTRFXLH5D9lk03m18zkP22yybY90uQ/dNFFh6PX5D988MFXCd3kP4QPPihv4uQ/jC66+NTn5D+TTTbJOu3kP5tsspmg8uQ/o4suagb45D+rqqo6bP3kP7LJJgvSAuU/uuii2zcI5T/CBx+snQ3lP8omm3wDE+U/0kUXTWkY5T/ZZJMdzx3lP+GDD+40I+U/6aKLvpoo5T/wwQePAC7lP/jgg19mM+U/AAAAMMw45T8IH3wAMj7lPxA++NCXQ+U/F110of1I5T8ffPBxY07lPyebbELJU+U/L7roEi9Z5T822WTjlF7lPz744LP6Y+U/RhddhGBp5T9ONtlUxm7lP1VVVSUsdOU/XXTR9ZF55T9lk03G937lP22yyZZdhOU/dNFFZ8OJ5T988ME3KY/lP4QPPgiPlOU/jC662PSZ5T+TTTapWp/lP5tssnnApOU/o4suSiaq5T+rqqoajK/lP7LJJuvxtOU/uuiiu1e65T/CBx+Mvb/lP8omm1wjxeU/0kUXLYnK5T/ZZJP97s/lP+GDD85U1eU/6aKLnrra5T/wwQdvIODlP/jggz+G5eU/AAAAEOzq5T8=",
          "dtype": "f8"
         },
         "y": [
          -8.564374503816358e-05,
          -8.69009981140462e-05,
          -8.815096122282977e-05,
          -8.939294020095453e-05,
          -9.062624486668927e-05,
          -9.18501898605896e-05,
          -9.306409548035689e-05,
          -9.426728850856771e-05,
          -9.545910303176417e-05,
          -9.663888124940951e-05,
          -9.78059742712461e-05,
          -9.895974290161243e-05,
          -0.00010009955840931284,
          -0.00010122480328166176,
          -0.0001023348719613697,
          -0.00010342917156497048,
          -0.0001045071225815388,
          -0.00010556815955048959,
          -0.00010661173171730251,
          -0.00010763730366606503,
          -0.00010864435592778091,
          -0.00010963238556344674,
          -0.00011060090672096023,
          -0.00011154945116497882,
          -0.00011247756877891522,
          -0.00011338482803830993,
          -0.00011427081645489809,
          -0.00011513514099074081,
          -0.0001159774284418667,
          -0.00011679732579093045,
          -0.00011759450052846751,
          -0.00011836864094238997,
          -0.00011911945637543593,
          -0.000119846677450355,
          -0.00012055005626268062,
          -0.00012122936654100588,
          -0.00012188440377474899,
          -0.00012251498530945937,
          -0.0001231209504097817,
          -0.00012370216029026053,
          -0.00012425849811423088,
          -0.00012478986896110236,
          -0.00012529619976240513,
          -0.00012577743920702544,
          -0.00012623355761611545,
          -0.00012666454678821818,
          -0.0001270704198151996,
          -0.00012745121086963512,
          -0.00012780697496434323,
          -0.0001281377876848081,
          -0.0001284437448952761,
          -0.0001287249624193546,
          -0.00012898157569597997,
          -0.0001292137394116585,
          -0.00012942162710991893,
          -0.00012960543077894667,
          -0.0001297653604183983,
          -0.00012990164358642181,
          -0.00013001452492793033,
          -0.0001301042656851995,
          -0.0001301711431918745,
          -0.00013021545035148916,
          -0.00013023749510161206,
          -0.00013023759986474263,
          -0.0001302161009870897,
          -0.00013017334816636637,
          -0.00013010970386973908,
          -0.00013002554274306648,
          -0.00012992125101256123,
          -0.00012979722588000038,
          -0.00012965387491260355,
          -0.00012949161542868718,
          -0.00012931087388018812,
          -0.00012911208523313809,
          -0.00012889569234715125,
          -0.0001286621453549689,
          -0.00012841190104308326,
          -0.0001281454222344415,
          -0.00012786317717420492,
          -0.00012756563891951303,
          -0.00012725328473417398,
          -0.00012692659548917403,
          -0.00012658605506987,
          -0.00012623214979069435,
          -0.00012586536781817136,
          -0.00012548619860301127,
          -0.00012509513232201043,
          -0.0001246926593304551,
          -0.0001242792696256871,
          -0.00012385545232245559,
          -0.00012342169514063992,
          -0.00012297848390589456,
          -0.0001225263020637268,
          -0.00012206563020748158,
          -0.00012159694562066915,
          -0.0001211207218340367,
          -0.00012063742819774335,
          -0.0001201475294689632,
          -0.00011965148541520259,
          -0.00011914975043358583
         ]
        },
        {
         "mode": "lines",
         "name": "6M",
         "type": "scatter",
         "x": {
          "bdata": "AAAAcIzU4z8IH3xA8tnjPxA++BBY3+M/F1104b3k4z8ffPCxI+rjPyebbIKJ7+M/L7roUu/04z822WQjVfrjPz744PO6/+M/RhddxCAF5D9ONtmUhgrkP1VVVWXsD+Q/XXTRNVIV5D9lk00GuBrkP22yydYdIOQ/dNFFp4Ml5D988MF36SrkP4QPPkhPMOQ/jC66GLU15D+TTTbpGjvkP5tssrmAQOQ/o4suiuZF5D+rqqpaTEvkP7LJJiuyUOQ/uuii+xdW5D/CBx/MfVvkP8omm5zjYOQ/0UUXbUlm5D/ZZJM9r2vkP+GDDw4VceQ/6aKL3np25D/wwQev4HvkP/jgg39GgeQ/AAAAUKyG5D8IH3wgEozkPxA++PB3keQ/F110wd2W5D8ffPCRQ5zkPyebbGKpoeQ/L7roMg+n5D822WQDdazkPz744NPaseQ/RhddpEC35D9ONtl0przkP1VVVUUMwuQ/XXTRFXLH5D9lk03m18zkP22yybY90uQ/dNFFh6PX5D988MFXCd3kP4QPPihv4uQ/jC66+NTn5D+TTTbJOu3kP5tsspmg8uQ/o4suagb45D+rqqo6bP3kP7LJJgvSAuU/uuii2zcI5T/CBx+snQ3lP8omm3wDE+U/0kUXTWkY5T/ZZJMdzx3lP+GDD+40I+U/6aKLvpoo5T/wwQePAC7lP/jgg19mM+U/AAAAMMw45T8IH3wAMj7lPxA++NCXQ+U/F110of1I5T8ffPBxY07lPyebbELJU+U/L7roEi9Z5T822WTjlF7lPz744LP6Y+U/RhddhGBp5T9ONtlUxm7lP1VVVSUsdOU/XXTR9ZF55T9lk03G937lP22yyZZdhOU/dNFFZ8OJ5T988ME3KY/lP4QPPgiPlOU/jC662PSZ5T+TTTapWp/lP5tssnnApOU/o4suSiaq5T+rqqoajK/lP7LJJuvxtOU/uuiiu1e65T/CBx+Mvb/lP8omm1wjxeU/0kUXLYnK5T/ZZJP97s/lP+GDD85U1eU/6aKLnrra5T/wwQdvIODlP/jggz+G5eU/AAAAEOzq5T8=",
          "dtype": "f8"
         },
         "y": [
          -8.261982134013209e-05,
          -8.324518703800612e-05,
          -8.386411031285628e-05,
          -8.447644838726264e-05,
          -8.508206175233749e-05,
          -8.568081423914131e-05,
          -8.627257308720184e-05,
          -8.685720901009089e-05,
          -8.74345962580192e-05,
          -8.800461267741009e-05,
          -8.85671397674201e-05,
          -8.91220627333749e-05,
          -8.966927053709475e-05,
          -9.020865594408492e-05,
          -9.074011556757374e-05,
          -9.126354990937971e-05,
          -9.177886339759722e-05,
          -9.228596442109037e-05,
          -9.278476536079e-05,
          -9.327518261779224e-05,
          -9.375713663825898e-05,
          -9.423055193512514e-05,
          -9.469535710662148e-05,
          -9.515148485162303e-05,
          -9.559887198183928e-05,
          -9.603745943086133e-05,
          -9.646719226008974e-05,
          -9.688801966156453e-05,
          -9.72998949577254e-05,
          -9.770277559813138e-05,
          -9.809662315317273e-05,
          -9.848140330481064e-05,
          -9.885708583438222e-05,
          -9.922364460751175e-05,
          -9.95810575561715e-05,
          -9.992930665793743e-05,
          -0.00010026837791248834,
          -0.00010059826131539798,
          -0.00010091895082927289,
          -0.00010123044435229089,
          -0.00010153274368419603,
          -0.00010182585448980934,
          -0.00010210978626011444,
          -0.00010238455227098121,
          -0.00010265016953958996,
          -0.00010290665877862251,
          -0.00010315404434828486,
          -0.00010339235420623126,
          -0.00010362161985545715,
          -0.00010384187629023223,
          -0.00010405316194014379,
          -0.00010425551861232345,
          -0.00010444899143192992,
          -0.00010463362878096074,
          -0.00010480948223546837,
          -0.00010497660650125493,
          -0.00010513505934812082,
          -0.00010528490154274317,
          -0.00010542619678025953,
          -0.00010555901161463364,
          -0.0001056834153878785,
          -0.00010579948015821349,
          -0.00010590728062723171,
          -0.00010600689406615232,
          -0.00010609840024123504,
          -0.00010618188133843074,
          -0.00010625742188734333,
          -0.00010632510868457787,
          -0.00010638503071654716,
          -0.00010643727908181175,
          -0.00010648194691302396,
          -0.0001065191292985486,
          -0.00010654892320383057,
          -0.00010657142739257937,
          -0.00010658674234783883,
          -0.00010659497019301045,
          -0.00010659621461289627,
          -0.00010659058077482737,
          -0.00010657817524994198,
          -0.00010655910593467578,
          -0.00010653348197252713,
          -0.00010650141367615636,
          -0.00010646301244987903,
          -0.00010641839071261035,
          -0.00010636766182131637,
          -0.00010631093999502771,
          -0.00010624834023946727,
          -0.00010617997827234479,
          -0.00010610597044936737,
          -0.00010602643369101461,
          -0.00010594148541012463,
          -0.00010585124344033647,
          -0.0001057558259654319,
          -0.0001056553514496184,
          -0.00010554993856879299,
          -0.00010543970614282605,
          -0.00010532477306890059,
          -0.00010520525825594265,
          -0.00010508128056017541,
          -0.00010495295872182923
         ]
        },
        {
         "mode": "lines",
         "name": "9M",
         "type": "scatter",
         "x": {
          "bdata": "AAAAcIzU4z8IH3xA8tnjPxA++BBY3+M/F1104b3k4z8ffPCxI+rjPyebbIKJ7+M/L7roUu/04z822WQjVfrjPz744PO6/+M/RhddxCAF5D9ONtmUhgrkP1VVVWXsD+Q/XXTRNVIV5D9lk00GuBrkP22yydYdIOQ/dNFFp4Ml5D988MF36SrkP4QPPkhPMOQ/jC66GLU15D+TTTbpGjvkP5tssrmAQOQ/o4suiuZF5D+rqqpaTEvkP7LJJiuyUOQ/uuii+xdW5D/CBx/MfVvkP8omm5zjYOQ/0UUXbUlm5D/ZZJM9r2vkP+GDDw4VceQ/6aKL3np25D/wwQev4HvkP/jgg39GgeQ/AAAAUKyG5D8IH3wgEozkPxA++PB3keQ/F110wd2W5D8ffPCRQ5zkPyebbGKpoeQ/L7roMg+n5D822WQDdazkPz744NPaseQ/RhddpEC35D9ONtl0przkP1VVVUUMwuQ/XXTRFXLH5D9lk03m18zkP22yybY90uQ/dNFFh6PX5D988MFXCd3kP4QPPihv4uQ/jC66+NTn5D+TTTbJOu3kP5tsspmg8uQ/o4suagb45D+rqqo6bP3kP7LJJgvSAuU/uuii2zcI5T/CBx+snQ3lP8omm3wDE+U/0kUXTWkY5T/ZZJMdzx3lP+GDD+40I+U/6aKLvpoo5T/wwQePAC7lP/jgg19mM+U/AAAAMMw45T8IH3wAMj7lPxA++NCXQ+U/F110of1I5T8ffPBxY07lPyebbELJU+U/L7roEi9Z5T822WTjlF7lPz744LP6Y+U/RhddhGBp5T9ONtlUxm7lP1VVVSUsdOU/XXTR9ZF55T9lk03G937lP22yyZZdhOU/dNFFZ8OJ5T988ME3KY/lP4QPPgiPlOU/jC662PSZ5T+TTTapWp/lP5tssnnApOU/o4suSiaq5T+rqqoajK/lP7LJJuvxtOU/uuiiu1e65T/CBx+Mvb/lP8omm1wjxeU/0kUXLYnK5T/ZZJP97s/lP+GDD85U1eU/6aKLnrra5T/wwQdvIODlP/jggz+G5eU/AAAAEOzq5T8=",
          "dtype": "f8"
         },
         "y": [
          -7.869065810871314e-05,
          -7.910345595490673e-05,
          -7.951182220281492e-05,
          -7.99157092923434e-05,
          -8.03150712041395e-05,
          -8.070986346870793e-05,
          -8.110004317466953e-05,
          -8.148556897616429e-05,
          -8.186640109940269e-05,
          -8.224250134836776e-05,
          -8.261383310967283e-05,
          -8.298036135657946e-05,
          -8.334205265218069e-05,
          -8.369887515175498e-05,
          -8.405079860429842e-05,
          -8.439779435324048e-05,
          -8.473983533635208e-05,
          -8.507689608485264e-05,
          -8.540895272172514e-05,
          -8.573598295924836e-05,
          -8.605796609575454e-05,
          -8.637488301162276e-05,
          -8.668671616451868e-05,
          -8.699344958389011e-05,
          -8.729506886473067e-05,
          -8.759156116062147e-05,
          -8.788291517606392e-05,
          -8.816912115811519e-05,
          -8.845017088733851e-05,
          -8.872605766808148e-05,
          -8.899677631809542e-05,
          -8.926232315750923e-05,
          -8.952269599717145e-05,
          -8.977789412637396e-05,
          -9.00279182999726e-05,
          -9.027277072491811e-05,
          -9.051245504621298e-05,
          -9.074697633230847e-05,
          -9.097634105995703e-05,
          -9.120055709853575e-05,
          -9.141963369385599e-05,
          -9.1633581451475e-05,
          -9.184241231952486e-05,
          -9.204613957107518e-05,
          -9.224477778604512e-05,
          -9.243834283268143e-05,
          -9.26268518486172e-05,
          -9.281032322152976e-05,
          -9.298877656941172e-05,
          -9.316223272047355e-05,
          -9.333071369269212e-05,
          -9.349424267302306e-05,
          -9.365284399629264e-05,
          -9.380654312378549e-05,
          -9.395536662154452e-05,
          -9.409934213839954e-05,
          -9.423849838374062e-05,
          -9.437286510505257e-05,
          -9.450247306522592e-05,
          -9.462735401966165e-05,
          -9.474754069318445e-05,
          -9.486306675678101e-05,
          -9.497396680417856e-05,
          -9.508027632827972e-05,
          -9.51820316974687e-05,
          -9.527927013180425e-05,
          -9.537202967911451e-05,
          -9.54603491910089e-05,
          -9.554426829882125e-05,
          -9.562382738949973e-05,
          -9.569906758145704e-05,
          -9.577003070039554e-05,
          -9.583675925512143e-05,
          -9.58992964133616e-05,
          -9.595768597759678e-05,
          -9.601197236092408e-05,
          -9.606220056296271e-05,
          -9.610841614581507e-05,
          -9.615066521009624e-05,
          -9.618899437104412e-05,
          -9.622345073472234e-05,
          -9.625408187432803e-05,
          -9.628093580661581e-05,
          -9.630406096844945e-05,
          -9.63235061934923e-05,
          -9.633932068904724e-05,
          -9.635155401305687e-05,
          -9.636025605127384e-05,
          -9.636547699461162e-05,
          -9.636726731668511e-05,
          -9.636567775155083e-05,
          -9.636075927165541e-05,
          -9.635256306600145e-05,
          -9.634114051853919e-05,
          -9.632654318679224e-05,
          -9.630882278072524e-05,
          -9.628803114186128e-05,
          -9.62642202226562e-05,
          -9.62374420661369e-05,
          -9.620774878581056e-05
         ]
        },
        {
         "mode": "lines",
         "name": "12M",
         "type": "scatter",
         "x": {
          "bdata": "AAAAcIzU4z8IH3xA8tnjPxA++BBY3+M/F1104b3k4z8ffPCxI+rjPyebbIKJ7+M/L7roUu/04z822WQjVfrjPz744PO6/+M/RhddxCAF5D9ONtmUhgrkP1VVVWXsD+Q/XXTRNVIV5D9lk00GuBrkP22yydYdIOQ/dNFFp4Ml5D988MF36SrkP4QPPkhPMOQ/jC66GLU15D+TTTbpGjvkP5tssrmAQOQ/o4suiuZF5D+rqqpaTEvkP7LJJiuyUOQ/uuii+xdW5D/CBx/MfVvkP8omm5zjYOQ/0UUXbUlm5D/ZZJM9r2vkP+GDDw4VceQ/6aKL3np25D/wwQev4HvkP/jgg39GgeQ/AAAAUKyG5D8IH3wgEozkPxA++PB3keQ/F110wd2W5D8ffPCRQ5zkPyebbGKpoeQ/L7roMg+n5D822WQDdazkPz744NPaseQ/RhddpEC35D9ONtl0przkP1VVVUUMwuQ/XXTRFXLH5D9lk03m18zkP22yybY90uQ/dNFFh6PX5D988MFXCd3kP4QPPihv4uQ/jC66+NTn5D+TTTbJOu3kP5tsspmg8uQ/o4suagb45D+rqqo6bP3kP7LJJgvSAuU/uuii2zcI5T/CBx+snQ3lP8omm3wDE+U/0kUXTWkY5T/ZZJMdzx3lP+GDD+40I+U/6aKLvpoo5T/wwQePAC7lP/jgg19mM+U/AAAAMMw45T8IH3wAMj7lPxA++NCXQ+U/F110of1I5T8ffPBxY07lPyebbELJU+U/L7roEi9Z5T822WTjlF7lPz744LP6Y+U/RhddhGBp5T9ONtlUxm7lP1VVVSUsdOU/XXTR9ZF55T9lk03G937lP22yyZZdhOU/dNFFZ8OJ5T988ME3KY/lP4QPPgiPlOU/jC662PSZ5T+TTTapWp/lP5tssnnApOU/o4suSiaq5T+rqqoajK/lP7LJJuvxtOU/uuiiu1e65T/CBx+Mvb/lP8omm1wjxeU/0kUXLYnK5T/ZZJP97s/lP+GDD85U1eU/6aKLnrra5T/wwQdvIODlP/jggz+G5eU/AAAAEOzq5T8=",
          "dtype": "f8"
         },
         "y": [
          -7.563818626349684e-05,
          -7.594712298585251e-05,
          -7.625282839210199e-05,
          -7.655528318305704e-05,
          -7.685446888515064e-05,
          -7.715036785007662e-05,
          -7.74429632541146e-05,
          -7.773223909714286e-05,
          -7.801818020134358e-05,
          -7.830077220960319e-05,
          -7.85800015836124e-05,
          -7.885585560166943e-05,
          -7.91283223561908e-05,
          -7.939739075093313e-05,
          -7.966305049793133e-05,
          -7.992529211415652e-05,
          -8.018410691789877e-05,
          -8.043948702487892e-05,
          -8.069142534409416e-05,
          -8.093991557340254e-05,
          -8.118495219485058e-05,
          -8.142653046974933e-05,
          -8.16646464335038e-05,
          -8.189929689020052e-05,
          -8.213047940695942e-05,
          -8.235819230805318e-05,
          -8.258243466880159e-05,
          -8.280320630924478e-05,
          -8.302050778760107e-05,
          -8.323434039351487e-05,
          -8.344470614110003e-05,
          -8.365160776178446e-05,
          -8.385504869696085e-05,
          -8.405503309044963e-05,
          -8.42515657807796e-05,
          -8.44446522932917e-05,
          -8.463429883207182e-05,
          -8.482051227171801e-05,
          -8.500330014894785e-05,
          -8.518267065405165e-05,
          -8.535863262219731e-05,
          -8.553119552459226e-05,
          -8.570036945950822e-05,
          -8.58661651431746e-05,
          -8.602859390054585e-05,
          -8.61876676559491e-05,
          -8.63433989236168e-05,
          -8.649580079811054e-05,
          -8.664488694464184e-05,
          -8.679067158929485e-05,
          -8.693316950915701e-05,
          -8.707239602236288e-05,
          -8.720836697805693e-05,
          -8.734109874628055e-05,
          -8.747060820778839e-05,
          -8.759691274380006e-05,
          -8.772003022569215e-05,
          -8.783997900463554e-05,
          -8.795677790118385e-05,
          -8.807044619481772e-05,
          -8.818100361345043e-05,
          -8.828847032289945e-05,
          -8.839286691632959e-05,
          -8.849421440367192e-05,
          -8.859253420102407e-05,
          -8.868784812003636e-05,
          -8.878017835728855e-05,
          -8.886954748366206e-05,
          -8.895597843371208e-05,
          -8.90394944950444e-05,
          -8.912011929770132e-05,
          -8.91978768035608e-05,
          -8.927279129575372e-05,
          -8.934488736810311e-05,
          -8.941418991458987e-05,
          -8.948072411884852e-05,
          -8.954451544369773e-05,
          -8.960558962070929e-05,
          -8.966397263981919e-05,
          -8.971969073898478e-05,
          -8.977277039389198e-05,
          -8.982323830771563e-05,
          -8.987112140093703e-05,
          -8.991644680122183e-05,
          -8.995924183336186e-05,
          -8.999953400928391e-05,
          -9.003735101812897e-05,
          -9.00727207164049e-05,
          -9.010567111821556e-05,
          -9.013623038556939e-05,
          -9.016442681877032e-05,
          -9.019028884689375e-05,
          -9.02138450183503e-05,
          -9.02351239915398e-05,
          -9.025415452559851e-05,
          -9.027096547124131e-05,
          -9.028558576170162e-05,
          -9.029804440377143e-05,
          -9.03083704689433e-05,
          -9.031659308465647e-05
         ]
        }
       ],
       "layout": {
        "template": {
         "data": {
          "bar": [
           {
            "error_x": {
             "color": "#2a3f5f"
            },
            "error_y": {
             "color": "#2a3f5f"
            },
            "marker": {
             "line": {
              "color": "white",
              "width": 0.5
             },
             "pattern": {
              "fillmode": "overlay",
              "size": 10,
              "solidity": 0.2
             }
            },
            "type": "bar"
           }
          ],
          "barpolar": [
           {
            "marker": {
             "line": {
              "color": "white",
              "width": 0.5
             },
             "pattern": {
              "fillmode": "overlay",
              "size": 10,
              "solidity": 0.2
             }
            },
            "type": "barpolar"
           }
          ],
          "carpet": [
           {
            "aaxis": {
             "endlinecolor": "#2a3f5f",
             "gridcolor": "#C8D4E3",
             "linecolor": "#C8D4E3",
             "minorgridcolor": "#C8D4E3",
             "startlinecolor": "#2a3f5f"
            },
            "baxis": {
             "endlinecolor": "#2a3f5f",
             "gridcolor": "#C8D4E3",
             "linecolor": "#C8D4E3",
             "minorgridcolor": "#C8D4E3",
             "startlinecolor": "#2a3f5f"
            },
            "type": "carpet"
           }
          ],
          "choropleth": [
           {
            "colorbar": {
             "outlinewidth": 0,
             "ticks": ""
            },
            "type": "choropleth"
           }
          ],
          "contour": [
           {
            "colorbar": {
             "outlinewidth": 0,
             "ticks": ""
            },
            "colorscale": [
             [
              0,
              "#0d0887"
             ],
             [
              0.1111111111111111,
              "#46039f"
             ],
             [
              0.2222222222222222,
              "#7201a8"
             ],
             [
              0.3333333333333333,
              "#9c179e"
             ],
             [
              0.4444444444444444,
              "#bd3786"
             ],
             [
              0.5555555555555556,
              "#d8576b"
             ],
             [
              0.6666666666666666,
              "#ed7953"
             ],
             [
              0.7777777777777778,
              "#fb9f3a"
             ],
             [
              0.8888888888888888,
              "#fdca26"
             ],
             [
              1,
              "#f0f921"
             ]
            ],
            "type": "contour"
           }
          ],
          "contourcarpet": [
           {
            "colorbar": {
             "outlinewidth": 0,
             "ticks": ""
            },
            "type": "contourcarpet"
           }
          ],
          "heatmap": [
           {
            "colorbar": {
             "outlinewidth": 0,
             "ticks": ""
            },
            "colorscale": [
             [
              0,
              "#0d0887"
             ],
             [
              0.1111111111111111,
              "#46039f"
             ],
             [
              0.2222222222222222,
              "#7201a8"
             ],
             [
              0.3333333333333333,
              "#9c179e"
             ],
             [
              0.4444444444444444,
              "#bd3786"
             ],
             [
              0.5555555555555556,
              "#d8576b"
             ],
             [
              0.6666666666666666,
              "#ed7953"
             ],
             [
              0.7777777777777778,
              "#fb9f3a"
             ],
             [
              0.8888888888888888,
              "#fdca26"
             ],
             [
              1,
              "#f0f921"
             ]
            ],
            "type": "heatmap"
           }
          ],
          "histogram": [
           {
            "marker": {
             "pattern": {
              "fillmode": "overlay",
              "size": 10,
              "solidity": 0.2
             }
            },
            "type": "histogram"
           }
          ],
          "histogram2d": [
           {
            "colorbar": {
             "outlinewidth": 0,
             "ticks": ""
            },
            "colorscale": [
             [
              0,
              "#0d0887"
             ],
             [
              0.1111111111111111,
              "#46039f"
             ],
             [
              0.2222222222222222,
              "#7201a8"
             ],
             [
              0.3333333333333333,
              "#9c179e"
             ],
             [
              0.4444444444444444,
              "#bd3786"
             ],
             [
              0.5555555555555556,
              "#d8576b"
             ],
             [
              0.6666666666666666,
              "#ed7953"
             ],
             [
              0.7777777777777778,
              "#fb9f3a"
             ],
             [
              0.8888888888888888,
              "#fdca26"
             ],
             [
              1,
              "#f0f921"
             ]
            ],
            "type": "histogram2d"
           }
          ],
          "histogram2dcontour": [
           {
            "colorbar": {
             "outlinewidth": 0,
             "ticks": ""
            },
            "colorscale": [
             [
              0,
              "#0d0887"
             ],
             [
              0.1111111111111111,
              "#46039f"
             ],
             [
              0.2222222222222222,
              "#7201a8"
             ],
             [
              0.3333333333333333,
              "#9c179e"
             ],
             [
              0.4444444444444444,
              "#bd3786"
             ],
             [
              0.5555555555555556,
              "#d8576b"
             ],
             [
              0.6666666666666666,
              "#ed7953"
             ],
             [
              0.7777777777777778,
              "#fb9f3a"
             ],
             [
              0.8888888888888888,
              "#fdca26"
             ],
             [
              1,
              "#f0f921"
             ]
            ],
            "type": "histogram2dcontour"
           }
          ],
          "mesh3d": [
           {
            "colorbar": {
             "outlinewidth": 0,
             "ticks": ""
            },
            "type": "mesh3d"
           }
          ],
          "parcoords": [
           {
            "line": {
             "colorbar": {
              "outlinewidth": 0,
              "ticks": ""
             }
            },
            "type": "parcoords"
           }
          ],
          "pie": [
           {
            "automargin": true,
            "type": "pie"
           }
          ],
          "scatter": [
           {
            "fillpattern": {
             "fillmode": "overlay",
             "size": 10,
             "solidity": 0.2
            },
            "type": "scatter"
           }
          ],
          "scatter3d": [
           {
            "line": {
             "colorbar": {
              "outlinewidth": 0,
              "ticks": ""
             }
            },
            "marker": {
             "colorbar": {
              "outlinewidth": 0,
              "ticks": ""
             }
            },
            "type": "scatter3d"
           }
          ],
          "scattercarpet": [
           {
            "marker": {
             "colorbar": {
              "outlinewidth": 0,
              "ticks": ""
             }
            },
            "type": "scattercarpet"
           }
          ],
          "scattergeo": [
           {
            "marker": {
             "colorbar": {
              "outlinewidth": 0,
              "ticks": ""
             }
            },
            "type": "scattergeo"
           }
          ],
          "scattergl": [
           {
            "marker": {
             "colorbar": {
              "outlinewidth": 0,
              "ticks": ""
             }
            },
            "type": "scattergl"
           }
          ],
          "scattermap": [
           {
            "marker": {
             "colorbar": {
              "outlinewidth": 0,
              "ticks": ""
             }
            },
            "type": "scattermap"
           }
          ],
          "scattermapbox": [
           {
            "marker": {
             "colorbar": {
              "outlinewidth": 0,
              "ticks": ""
             }
            },
            "type": "scattermapbox"
           }
          ],
          "scatterpolar": [
           {
            "marker": {
             "colorbar": {
              "outlinewidth": 0,
              "ticks": ""
             }
            },
            "type": "scatterpolar"
           }
          ],
          "scatterpolargl": [
           {
            "marker": {
             "colorbar": {
              "outlinewidth": 0,
              "ticks": ""
             }
            },
            "type": "scatterpolargl"
           }
          ],
          "scatterternary": [
           {
            "marker": {
             "colorbar": {
              "outlinewidth": 0,
              "ticks": ""
             }
            },
            "type": "scatterternary"
           }
          ],
          "surface": [
           {
            "colorbar": {
             "outlinewidth": 0,
             "ticks": ""
            },
            "colorscale": [
             [
              0,
              "#0d0887"
             ],
             [
              0.1111111111111111,
              "#46039f"
             ],
             [
              0.2222222222222222,
              "#7201a8"
             ],
             [
              0.3333333333333333,
              "#9c179e"
             ],
             [
              0.4444444444444444,
              "#bd3786"
             ],
             [
              0.5555555555555556,
              "#d8576b"
             ],
             [
              0.6666666666666666,
              "#ed7953"
             ],
             [
              0.7777777777777778,
              "#fb9f3a"
             ],
             [
              0.8888888888888888,
              "#fdca26"
             ],
             [
              1,
              "#f0f921"
             ]
            ],
            "type": "surface"
           }
          ],
          "table": [
           {
            "cells": {
             "fill": {
              "color": "#EBF0F8"
             },
             "line": {
              "color": "white"
             }
            },
            "header": {
             "fill": {
              "color": "#C8D4E3"
             },
             "line": {
              "color": "white"
             }
            },
            "type": "table"
           }
          ]
         },
         "layout": {
          "annotationdefaults": {
           "arrowcolor": "#2a3f5f",
           "arrowhead": 0,
           "arrowwidth": 1
          },
          "autotypenumbers": "strict",
          "coloraxis": {
           "colorbar": {
            "outlinewidth": 0,
            "ticks": ""
           }
          },
          "colorscale": {
           "diverging": [
            [
             0,
             "#8e0152"
            ],
            [
             0.1,
             "#c51b7d"
            ],
            [
             0.2,
             "#de77ae"
            ],
            [
             0.3,
             "#f1b6da"
            ],
            [
             0.4,
             "#fde0ef"
            ],
            [
             0.5,
             "#f7f7f7"
            ],
            [
             0.6,
             "#e6f5d0"
            ],
            [
             0.7,
             "#b8e186"
            ],
            [
             0.8,
             "#7fbc41"
            ],
            [
             0.9,
             "#4d9221"
            ],
            [
             1,
             "#276419"
            ]
           ],
           "sequential": [
            [
             0,
             "#0d0887"
            ],
            [
             0.1111111111111111,
             "#46039f"
            ],
            [
             0.2222222222222222,
             "#7201a8"
            ],
            [
             0.3333333333333333,
             "#9c179e"
            ],
            [
             0.4444444444444444,
             "#bd3786"
            ],
            [
             0.5555555555555556,
             "#d8576b"
            ],
            [
             0.6666666666666666,
             "#ed7953"
            ],
            [
             0.7777777777777778,
             "#fb9f3a"
            ],
            [
             0.8888888888888888,
             "#fdca26"
            ],
            [
             1,
             "#f0f921"
            ]
           ],
           "sequentialminus": [
            [
             0,
             "#0d0887"
            ],
            [
             0.1111111111111111,
             "#46039f"
            ],
            [
             0.2222222222222222,
             "#7201a8"
            ],
            [
             0.3333333333333333,
             "#9c179e"
            ],
            [
             0.4444444444444444,
             "#bd3786"
            ],
            [
             0.5555555555555556,
             "#d8576b"
            ],
            [
             0.6666666666666666,
             "#ed7953"
            ],
            [
             0.7777777777777778,
             "#fb9f3a"
            ],
            [
             0.8888888888888888,
             "#fdca26"
            ],
            [
             1,
             "#f0f921"
            ]
           ]
          },
          "colorway": [
           "#636efa",
           "#EF553B",
           "#00cc96",
           "#ab63fa",
           "#FFA15A",
           "#19d3f3",
           "#FF6692",
           "#B6E880",
           "#FF97FF",
           "#FECB52"
          ],
          "font": {
           "color": "#2a3f5f"
          },
          "geo": {
           "bgcolor": "white",
           "lakecolor": "white",
           "landcolor": "white",
           "showlakes": true,
           "showland": true,
           "subunitcolor": "#C8D4E3"
          },
          "hoverlabel": {
           "align": "left"
          },
          "hovermode": "closest",
          "mapbox": {
           "style": "light"
          },
          "paper_bgcolor": "white",
          "plot_bgcolor": "white",
          "polar": {
           "angularaxis": {
            "gridcolor": "#EBF0F8",
            "linecolor": "#EBF0F8",
            "ticks": ""
           },
           "bgcolor": "white",
           "radialaxis": {
            "gridcolor": "#EBF0F8",
            "linecolor": "#EBF0F8",
            "ticks": ""
           }
          },
          "scene": {
           "xaxis": {
            "backgroundcolor": "white",
            "gridcolor": "#DFE8F3",
            "gridwidth": 2,
            "linecolor": "#EBF0F8",
            "showbackground": true,
            "ticks": "",
            "zerolinecolor": "#EBF0F8"
           },
           "yaxis": {
            "backgroundcolor": "white",
            "gridcolor": "#DFE8F3",
            "gridwidth": 2,
            "linecolor": "#EBF0F8",
            "showbackground": true,
            "ticks": "",
            "zerolinecolor": "#EBF0F8"
           },
           "zaxis": {
            "backgroundcolor": "white",
            "gridcolor": "#DFE8F3",
            "gridwidth": 2,
            "linecolor": "#EBF0F8",
            "showbackground": true,
            "ticks": "",
            "zerolinecolor": "#EBF0F8"
           }
          },
          "shapedefaults": {
           "line": {
            "color": "#2a3f5f"
           }
          },
          "ternary": {
           "aaxis": {
            "gridcolor": "#DFE8F3",
            "linecolor": "#A2B1C6",
            "ticks": ""
           },
           "baxis": {
            "gridcolor": "#DFE8F3",
            "linecolor": "#A2B1C6",
            "ticks": ""
           },
           "bgcolor": "white",
           "caxis": {
            "gridcolor": "#DFE8F3",
            "linecolor": "#A2B1C6",
            "ticks": ""
           }
          },
          "title": {
           "x": 0.05
          },
          "xaxis": {
           "automargin": true,
           "gridcolor": "#EBF0F8",
           "linecolor": "#EBF0F8",
           "ticks": "",
           "title": {
            "standoff": 15
           },
           "zerolinecolor": "#EBF0F8",
           "zerolinewidth": 2
          },
          "yaxis": {
           "automargin": true,
           "gridcolor": "#EBF0F8",
           "linecolor": "#EBF0F8",
           "ticks": "",
           "title": {
            "standoff": 15
           },
           "zerolinecolor": "#EBF0F8",
           "zerolinewidth": 2
          }
         }
        },
        "title": {
         "font": {
          "family": "Arial Black",
          "size": 20
         },
         "text": "Call Theta vs Spot Price (AUD/USD)",
         "x": 0.5,
         "xanchor": "center"
        },
        "xaxis": {
         "title": {
          "text": "Spot Price"
         }
        },
        "yaxis": {
         "title": {
          "text": "Theta (per day)"
         }
        }
       }
      }
     },
     "metadata": {},
     "output_type": "display_data"
    }
   ],
   "source": [
    "# Call Theta vs Spot Price\n",
    "\n",
    "fig = go.Figure()\n",
    "\n",
    "for label, tau in d.items():\n",
    "    thetas = []\n",
    "    for s in x:\n",
    "        opt = BS(s, strike, rate, tau, vol)\n",
    "        thetas.append(opt.call_theta)  # 单位是 per day\n",
    "\n",
    "    fig.add_trace(go.Scatter(\n",
    "        x=x,\n",
    "        y=thetas,\n",
    "        mode='lines',\n",
    "        name=f\"{label}\"\n",
    "    ))\n",
    "\n",
    "fig.update_layout(\n",
    "    title=dict(\n",
    "        text='Call Theta vs Spot Price (AUD/USD)',\n",
    "        x=0.5,\n",
    "        xanchor='center',\n",
    "        font=dict(size=20, family='Arial Black')\n",
    "    ),\n",
    "    xaxis_title=\"Spot Price\",\n",
    "    yaxis_title=\"Theta (per day)\",\n",
    "    template=\"plotly_white\"\n",
    ")\n",
    "\n",
    "fig.show()"
   ]
  },
  {
   "cell_type": "code",
   "execution_count": 14,
   "metadata": {},
   "outputs": [
    {
     "data": {
      "application/vnd.plotly.v1+json": {
       "config": {
        "plotlyServerURL": "https://plot.ly"
       },
       "data": [
        {
         "mode": "lines",
         "name": "1D",
         "type": "scatter",
         "x": {
          "bdata": "AAAAcIzU4z8IH3xA8tnjPxA++BBY3+M/F1104b3k4z8ffPCxI+rjPyebbIKJ7+M/L7roUu/04z822WQjVfrjPz744PO6/+M/RhddxCAF5D9ONtmUhgrkP1VVVWXsD+Q/XXTRNVIV5D9lk00GuBrkP22yydYdIOQ/dNFFp4Ml5D988MF36SrkP4QPPkhPMOQ/jC66GLU15D+TTTbpGjvkP5tssrmAQOQ/o4suiuZF5D+rqqpaTEvkP7LJJiuyUOQ/uuii+xdW5D/CBx/MfVvkP8omm5zjYOQ/0UUXbUlm5D/ZZJM9r2vkP+GDDw4VceQ/6aKL3np25D/wwQev4HvkP/jgg39GgeQ/AAAAUKyG5D8IH3wgEozkPxA++PB3keQ/F110wd2W5D8ffPCRQ5zkPyebbGKpoeQ/L7roMg+n5D822WQDdazkPz744NPaseQ/RhddpEC35D9ONtl0przkP1VVVUUMwuQ/XXTRFXLH5D9lk03m18zkP22yybY90uQ/dNFFh6PX5D988MFXCd3kP4QPPihv4uQ/jC66+NTn5D+TTTbJOu3kP5tsspmg8uQ/o4suagb45D+rqqo6bP3kP7LJJgvSAuU/uuii2zcI5T/CBx+snQ3lP8omm3wDE+U/0kUXTWkY5T/ZZJMdzx3lP+GDD+40I+U/6aKLvpoo5T/wwQePAC7lP/jgg19mM+U/AAAAMMw45T8IH3wAMj7lPxA++NCXQ+U/F110of1I5T8ffPBxY07lPyebbELJU+U/L7roEi9Z5T822WTjlF7lPz744LP6Y+U/RhddhGBp5T9ONtlUxm7lP1VVVSUsdOU/XXTR9ZF55T9lk03G937lP22yyZZdhOU/dNFFZ8OJ5T988ME3KY/lP4QPPgiPlOU/jC662PSZ5T+TTTapWp/lP5tssnnApOU/o4suSiaq5T+rqqoajK/lP7LJJuvxtOU/uuiiu1e65T/CBx+Mvb/lP8omm1wjxeU/0kUXLYnK5T/ZZJP97s/lP+GDD85U1eU/6aKLnrra5T/wwQdvIODlP/jggz+G5eU/AAAAEOzq5T8=",
          "dtype": "f8"
         },
         "y": [
          8.040759902366547e-05,
          8.04075989008396e-05,
          8.040759859656264e-05,
          8.040759785850592e-05,
          8.04075961055464e-05,
          8.04075920286011e-05,
          8.040758274326966e-05,
          8.040756203339775e-05,
          8.040751679657943e-05,
          8.040742002281608e-05,
          8.040721725943516e-05,
          8.040680115523708e-05,
          8.040596476566285e-05,
          8.04043180405276e-05,
          8.040114226110398e-05,
          8.039514289294787e-05,
          8.03840410700313e-05,
          8.036391669019557e-05,
          8.032818167573158e-05,
          8.026602178643639e-05,
          8.016010364470934e-05,
          7.99833084313992e-05,
          7.969423803436042e-05,
          7.92312615368892e-05,
          7.850495242897876e-05,
          7.738893394507744e-05,
          7.570942191028487e-05,
          7.323414047856098e-05,
          6.966177450340585e-05,
          6.46136712632917e-05,
          5.763003555593092e-05,
          4.817326061385574e-05,
          3.5641160226997746e-05,
          1.9392565855438125e-05,
          -1.2130965875185806e-06,
          -2.676208932357983e-05,
          -5.772035408330899e-05,
          -9.435944781717017e-05,
          -0.00013668110160064154,
          -0.00018434915309128343,
          -0.0002366388256431608,
          -0.00029241326770530567,
          -0.0003501356392036937,
          -0.00040792179498691083,
          -0.00046363402844997706,
          -0.0005150109627690429,
          -0.0005598233089252214,
          -0.0005960407490138932,
          -0.0006219924839372163,
          -0.0006365035993833867,
          -0.0006389915675842002,
          -0.0006295116852219656,
          -0.0006087464019607982,
          -0.0005779403673398166,
          -0.0005387895398010246,
          -0.0004932978645275595,
          -0.0004436181052680533,
          -0.00039189406647486316,
          -0.00034011975045036103,
          -0.0002900274234512998,
          -0.00024301183894551867,
          -0.00020009281274053746,
          -0.00016191373534983015,
          -0.00012877003106195826,
          -0.00010065936366853848,
          -7.734460826302899e-05,
          -5.842108772017666e-05,
          -4.338098417667878e-05,
          -3.166978233173001e-05,
          -2.27316956849373e-05,
          -1.6042953344365504e-05,
          -1.1133372911179904e-05,
          -7.59771454127668e-06,
          -5.0988996455431e-06,
          -3.365351466396289e-06,
          -2.1845791679545267e-06,
          -1.3947977324085803e-06,
          -8.759578906078065e-07,
          -5.411355247128856e-07,
          -3.288529693324637e-07,
          -1.966039826995263e-07,
          -1.1563769750959817e-07,
          -6.691827743727047e-08,
          -3.810217239040101e-08,
          -2.1346945093674874e-08,
          -1.176857717326257e-08,
          -6.384626846871887e-09,
          -3.4087205853170846e-09,
          -1.7910697214192592e-09,
          -9.262315359441249e-10,
          -4.714474542472783e-10,
          -2.361969393975643e-10,
          -1.164831110052128e-10,
          -5.65483287309756e-11,
          -2.702495674081527e-11,
          -1.271507355402304e-11,
          -5.889813071455868e-12,
          -2.6861666742329775e-12,
          -1.2062384693603551e-12,
          -5.333619709787677e-13
         ]
        },
        {
         "mode": "lines",
         "name": "3M",
         "type": "scatter",
         "x": {
          "bdata": "AAAAcIzU4z8IH3xA8tnjPxA++BBY3+M/F1104b3k4z8ffPCxI+rjPyebbIKJ7+M/L7roUu/04z822WQjVfrjPz744PO6/+M/RhddxCAF5D9ONtmUhgrkP1VVVWXsD+Q/XXTRNVIV5D9lk00GuBrkP22yydYdIOQ/dNFFp4Ml5D988MF36SrkP4QPPkhPMOQ/jC66GLU15D+TTTbpGjvkP5tssrmAQOQ/o4suiuZF5D+rqqpaTEvkP7LJJiuyUOQ/uuii+xdW5D/CBx/MfVvkP8omm5zjYOQ/0UUXbUlm5D/ZZJM9r2vkP+GDDw4VceQ/6aKL3np25D/wwQev4HvkP/jgg39GgeQ/AAAAUKyG5D8IH3wgEozkPxA++PB3keQ/F110wd2W5D8ffPCRQ5zkPyebbGKpoeQ/L7roMg+n5D822WQDdazkPz744NPaseQ/RhddpEC35D9ONtl0przkP1VVVUUMwuQ/XXTRFXLH5D9lk03m18zkP22yybY90uQ/dNFFh6PX5D988MFXCd3kP4QPPihv4uQ/jC66+NTn5D+TTTbJOu3kP5tsspmg8uQ/o4suagb45D+rqqo6bP3kP7LJJgvSAuU/uuii2zcI5T/CBx+snQ3lP8omm3wDE+U/0kUXTWkY5T/ZZJMdzx3lP+GDD+40I+U/6aKLvpoo5T/wwQePAC7lP/jgg19mM+U/AAAAMMw45T8IH3wAMj7lPxA++NCXQ+U/F110of1I5T8ffPBxY07lPyebbELJU+U/L7roEi9Z5T822WTjlF7lPz744LP6Y+U/RhddhGBp5T9ONtlUxm7lP1VVVSUsdOU/XXTR9ZF55T9lk03G937lP22yyZZdhOU/dNFFZ8OJ5T988ME3KY/lP4QPPgiPlOU/jC662PSZ5T+TTTapWp/lP5tssnnApOU/o4suSiaq5T+rqqoajK/lP7LJJuvxtOU/uuiiu1e65T/CBx+Mvb/lP8omm1wjxeU/0kUXLYnK5T/ZZJP97s/lP+GDD85U1eU/6aKLnrra5T/wwQdvIODlP/jggz+G5eU/AAAAEOzq5T8=",
          "dtype": "f8"
         },
         "y": [
          -6.121463020330048e-06,
          -7.378716096212653e-06,
          -8.628679204996234e-06,
          -9.870658183120988e-06,
          -1.1103962848855742e-05,
          -1.2327907842756051e-05,
          -1.3541813462523349e-05,
          -1.4745006490734184e-05,
          -1.5936821013930626e-05,
          -1.7116599231575984e-05,
          -1.8283692253412563e-05,
          -1.943746088377889e-05,
          -2.057727639147932e-05,
          -2.1702521263828224e-05,
          -2.281258994353617e-05,
          -2.3906889547136944e-05,
          -2.498484056370527e-05,
          -2.604587753265605e-05,
          -2.708944969946896e-05,
          -2.8115021648231494e-05,
          -2.9122073909947373e-05,
          -3.01101035456132e-05,
          -3.1078624703126695e-05,
          -3.202716914714527e-05,
          -3.2955286761081676e-05,
          -3.38625460204764e-05,
          -3.474853443706454e-05,
          -3.5612858972907286e-05,
          -3.645514642403317e-05,
          -3.7275043773096914e-05,
          -3.807221851063398e-05,
          -3.884635892455644e-05,
          -3.959717435760239e-05,
          -4.032439543252145e-05,
          -4.102777424484709e-05,
          -4.1707084523172335e-05,
          -4.2362121756915455e-05,
          -4.299270329162584e-05,
          -4.359866839194815e-05,
          -4.4179878272427e-05,
          -4.473621609639733e-05,
          -4.526758694326883e-05,
          -4.5773917744571585e-05,
          -4.625515718919191e-05,
          -4.671127559828191e-05,
          -4.714226477038465e-05,
          -4.754813779736607e-05,
          -4.7928928851801585e-05,
          -4.8284692946509696e-05,
          -4.861550566697457e-05,
          -4.892146287744258e-05,
          -4.920268040152108e-05,
          -4.945929367814644e-05,
          -4.969145739382498e-05,
          -4.989934509208541e-05,
          -5.008314876111314e-05,
          -5.0243078400564774e-05,
          -5.037936156858827e-05,
          -5.0492242910096785e-05,
          -5.058198366736599e-05,
          -5.064886117404098e-05,
          -5.069316833365564e-05,
          -5.071521308377851e-05,
          -5.07153178469091e-05,
          -5.0693818969256185e-05,
          -5.0651066148532845e-05,
          -5.058742185190554e-05,
          -5.0503260725232956e-05,
          -5.03989689947277e-05,
          -5.027494386216683e-05,
          -5.013159289477002e-05,
          -4.9969333410853636e-05,
          -4.978859186235457e-05,
          -4.958980321530454e-05,
          -4.937341032931772e-05,
          -4.913986333713537e-05,
          -4.8889619025249705e-05,
          -4.8623140216607956e-05,
          -4.834089515637137e-05,
          -4.80433569016795e-05,
          -4.773100271634043e-05,
          -4.74043134713405e-05,
          -4.7063773052036474e-05,
          -4.6709867772860835e-05,
          -4.634308580033784e-05,
          -4.596391658517775e-05,
          -4.5572850304176865e-05,
          -4.5170377312621545e-05,
          -4.475698760785357e-05,
          -4.433317030462206e-05,
          -4.389941312280637e-05,
          -4.3456201888061016e-05,
          -4.30040200458933e-05,
          -4.254334818964805e-05,
          -4.207466360283561e-05,
          -4.159843981620316e-05,
          -4.111514617990983e-05,
          -4.062524745112966e-05,
          -4.0129203397369065e-05,
          -3.962746841575229e-05
         ]
        },
        {
         "mode": "lines",
         "name": "6M",
         "type": "scatter",
         "x": {
          "bdata": "AAAAcIzU4z8IH3xA8tnjPxA++BBY3+M/F1104b3k4z8ffPCxI+rjPyebbIKJ7+M/L7roUu/04z822WQjVfrjPz744PO6/+M/RhddxCAF5D9ONtmUhgrkP1VVVWXsD+Q/XXTRNVIV5D9lk00GuBrkP22yydYdIOQ/dNFFp4Ml5D988MF36SrkP4QPPkhPMOQ/jC66GLU15D+TTTbpGjvkP5tssrmAQOQ/o4suiuZF5D+rqqpaTEvkP7LJJiuyUOQ/uuii+xdW5D/CBx/MfVvkP8omm5zjYOQ/0UUXbUlm5D/ZZJM9r2vkP+GDDw4VceQ/6aKL3np25D/wwQev4HvkP/jgg39GgeQ/AAAAUKyG5D8IH3wgEozkPxA++PB3keQ/F110wd2W5D8ffPCRQ5zkPyebbGKpoeQ/L7roMg+n5D822WQDdazkPz744NPaseQ/RhddpEC35D9ONtl0przkP1VVVUUMwuQ/XXTRFXLH5D9lk03m18zkP22yybY90uQ/dNFFh6PX5D988MFXCd3kP4QPPihv4uQ/jC66+NTn5D+TTTbJOu3kP5tsspmg8uQ/o4suagb45D+rqqo6bP3kP7LJJgvSAuU/uuii2zcI5T/CBx+snQ3lP8omm3wDE+U/0kUXTWkY5T/ZZJMdzx3lP+GDD+40I+U/6aKLvpoo5T/wwQePAC7lP/jgg19mM+U/AAAAMMw45T8IH3wAMj7lPxA++NCXQ+U/F110of1I5T8ffPBxY07lPyebbELJU+U/L7roEi9Z5T822WTjlF7lPz744LP6Y+U/RhddhGBp5T9ONtlUxm7lP1VVVSUsdOU/XXTR9ZF55T9lk03G937lP22yyZZdhOU/dNFFZ8OJ5T988ME3KY/lP4QPPgiPlOU/jC662PSZ5T+TTTapWp/lP5tssnnApOU/o4suSiaq5T+rqqoajK/lP7LJJuvxtOU/uuiiu1e65T/CBx+Mvb/lP8omm1wjxeU/0kUXLYnK5T/ZZJP97s/lP+GDD85U1eU/6aKLnrra5T/wwQdvIODlP/jggz+G5eU/AAAAEOzq5T8=",
          "dtype": "f8"
         },
         "y": [
          -3.98715154364501e-06,
          -4.612517241519036e-06,
          -5.231440516369211e-06,
          -5.843778590775577e-06,
          -6.449391955850405e-06,
          -7.0481444426542275e-06,
          -7.639903290714771e-06,
          -8.224539213603817e-06,
          -8.801926461532124e-06,
          -9.371942880923023e-06,
          -9.93446997093303e-06,
          -1.0489392936887811e-05,
          -1.1036600740607667e-05,
          -1.1575986147597845e-05,
          -1.2107445771086649e-05,
          -1.2630880112892616e-05,
          -1.3146193601110144e-05,
          -1.3653294624603282e-05,
          -1.4152095564302913e-05,
          -1.4642512821305174e-05,
          -1.5124466841771915e-05,
          -1.5597882138638063e-05,
          -1.6062687310134418e-05,
          -1.6518815055135932e-05,
          -1.6966202185352194e-05,
          -1.7404789634374253e-05,
          -1.7834522463602667e-05,
          -1.825534986507746e-05,
          -1.866722516123832e-05,
          -1.9070105801644313e-05,
          -1.9463953356685662e-05,
          -1.9848733508323566e-05,
          -2.0224416037895142e-05,
          -2.0590974811024674e-05,
          -2.0948387759684418e-05,
          -2.1296636861450353e-05,
          -2.1635708116001256e-05,
          -2.19655915189109e-05,
          -2.228628103278581e-05,
          -2.2597774555803807e-05,
          -2.2900073887708944e-05,
          -2.3193184693322247e-05,
          -2.3477116463627366e-05,
          -2.375188247449413e-05,
          -2.401749974310288e-05,
          -2.427398898213543e-05,
          -2.4521374551797775e-05,
          -2.4759684409744178e-05,
          -2.498895005897009e-05,
          -2.5209206493745143e-05,
          -2.5420492143656696e-05,
          -2.562284881583638e-05,
          -2.5816321635442836e-05,
          -2.6000958984473668e-05,
          -2.6176812438981312e-05,
          -2.6343936704767857e-05,
          -2.6502389551633743e-05,
          -2.665223174625608e-05,
          -2.6793526983772466e-05,
          -2.692634181814655e-05,
          -2.70507455913914e-05,
          -2.7166810361726416e-05,
          -2.7274610830744618e-05,
          -2.7374224269665236e-05,
          -2.7465730444747953e-05,
          -2.7549211541943657e-05,
          -2.7624752090856273e-05,
          -2.769243888809079e-05,
          -2.7752360920060085e-05,
          -2.780460928532467e-05,
          -2.784927711653688e-05,
          -2.7886459502061506e-05,
          -2.7916253407343505e-05,
          -2.7938757596092294e-05,
          -2.7954072551351757e-05,
          -2.796230039652335e-05,
          -2.796354481640917e-05,
          -2.79579109783403e-05,
          -2.794550545345489e-05,
          -2.792643613818871e-05,
          -2.790081217604006e-05,
          -2.7868743879669276e-05,
          -2.783034265339195e-05,
          -2.7785720916123255e-05,
          -2.7734992024829293e-05,
          -2.767827019854063e-05,
          -2.7615670442980178e-05,
          -2.7547308475857717e-05,
          -2.7473300652880294e-05,
          -2.739376389452753e-05,
          -2.7308815613637558e-05,
          -2.7218573643849398e-05,
          -2.712315616894483e-05,
          -2.70226816531313e-05,
          -2.6917268772305905e-05,
          -2.6807036346338973e-05,
          -2.6692103272413497e-05,
          -2.6572588459455567e-05,
          -2.644861076368833e-05,
          -2.6320288925342143e-05
         ]
        },
        {
         "mode": "lines",
         "name": "9M",
         "type": "scatter",
         "x": {
          "bdata": "AAAAcIzU4z8IH3xA8tnjPxA++BBY3+M/F1104b3k4z8ffPCxI+rjPyebbIKJ7+M/L7roUu/04z822WQjVfrjPz744PO6/+M/RhddxCAF5D9ONtmUhgrkP1VVVWXsD+Q/XXTRNVIV5D9lk00GuBrkP22yydYdIOQ/dNFFp4Ml5D988MF36SrkP4QPPkhPMOQ/jC66GLU15D+TTTbpGjvkP5tssrmAQOQ/o4suiuZF5D+rqqpaTEvkP7LJJiuyUOQ/uuii+xdW5D/CBx/MfVvkP8omm5zjYOQ/0UUXbUlm5D/ZZJM9r2vkP+GDDw4VceQ/6aKL3np25D/wwQev4HvkP/jgg39GgeQ/AAAAUKyG5D8IH3wgEozkPxA++PB3keQ/F110wd2W5D8ffPCRQ5zkPyebbGKpoeQ/L7roMg+n5D822WQDdazkPz744NPaseQ/RhddpEC35D9ONtl0przkP1VVVUUMwuQ/XXTRFXLH5D9lk03m18zkP22yybY90uQ/dNFFh6PX5D988MFXCd3kP4QPPihv4uQ/jC66+NTn5D+TTTbJOu3kP5tsspmg8uQ/o4suagb45D+rqqo6bP3kP7LJJgvSAuU/uuii2zcI5T/CBx+snQ3lP8omm3wDE+U/0kUXTWkY5T/ZZJMdzx3lP+GDD+40I+U/6aKLvpoo5T/wwQePAC7lP/jgg19mM+U/AAAAMMw45T8IH3wAMj7lPxA++NCXQ+U/F110of1I5T8ffPBxY07lPyebbELJU+U/L7roEi9Z5T822WTjlF7lPz744LP6Y+U/RhddhGBp5T9ONtlUxm7lP1VVVSUsdOU/XXTR9ZF55T9lk03G937lP22yyZZdhOU/dNFFZ8OJ5T988ME3KY/lP4QPPgiPlOU/jC662PSZ5T+TTTapWp/lP5tssnnApOU/o4suSiaq5T+rqqoajK/lP7LJJuvxtOU/uuiiu1e65T/CBx+Mvb/lP8omm1wjxeU/0kUXLYnK5T/ZZJP97s/lP+GDD85U1eU/6aKLnrra5T/wwQdvIODlP/jggz+G5eU/AAAAEOzq5T8=",
          "dtype": "f8"
         },
         "y": [
          -9.376484813389738e-07,
          -1.350446327532572e-06,
          -1.7588125754407822e-06,
          -2.1626996649692616e-06,
          -2.562061576765355e-06,
          -2.956853841333787e-06,
          -3.3470335472953885e-06,
          -3.732559348790148e-06,
          -4.113391472028562e-06,
          -4.489491720993609e-06,
          -4.8608234822986845e-06,
          -5.227351729205317e-06,
          -5.5890430248065376e-06,
          -5.945865524380828e-06,
          -6.297788976924265e-06,
          -6.644784725866331e-06,
          -6.98682570897794e-06,
          -7.323886457478488e-06,
          -7.655943094351002e-06,
          -7.982973331874221e-06,
          -8.30495646838038e-06,
          -8.621873384248618e-06,
          -8.933706537144544e-06,
          -9.240439956515968e-06,
          -9.542059237356547e-06,
          -9.838551533247305e-06,
          -1.012990554868977e-05,
          -1.0416111530741038e-05,
          -1.069716125996436e-05,
          -1.0973048040707337e-05,
          -1.1243766690721268e-05,
          -1.1509313530135083e-05,
          -1.17696863697973e-05,
          -1.2024884498999818e-05,
          -1.2274908672598437e-05,
          -1.251976109754396e-05,
          -1.2759445418838837e-05,
          -1.2993966704934324e-05,
          -1.3223331432582874e-05,
          -1.3447547471161614e-05,
          -1.3666624066481845e-05,
          -1.3880571824100865e-05,
          -1.4089402692150711e-05,
          -1.4293129943701021e-05,
          -1.449176815867098e-05,
          -1.4685333205307283e-05,
          -1.487384222124307e-05,
          -1.5057313594155602e-05,
          -1.523576694203758e-05,
          -1.540922309309939e-05,
          -1.5577704065317962e-05,
          -1.5741233045648907e-05,
          -1.5899834368918488e-05,
          -1.6053533496411345e-05,
          -1.6202356994170375e-05,
          -1.6346332511025386e-05,
          -1.6485488756366477e-05,
          -1.661985547767842e-05,
          -1.674946343785178e-05,
          -1.68743443922875e-05,
          -1.699453106581032e-05,
          -1.711005712940686e-05,
          -1.72209571768044e-05,
          -1.732726670090558e-05,
          -1.742902207009455e-05,
          -1.7526260504430098e-05,
          -1.7619020051740364e-05,
          -1.7707339563634733e-05,
          -1.7791258671447105e-05,
          -1.787081776212559e-05,
          -1.79460579540829e-05,
          -1.801702107302139e-05,
          -1.808374962774728e-05,
          -1.8146286785987463e-05,
          -1.820467635022263e-05,
          -1.825896273354992e-05,
          -1.8309190935588555e-05,
          -1.8355406518440922e-05,
          -1.8397655582722098e-05,
          -1.8435984743669968e-05,
          -1.8470441107348176e-05,
          -1.8501072246953884e-05,
          -1.852792617924167e-05,
          -1.8551051341075314e-05,
          -1.8570496566118153e-05,
          -1.8586311061673088e-05,
          -1.8598544385682722e-05,
          -1.860724642389969e-05,
          -1.8612467367237465e-05,
          -1.8614257689310965e-05,
          -1.8612668124176688e-05,
          -1.8607749644281268e-05,
          -1.8599553438627296e-05,
          -1.858813089116505e-05,
          -1.8573533559418087e-05,
          -1.855581315335108e-05,
          -1.8535021514487126e-05,
          -1.851121059528206e-05,
          -1.8484432438762748e-05,
          -1.8454739158436423e-05
         ]
        },
        {
         "mode": "lines",
         "name": "12M",
         "type": "scatter",
         "x": {
          "bdata": "AAAAcIzU4z8IH3xA8tnjPxA++BBY3+M/F1104b3k4z8ffPCxI+rjPyebbIKJ7+M/L7roUu/04z822WQjVfrjPz744PO6/+M/RhddxCAF5D9ONtmUhgrkP1VVVWXsD+Q/XXTRNVIV5D9lk00GuBrkP22yydYdIOQ/dNFFp4Ml5D988MF36SrkP4QPPkhPMOQ/jC66GLU15D+TTTbpGjvkP5tssrmAQOQ/o4suiuZF5D+rqqpaTEvkP7LJJiuyUOQ/uuii+xdW5D/CBx/MfVvkP8omm5zjYOQ/0UUXbUlm5D/ZZJM9r2vkP+GDDw4VceQ/6aKL3np25D/wwQev4HvkP/jgg39GgeQ/AAAAUKyG5D8IH3wgEozkPxA++PB3keQ/F110wd2W5D8ffPCRQ5zkPyebbGKpoeQ/L7roMg+n5D822WQDdazkPz744NPaseQ/RhddpEC35D9ONtl0przkP1VVVUUMwuQ/XXTRFXLH5D9lk03m18zkP22yybY90uQ/dNFFh6PX5D988MFXCd3kP4QPPihv4uQ/jC66+NTn5D+TTTbJOu3kP5tsspmg8uQ/o4suagb45D+rqqo6bP3kP7LJJgvSAuU/uuii2zcI5T/CBx+snQ3lP8omm3wDE+U/0kUXTWkY5T/ZZJMdzx3lP+GDD+40I+U/6aKLvpoo5T/wwQePAC7lP/jgg19mM+U/AAAAMMw45T8IH3wAMj7lPxA++NCXQ+U/F110of1I5T8ffPBxY07lPyebbELJU+U/L7roEi9Z5T822WTjlF7lPz744LP6Y+U/RhddhGBp5T9ONtlUxm7lP1VVVSUsdOU/XXTR9ZF55T9lk03G937lP22yyZZdhOU/dNFFZ8OJ5T988ME3KY/lP4QPPgiPlOU/jC662PSZ5T+TTTapWp/lP5tssnnApOU/o4suSiaq5T+rqqoajK/lP7LJJuvxtOU/uuiiu1e65T/CBx+Mvb/lP8omm1wjxeU/0kUXLYnK5T/ZZJP97s/lP+GDD85U1eU/6aKLnrra5T/wwQdvIODlP/jggz+G5eU/AAAAEOzq5T8=",
          "dtype": "f8"
         },
         "y": [
          1.2450039138335019e-06,
          9.360671914778401e-07,
          6.303617852283488e-07,
          3.2790699427330273e-07,
          2.8721292179708327e-08,
          -2.6717767274626844e-07,
          -5.597730767842522e-07,
          -8.490489198125055e-07,
          -1.134990024013236e-06,
          -1.4175820322728384e-06,
          -1.6968114062820506e-06,
          -1.9726654243390886e-06,
          -2.2451321788604618e-06,
          -2.514200573602792e-06,
          -2.7798603206009893e-06,
          -3.042101936826164e-06,
          -3.3009167405684287e-06,
          -3.556296847548571e-06,
          -3.808235166763824e-06,
          -4.056725396072185e-06,
          -4.301762017520241e-06,
          -4.543340292418989e-06,
          -4.78145625617344e-06,
          -5.016106712870171e-06,
          -5.247289229629069e-06,
          -5.475002130722829e-06,
          -5.699244491471257e-06,
          -5.920016131914443e-06,
          -6.137317610270727e-06,
          -6.3511502161845135e-06,
          -6.561515963769688e-06,
          -6.768417584454115e-06,
          -6.971858519630509e-06,
          -7.171842913119282e-06,
          -7.368375603449243e-06,
          -7.561462115961343e-06,
          -7.751108654741469e-06,
          -7.937322094387666e-06,
          -8.120109971617492e-06,
          -8.299480476721301e-06,
          -8.475442444866952e-06,
          -8.648005347261915e-06,
          -8.817179282177883e-06,
          -8.982974965844247e-06,
          -9.14540372321549e-06,
          -9.304477478618771e-06,
          -9.460208746286457e-06,
          -9.6126106207802e-06,
          -9.761696767311496e-06,
          -9.90748141196451e-06,
          -1.0049979331826671e-05,
          -1.0189205845032527e-05,
          -1.0325176800726583e-05,
          -1.0457908568950202e-05,
          -1.0587418030458038e-05,
          -1.0713722566469723e-05,
          -1.0836840048361802e-05,
          -1.0956788827305206e-05,
          -1.1073587723853518e-05,
          -1.1187256017487378e-05,
          -1.1297813436120084e-05,
          -1.140528014556911e-05,
          -1.1509676738999248e-05,
          -1.1611024226341585e-05,
          -1.1709344023693719e-05,
          -1.180465794270602e-05,
          -1.18969881799582e-05,
          -1.1986357306331705e-05,
          -1.2072788256381724e-05,
          -1.2156304317714056e-05,
          -1.2236929120370977e-05,
          -1.2314686626230448e-05,
          -1.2389601118423363e-05,
          -1.2461697190772782e-05,
          -1.2530999737259529e-05,
          -1.2597533941518166e-05,
          -1.2661325266367378e-05,
          -1.2722399443378948e-05,
          -1.2780782462488845e-05,
          -1.2836500561654452e-05,
          -1.2889580216561643e-05,
          -1.2940048130385277e-05,
          -1.298793122360667e-05,
          -1.3033256623891486e-05,
          -1.3076051656031513e-05,
          -1.3116343831953568e-05,
          -1.3154160840798633e-05,
          -1.3189530539074556e-05,
          -1.3222480940885217e-05,
          -1.3253040208239038e-05,
          -1.3281236641439971e-05,
          -1.330709866956342e-05,
          -1.3330654841019942e-05,
          -1.3351933814209462e-05,
          -1.3370964348268184e-05,
          -1.3387775293910965e-05,
          -1.3402395584371261e-05,
          -1.3414854226441087e-05,
          -1.3425180291612958e-05,
          -1.3433402907326126e-05
         ]
        }
       ],
       "layout": {
        "template": {
         "data": {
          "bar": [
           {
            "error_x": {
             "color": "#2a3f5f"
            },
            "error_y": {
             "color": "#2a3f5f"
            },
            "marker": {
             "line": {
              "color": "white",
              "width": 0.5
             },
             "pattern": {
              "fillmode": "overlay",
              "size": 10,
              "solidity": 0.2
             }
            },
            "type": "bar"
           }
          ],
          "barpolar": [
           {
            "marker": {
             "line": {
              "color": "white",
              "width": 0.5
             },
             "pattern": {
              "fillmode": "overlay",
              "size": 10,
              "solidity": 0.2
             }
            },
            "type": "barpolar"
           }
          ],
          "carpet": [
           {
            "aaxis": {
             "endlinecolor": "#2a3f5f",
             "gridcolor": "#C8D4E3",
             "linecolor": "#C8D4E3",
             "minorgridcolor": "#C8D4E3",
             "startlinecolor": "#2a3f5f"
            },
            "baxis": {
             "endlinecolor": "#2a3f5f",
             "gridcolor": "#C8D4E3",
             "linecolor": "#C8D4E3",
             "minorgridcolor": "#C8D4E3",
             "startlinecolor": "#2a3f5f"
            },
            "type": "carpet"
           }
          ],
          "choropleth": [
           {
            "colorbar": {
             "outlinewidth": 0,
             "ticks": ""
            },
            "type": "choropleth"
           }
          ],
          "contour": [
           {
            "colorbar": {
             "outlinewidth": 0,
             "ticks": ""
            },
            "colorscale": [
             [
              0,
              "#0d0887"
             ],
             [
              0.1111111111111111,
              "#46039f"
             ],
             [
              0.2222222222222222,
              "#7201a8"
             ],
             [
              0.3333333333333333,
              "#9c179e"
             ],
             [
              0.4444444444444444,
              "#bd3786"
             ],
             [
              0.5555555555555556,
              "#d8576b"
             ],
             [
              0.6666666666666666,
              "#ed7953"
             ],
             [
              0.7777777777777778,
              "#fb9f3a"
             ],
             [
              0.8888888888888888,
              "#fdca26"
             ],
             [
              1,
              "#f0f921"
             ]
            ],
            "type": "contour"
           }
          ],
          "contourcarpet": [
           {
            "colorbar": {
             "outlinewidth": 0,
             "ticks": ""
            },
            "type": "contourcarpet"
           }
          ],
          "heatmap": [
           {
            "colorbar": {
             "outlinewidth": 0,
             "ticks": ""
            },
            "colorscale": [
             [
              0,
              "#0d0887"
             ],
             [
              0.1111111111111111,
              "#46039f"
             ],
             [
              0.2222222222222222,
              "#7201a8"
             ],
             [
              0.3333333333333333,
              "#9c179e"
             ],
             [
              0.4444444444444444,
              "#bd3786"
             ],
             [
              0.5555555555555556,
              "#d8576b"
             ],
             [
              0.6666666666666666,
              "#ed7953"
             ],
             [
              0.7777777777777778,
              "#fb9f3a"
             ],
             [
              0.8888888888888888,
              "#fdca26"
             ],
             [
              1,
              "#f0f921"
             ]
            ],
            "type": "heatmap"
           }
          ],
          "histogram": [
           {
            "marker": {
             "pattern": {
              "fillmode": "overlay",
              "size": 10,
              "solidity": 0.2
             }
            },
            "type": "histogram"
           }
          ],
          "histogram2d": [
           {
            "colorbar": {
             "outlinewidth": 0,
             "ticks": ""
            },
            "colorscale": [
             [
              0,
              "#0d0887"
             ],
             [
              0.1111111111111111,
              "#46039f"
             ],
             [
              0.2222222222222222,
              "#7201a8"
             ],
             [
              0.3333333333333333,
              "#9c179e"
             ],
             [
              0.4444444444444444,
              "#bd3786"
             ],
             [
              0.5555555555555556,
              "#d8576b"
             ],
             [
              0.6666666666666666,
              "#ed7953"
             ],
             [
              0.7777777777777778,
              "#fb9f3a"
             ],
             [
              0.8888888888888888,
              "#fdca26"
             ],
             [
              1,
              "#f0f921"
             ]
            ],
            "type": "histogram2d"
           }
          ],
          "histogram2dcontour": [
           {
            "colorbar": {
             "outlinewidth": 0,
             "ticks": ""
            },
            "colorscale": [
             [
              0,
              "#0d0887"
             ],
             [
              0.1111111111111111,
              "#46039f"
             ],
             [
              0.2222222222222222,
              "#7201a8"
             ],
             [
              0.3333333333333333,
              "#9c179e"
             ],
             [
              0.4444444444444444,
              "#bd3786"
             ],
             [
              0.5555555555555556,
              "#d8576b"
             ],
             [
              0.6666666666666666,
              "#ed7953"
             ],
             [
              0.7777777777777778,
              "#fb9f3a"
             ],
             [
              0.8888888888888888,
              "#fdca26"
             ],
             [
              1,
              "#f0f921"
             ]
            ],
            "type": "histogram2dcontour"
           }
          ],
          "mesh3d": [
           {
            "colorbar": {
             "outlinewidth": 0,
             "ticks": ""
            },
            "type": "mesh3d"
           }
          ],
          "parcoords": [
           {
            "line": {
             "colorbar": {
              "outlinewidth": 0,
              "ticks": ""
             }
            },
            "type": "parcoords"
           }
          ],
          "pie": [
           {
            "automargin": true,
            "type": "pie"
           }
          ],
          "scatter": [
           {
            "fillpattern": {
             "fillmode": "overlay",
             "size": 10,
             "solidity": 0.2
            },
            "type": "scatter"
           }
          ],
          "scatter3d": [
           {
            "line": {
             "colorbar": {
              "outlinewidth": 0,
              "ticks": ""
             }
            },
            "marker": {
             "colorbar": {
              "outlinewidth": 0,
              "ticks": ""
             }
            },
            "type": "scatter3d"
           }
          ],
          "scattercarpet": [
           {
            "marker": {
             "colorbar": {
              "outlinewidth": 0,
              "ticks": ""
             }
            },
            "type": "scattercarpet"
           }
          ],
          "scattergeo": [
           {
            "marker": {
             "colorbar": {
              "outlinewidth": 0,
              "ticks": ""
             }
            },
            "type": "scattergeo"
           }
          ],
          "scattergl": [
           {
            "marker": {
             "colorbar": {
              "outlinewidth": 0,
              "ticks": ""
             }
            },
            "type": "scattergl"
           }
          ],
          "scattermap": [
           {
            "marker": {
             "colorbar": {
              "outlinewidth": 0,
              "ticks": ""
             }
            },
            "type": "scattermap"
           }
          ],
          "scattermapbox": [
           {
            "marker": {
             "colorbar": {
              "outlinewidth": 0,
              "ticks": ""
             }
            },
            "type": "scattermapbox"
           }
          ],
          "scatterpolar": [
           {
            "marker": {
             "colorbar": {
              "outlinewidth": 0,
              "ticks": ""
             }
            },
            "type": "scatterpolar"
           }
          ],
          "scatterpolargl": [
           {
            "marker": {
             "colorbar": {
              "outlinewidth": 0,
              "ticks": ""
             }
            },
            "type": "scatterpolargl"
           }
          ],
          "scatterternary": [
           {
            "marker": {
             "colorbar": {
              "outlinewidth": 0,
              "ticks": ""
             }
            },
            "type": "scatterternary"
           }
          ],
          "surface": [
           {
            "colorbar": {
             "outlinewidth": 0,
             "ticks": ""
            },
            "colorscale": [
             [
              0,
              "#0d0887"
             ],
             [
              0.1111111111111111,
              "#46039f"
             ],
             [
              0.2222222222222222,
              "#7201a8"
             ],
             [
              0.3333333333333333,
              "#9c179e"
             ],
             [
              0.4444444444444444,
              "#bd3786"
             ],
             [
              0.5555555555555556,
              "#d8576b"
             ],
             [
              0.6666666666666666,
              "#ed7953"
             ],
             [
              0.7777777777777778,
              "#fb9f3a"
             ],
             [
              0.8888888888888888,
              "#fdca26"
             ],
             [
              1,
              "#f0f921"
             ]
            ],
            "type": "surface"
           }
          ],
          "table": [
           {
            "cells": {
             "fill": {
              "color": "#EBF0F8"
             },
             "line": {
              "color": "white"
             }
            },
            "header": {
             "fill": {
              "color": "#C8D4E3"
             },
             "line": {
              "color": "white"
             }
            },
            "type": "table"
           }
          ]
         },
         "layout": {
          "annotationdefaults": {
           "arrowcolor": "#2a3f5f",
           "arrowhead": 0,
           "arrowwidth": 1
          },
          "autotypenumbers": "strict",
          "coloraxis": {
           "colorbar": {
            "outlinewidth": 0,
            "ticks": ""
           }
          },
          "colorscale": {
           "diverging": [
            [
             0,
             "#8e0152"
            ],
            [
             0.1,
             "#c51b7d"
            ],
            [
             0.2,
             "#de77ae"
            ],
            [
             0.3,
             "#f1b6da"
            ],
            [
             0.4,
             "#fde0ef"
            ],
            [
             0.5,
             "#f7f7f7"
            ],
            [
             0.6,
             "#e6f5d0"
            ],
            [
             0.7,
             "#b8e186"
            ],
            [
             0.8,
             "#7fbc41"
            ],
            [
             0.9,
             "#4d9221"
            ],
            [
             1,
             "#276419"
            ]
           ],
           "sequential": [
            [
             0,
             "#0d0887"
            ],
            [
             0.1111111111111111,
             "#46039f"
            ],
            [
             0.2222222222222222,
             "#7201a8"
            ],
            [
             0.3333333333333333,
             "#9c179e"
            ],
            [
             0.4444444444444444,
             "#bd3786"
            ],
            [
             0.5555555555555556,
             "#d8576b"
            ],
            [
             0.6666666666666666,
             "#ed7953"
            ],
            [
             0.7777777777777778,
             "#fb9f3a"
            ],
            [
             0.8888888888888888,
             "#fdca26"
            ],
            [
             1,
             "#f0f921"
            ]
           ],
           "sequentialminus": [
            [
             0,
             "#0d0887"
            ],
            [
             0.1111111111111111,
             "#46039f"
            ],
            [
             0.2222222222222222,
             "#7201a8"
            ],
            [
             0.3333333333333333,
             "#9c179e"
            ],
            [
             0.4444444444444444,
             "#bd3786"
            ],
            [
             0.5555555555555556,
             "#d8576b"
            ],
            [
             0.6666666666666666,
             "#ed7953"
            ],
            [
             0.7777777777777778,
             "#fb9f3a"
            ],
            [
             0.8888888888888888,
             "#fdca26"
            ],
            [
             1,
             "#f0f921"
            ]
           ]
          },
          "colorway": [
           "#636efa",
           "#EF553B",
           "#00cc96",
           "#ab63fa",
           "#FFA15A",
           "#19d3f3",
           "#FF6692",
           "#B6E880",
           "#FF97FF",
           "#FECB52"
          ],
          "font": {
           "color": "#2a3f5f"
          },
          "geo": {
           "bgcolor": "white",
           "lakecolor": "white",
           "landcolor": "white",
           "showlakes": true,
           "showland": true,
           "subunitcolor": "#C8D4E3"
          },
          "hoverlabel": {
           "align": "left"
          },
          "hovermode": "closest",
          "mapbox": {
           "style": "light"
          },
          "paper_bgcolor": "white",
          "plot_bgcolor": "white",
          "polar": {
           "angularaxis": {
            "gridcolor": "#EBF0F8",
            "linecolor": "#EBF0F8",
            "ticks": ""
           },
           "bgcolor": "white",
           "radialaxis": {
            "gridcolor": "#EBF0F8",
            "linecolor": "#EBF0F8",
            "ticks": ""
           }
          },
          "scene": {
           "xaxis": {
            "backgroundcolor": "white",
            "gridcolor": "#DFE8F3",
            "gridwidth": 2,
            "linecolor": "#EBF0F8",
            "showbackground": true,
            "ticks": "",
            "zerolinecolor": "#EBF0F8"
           },
           "yaxis": {
            "backgroundcolor": "white",
            "gridcolor": "#DFE8F3",
            "gridwidth": 2,
            "linecolor": "#EBF0F8",
            "showbackground": true,
            "ticks": "",
            "zerolinecolor": "#EBF0F8"
           },
           "zaxis": {
            "backgroundcolor": "white",
            "gridcolor": "#DFE8F3",
            "gridwidth": 2,
            "linecolor": "#EBF0F8",
            "showbackground": true,
            "ticks": "",
            "zerolinecolor": "#EBF0F8"
           }
          },
          "shapedefaults": {
           "line": {
            "color": "#2a3f5f"
           }
          },
          "ternary": {
           "aaxis": {
            "gridcolor": "#DFE8F3",
            "linecolor": "#A2B1C6",
            "ticks": ""
           },
           "baxis": {
            "gridcolor": "#DFE8F3",
            "linecolor": "#A2B1C6",
            "ticks": ""
           },
           "bgcolor": "white",
           "caxis": {
            "gridcolor": "#DFE8F3",
            "linecolor": "#A2B1C6",
            "ticks": ""
           }
          },
          "title": {
           "x": 0.05
          },
          "xaxis": {
           "automargin": true,
           "gridcolor": "#EBF0F8",
           "linecolor": "#EBF0F8",
           "ticks": "",
           "title": {
            "standoff": 15
           },
           "zerolinecolor": "#EBF0F8",
           "zerolinewidth": 2
          },
          "yaxis": {
           "automargin": true,
           "gridcolor": "#EBF0F8",
           "linecolor": "#EBF0F8",
           "ticks": "",
           "title": {
            "standoff": 15
           },
           "zerolinecolor": "#EBF0F8",
           "zerolinewidth": 2
          }
         }
        },
        "title": {
         "font": {
          "family": "Arial Black",
          "size": 20
         },
         "text": "Put Theta vs Spot Price (AUD/USD)",
         "x": 0.5,
         "xanchor": "center"
        },
        "xaxis": {
         "title": {
          "text": "Spot Price"
         }
        },
        "yaxis": {
         "title": {
          "text": "Theta (per day)"
         }
        }
       }
      }
     },
     "metadata": {},
     "output_type": "display_data"
    }
   ],
   "source": [
    "# Put Theta vs Spot Price\n",
    "\n",
    "fig = go.Figure()\n",
    "\n",
    "for label, tau in d.items():\n",
    "    thetas = []\n",
    "    for s in x:\n",
    "        opt = BS(s, strike, rate, tau, vol)\n",
    "        thetas.append(opt.put_theta)\n",
    "\n",
    "    fig.add_trace(go.Scatter(\n",
    "        x=x,\n",
    "        y=thetas,\n",
    "        mode='lines',\n",
    "        name=f\"{label}\"\n",
    "    ))\n",
    "\n",
    "fig.update_layout(\n",
    "    title=dict(\n",
    "        text='Put Theta vs Spot Price (AUD/USD)',\n",
    "        x=0.5,\n",
    "        xanchor='center',\n",
    "        font=dict(size=20, family='Arial Black')\n",
    "    ),\n",
    "    xaxis_title=\"Spot Price\",\n",
    "    yaxis_title=\"Theta (per day)\",\n",
    "    template=\"plotly_white\"\n",
    ")\n",
    "\n",
    "fig.show()"
   ]
  },
  {
   "cell_type": "markdown",
   "metadata": {},
   "source": [
    "### **Step 5: AUD/USD Option Risk Analysis**"
   ]
  },
  {
   "cell_type": "markdown",
   "metadata": {},
   "source": [
    "#### 1) Call Greeks vs Spot Price"
   ]
  },
  {
   "cell_type": "code",
   "execution_count": 19,
   "metadata": {},
   "outputs": [
    {
     "data": {
      "image/png": "[encoded data removed]",
      "text/plain": [
       "<Figure size 2000x1000 with 4 Axes>"
      ]
     },
     "metadata": {},
     "output_type": "display_data"
    }
   ],
   "source": [
    "fig, ax = plt.subplots(2, 2, figsize=(20, 10))\n",
    "\n",
    "# Define Greeks and subplot positions\n",
    "greeks = {\n",
    "    (0, 0): ('call_delta', 'Call Delta'),\n",
    "    (0, 1): ('gamma', 'Gamma'),\n",
    "    (1, 0): ('vega', 'Vega'),\n",
    "    (1, 1): ('call_theta', 'Call Theta')\n",
    "}\n",
    "\n",
    "for (i, j), (attr, title) in greeks.items():\n",
    "    for label, tau in d.items():\n",
    "        y_values = []  \n",
    "        for s in x:\n",
    "            opt = BS(s, strike, rate, tau, vol)\n",
    "            y_values.append(getattr(opt, attr))  \n",
    "        ax[i, j].plot(x, y_values, label=label)\n",
    "        ax[i, j].set_title(title)\n",
    "        ax[i, j].legend()\n",
    "        ax[i, j].grid(True)\n",
    "        ax[i,j].set_xlabel(\"Spot Price\")\n",
    "\n",
    "\n",
    "fig.suptitle(\"Call Greeks vs Spot Price\", fontsize=20)\n",
    "plt.tight_layout(rect=[0, 0, 1, 0.95])\n",
    "plt.show()\n"
   ]
  },
  {
   "cell_type": "markdown",
   "metadata": {},
   "source": [
    "#### 2) Put Greeks vs Spot Price"
   ]
  },
  {
   "cell_type": "code",
   "execution_count": 20,
   "metadata": {},
   "outputs": [
    {
     "data": {
      "image/png": "[encoded data removed]",
      "text/plain": [
       "<Figure size 2000x1000 with 4 Axes>"
      ]
     },
     "metadata": {},
     "output_type": "display_data"
    }
   ],
   "source": [
    "fig, ax = plt.subplots(2, 2, figsize=(20, 10))\n",
    "\n",
    "greeks = {\n",
    "    (0, 0): ('put_delta', 'Put Delta'),\n",
    "    (0, 1): ('gamma', 'Gamma'),\n",
    "    (1, 0): ('vega', 'Vega'),\n",
    "    (1, 1): ('put_theta', 'Put Theta')\n",
    "}\n",
    "\n",
    "for (i, j), (attr, title) in greeks.items():\n",
    "    for label, tau in d.items():\n",
    "        y_values = []  \n",
    "        for s in x:\n",
    "            opt = BS(s, strike, rate, tau, vol)\n",
    "            y_values.append(getattr(opt, attr))  \n",
    "        ax[i, j].plot(x, y_values, label=label)\n",
    "        ax[i, j].set_title(title)\n",
    "        ax[i, j].legend()\n",
    "        ax[i, j].grid(True)\n",
    "        ax[i,j].set_xlabel(\"Spot Price\")\n",
    "\n",
    "fig.suptitle(\"Put Greeks vs Spot Price\", fontsize=20)\n",
    "plt.tight_layout(rect=[0, 0, 1, 0.95])\n",
    "plt.show()"
   ]
  }
 ],
 "metadata": {
  "kernelspec": {
   "display_name": "Python 3 (ipykernel)",
   "language": "python",
   "name": "python3"
  },
  "language_info": {
   "codemirror_mode": {
    "name": "ipython",
    "version": 3
   },
   "file_extension": ".py",
   "mimetype": "text/x-python",
   "name": "python",
   "nbconvert_exporter": "python",
   "pygments_lexer": "ipython3",
   "version": "3.10.18"
  },
  "latex_envs": {
   "LaTeX_envs_menu_present": true,
   "autoclose": false,
   "autocomplete": true,
   "bibliofile": "biblio.bib",
   "cite_by": "apalike",
   "current_citInitial": 1,
   "eqLabelWithNumbers": true,
   "eqNumInitial": 1,
   "hotkeys": {
    "equation": "Ctrl-E",
    "itemize": "Ctrl-I"
   },
   "labels_anchors": false,
   "latex_user_defs": false,
   "report_style_numbering": false,
   "user_envs_cfg": false
  },
  "nbTranslate": {
   "displayLangs": [
    "*"
   ],
   "hotkey": "alt-t",
   "langInMainMenu": true,
   "sourceLang": "en",
   "targetLang": "fr",
   "useGoogleTranslate": true
  },
  "toc": {
   "base_numbering": 1,
   "nav_menu": {},
   "number_sections": true,
   "sideBar": true,
   "skip_h1_title": true,
   "title_cell": "Table of Contents",
   "title_sidebar": "Contents",
   "toc_cell": false,
   "toc_position": {
    "height": "calc(100% - 180px)",
    "left": "10px",
    "top": "150px",
    "width": "341.328125px"
   },
   "toc_section_display": true,
   "toc_window_display": false
  },
  "varInspector": {
   "cols": {
    "lenName": 16,
    "lenType": 16,
    "lenVar": 40
   },
   "kernels_config": {
    "python": {
     "delete_cmd_postfix": "",
     "delete_cmd_prefix": "del ",
     "library": "var_list.py",
     "varRefreshCmd": "print(var_dic_list())"
    },
    "r": {
     "delete_cmd_postfix": ") ",
     "delete_cmd_prefix": "rm(",
     "library": "var_list.r",
     "varRefreshCmd": "cat(var_dic_list()) "
    }
   },
   "types_to_exclude": [
    "module",
    "function",
    "builtin_function_or_method",
    "instance",
    "_Feature"
   ],
   "window_display": false
  }
 },
 "nbformat": 4,
 "nbformat_minor": 4
}
